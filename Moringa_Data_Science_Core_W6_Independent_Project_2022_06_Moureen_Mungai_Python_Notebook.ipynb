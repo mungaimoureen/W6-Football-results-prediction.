{
  "cells": [
    {
      "cell_type": "markdown",
      "metadata": {
        "id": "view-in-github",
        "colab_type": "text"
      },
      "source": [
        "<a href=\"https://colab.research.google.com/github/mungaimoureen/W6-Football-results-prediction./blob/main/Moringa_Data_Science_Core_W6_Independent_Project_2022_06_Moureen_Mungai_Python_Notebook.ipynb\" target=\"_parent\"><img src=\"https://colab.research.google.com/assets/colab-badge.svg\" alt=\"Open In Colab\"/></a>"
      ]
    },
    {
      "cell_type": "markdown",
      "metadata": {
        "id": "nbnD5YHy6OUK"
      },
      "source": [
        "#  Football Results Predictions\n"
      ]
    },
    {
      "cell_type": "markdown",
      "metadata": {
        "id": "XB7Q5t5tbAd0"
      },
      "source": [
        "Football results Prediction\n",
        "\n",
        "a) Specifying the Data Analysis Question\n",
        "To create a model to predict the result of a game between team 1 and team 2 using variables, home score and rank, away score and rank and the tournament.\n",
        "\n",
        "b.) Defining metric for success.\n",
        "\n",
        "For this analysis to work, our models needs to meet the objective of the task. The model will take on the assumptions of polynomial and logistic regression and give the least RMSE score. The project will be considered successful when the created models are at least 80% accurate in predicting the results of the matches \n",
        "  \n",
        "\n",
        "c.) Understanding the context.\n",
        "The data in this analysis falls within the context of soccer. The FIFA/Coca-Cola World Ranking was developed over two years during which time a large number of different algorithms was tested and extensively discussed. Throughout this review and consultation process, the main aim was to identify an algorithm that is not only intuitive, easy to understand and improves overall accuracy of the formula, but also addresses feedback received about the previous model and provides fair and equal opportunities for all teams across all confederations to ascend the FWR.\n",
        "\n",
        "Each of these factors have varying significance in terms of the influence they have in predicting the result of a game between team 1 and team 2, based on who's home and who's away, and the tournament\n",
        "\n",
        "d.)Project design.\n",
        "The following steps were implemented\n",
        "\n",
        "1.) Business Understanding, \n",
        "\n",
        "2.)  Acquire the datasets with appropriate data for our project  \n",
        "3.) Data Exploration\n",
        "\n",
        "4.) Data Wrangling, performed all data cleaning and preparation to make my data ready for analysis.\n",
        "\n",
        "5.) EDA, here is where I did my analysis and visualization of the data.\n",
        "\n",
        "6.) Feature Engineering, preparing my data for modeling.\n",
        "\n",
        "7.) Model Development.\n",
        "\n",
        "e.) Data Relevance\n",
        "The appropriate datasets for this projects are ones that contain data on the results of different matches and the rankings of the teams during those matches\n"
      ]
    },
    {
      "cell_type": "markdown",
      "metadata": {
        "id": "vpaQF-xhHbqy"
      },
      "source": [
        "## Importing Libraries"
      ]
    },
    {
      "cell_type": "code",
      "execution_count": null,
      "metadata": {
        "id": "HpecV8rqEeHS"
      },
      "outputs": [],
      "source": [
        "# import relevant libraries\n",
        "import pandas as pd\n",
        "import numpy as np\n",
        "import matplotlib.pyplot as plt\n",
        "%matplotlib inline\n",
        "import seaborn as sns\n",
        "import datetime as dt\n"
      ]
    },
    {
      "cell_type": "code",
      "execution_count": null,
      "metadata": {
        "id": "8KFjna85poP7"
      },
      "outputs": [],
      "source": [
        "from sklearn.preprocessing import PolynomialFeatures\n",
        "from sklearn.model_selection import train_test_split\n",
        "from sklearn.linear_model import LogisticRegression\n",
        "from sklearn.preprocessing import PolynomialFeatures\n",
        "from sklearn.model_selection import train_test_split\n",
        "from sklearn.linear_model import LinearRegression"
      ]
    },
    {
      "cell_type": "code",
      "execution_count": null,
      "metadata": {
        "colab": {
          "base_uri": "https://localhost:8080/"
        },
        "id": "ZxI9_N0VDc3W",
        "outputId": "ac725b7c-a6b9-440d-9ddf-507d2ee3fde3"
      },
      "outputs": [
        {
          "name": "stdout",
          "output_type": "stream",
          "text": [
            "As the xlwt package is no longer maintained, the xlwt engine will be removed in a future version of pandas. This is the only engine in pandas that supports writing in the xls format. Install openpyxl and write to an xlsx file instead.\n",
            "\n",
            ": boolean\n",
            "    use_inf_as_null had been deprecated and will be removed in a future\n",
            "    version. Use `use_inf_as_na` instead.\n",
            "\n"
          ]
        }
      ],
      "source": [
        "# disable future warnings by running this code\n",
        "import warnings\n",
        "warnings.simplefilter(action='ignore', category=FutureWarning)\n",
        "pd.reset_option('all')"
      ]
    },
    {
      "cell_type": "markdown",
      "metadata": {
        "id": "OxIoh3aeHpIf"
      },
      "source": [
        "## Loading the Dataset "
      ]
    },
    {
      "cell_type": "code",
      "execution_count": null,
      "metadata": {
        "id": "6yH6qPFwZeeO"
      },
      "outputs": [],
      "source": [
        "# load dataset with ranking data.\n",
        "rankings = pd.read_csv('/content/fifa_ranking.csv')\n",
        "\n",
        "# load dataset with results data.\n",
        "results = pd.read_csv('/content/results.csv')"
      ]
    },
    {
      "cell_type": "markdown",
      "metadata": {
        "id": "5lo1hPZw1zJh"
      },
      "source": [
        "## Reading the Datasets\n",
        "### a. Rankings Dataset"
      ]
    },
    {
      "cell_type": "code",
      "execution_count": null,
      "metadata": {
        "colab": {
          "base_uri": "https://localhost:8080/",
          "height": 270
        },
        "id": "puBDdpsy1yTM",
        "outputId": "7de36f13-0d0b-4504-af15-9a7b562fdc0e"
      },
      "outputs": [
        {
          "data": {
            "text/html": [
              "\n",
              "  <div id=\"df-bbe1e5fe-060e-4487-8277-c1b5712d0905\">\n",
              "    <div class=\"colab-df-container\">\n",
              "      <div>\n",
              "<style scoped>\n",
              "    .dataframe tbody tr th:only-of-type {\n",
              "        vertical-align: middle;\n",
              "    }\n",
              "\n",
              "    .dataframe tbody tr th {\n",
              "        vertical-align: top;\n",
              "    }\n",
              "\n",
              "    .dataframe thead th {\n",
              "        text-align: right;\n",
              "    }\n",
              "</style>\n",
              "<table border=\"1\" class=\"dataframe\">\n",
              "  <thead>\n",
              "    <tr style=\"text-align: right;\">\n",
              "      <th></th>\n",
              "      <th>rank</th>\n",
              "      <th>country_full</th>\n",
              "      <th>country_abrv</th>\n",
              "      <th>total_points</th>\n",
              "      <th>previous_points</th>\n",
              "      <th>rank_change</th>\n",
              "      <th>cur_year_avg</th>\n",
              "      <th>cur_year_avg_weighted</th>\n",
              "      <th>last_year_avg</th>\n",
              "      <th>last_year_avg_weighted</th>\n",
              "      <th>two_year_ago_avg</th>\n",
              "      <th>two_year_ago_weighted</th>\n",
              "      <th>three_year_ago_avg</th>\n",
              "      <th>three_year_ago_weighted</th>\n",
              "      <th>confederation</th>\n",
              "      <th>rank_date</th>\n",
              "    </tr>\n",
              "  </thead>\n",
              "  <tbody>\n",
              "    <tr>\n",
              "      <th>0</th>\n",
              "      <td>1</td>\n",
              "      <td>Germany</td>\n",
              "      <td>GER</td>\n",
              "      <td>0.0</td>\n",
              "      <td>57</td>\n",
              "      <td>0</td>\n",
              "      <td>0.0</td>\n",
              "      <td>0.0</td>\n",
              "      <td>0.0</td>\n",
              "      <td>0.0</td>\n",
              "      <td>0.0</td>\n",
              "      <td>0.0</td>\n",
              "      <td>0.0</td>\n",
              "      <td>0.0</td>\n",
              "      <td>UEFA</td>\n",
              "      <td>1993-08-08</td>\n",
              "    </tr>\n",
              "    <tr>\n",
              "      <th>1</th>\n",
              "      <td>2</td>\n",
              "      <td>Italy</td>\n",
              "      <td>ITA</td>\n",
              "      <td>0.0</td>\n",
              "      <td>57</td>\n",
              "      <td>0</td>\n",
              "      <td>0.0</td>\n",
              "      <td>0.0</td>\n",
              "      <td>0.0</td>\n",
              "      <td>0.0</td>\n",
              "      <td>0.0</td>\n",
              "      <td>0.0</td>\n",
              "      <td>0.0</td>\n",
              "      <td>0.0</td>\n",
              "      <td>UEFA</td>\n",
              "      <td>1993-08-08</td>\n",
              "    </tr>\n",
              "    <tr>\n",
              "      <th>2</th>\n",
              "      <td>3</td>\n",
              "      <td>Switzerland</td>\n",
              "      <td>SUI</td>\n",
              "      <td>0.0</td>\n",
              "      <td>50</td>\n",
              "      <td>9</td>\n",
              "      <td>0.0</td>\n",
              "      <td>0.0</td>\n",
              "      <td>0.0</td>\n",
              "      <td>0.0</td>\n",
              "      <td>0.0</td>\n",
              "      <td>0.0</td>\n",
              "      <td>0.0</td>\n",
              "      <td>0.0</td>\n",
              "      <td>UEFA</td>\n",
              "      <td>1993-08-08</td>\n",
              "    </tr>\n",
              "    <tr>\n",
              "      <th>3</th>\n",
              "      <td>4</td>\n",
              "      <td>Sweden</td>\n",
              "      <td>SWE</td>\n",
              "      <td>0.0</td>\n",
              "      <td>55</td>\n",
              "      <td>0</td>\n",
              "      <td>0.0</td>\n",
              "      <td>0.0</td>\n",
              "      <td>0.0</td>\n",
              "      <td>0.0</td>\n",
              "      <td>0.0</td>\n",
              "      <td>0.0</td>\n",
              "      <td>0.0</td>\n",
              "      <td>0.0</td>\n",
              "      <td>UEFA</td>\n",
              "      <td>1993-08-08</td>\n",
              "    </tr>\n",
              "    <tr>\n",
              "      <th>4</th>\n",
              "      <td>5</td>\n",
              "      <td>Argentina</td>\n",
              "      <td>ARG</td>\n",
              "      <td>0.0</td>\n",
              "      <td>51</td>\n",
              "      <td>5</td>\n",
              "      <td>0.0</td>\n",
              "      <td>0.0</td>\n",
              "      <td>0.0</td>\n",
              "      <td>0.0</td>\n",
              "      <td>0.0</td>\n",
              "      <td>0.0</td>\n",
              "      <td>0.0</td>\n",
              "      <td>0.0</td>\n",
              "      <td>CONMEBOL</td>\n",
              "      <td>1993-08-08</td>\n",
              "    </tr>\n",
              "  </tbody>\n",
              "</table>\n",
              "</div>\n",
              "      <button class=\"colab-df-convert\" onclick=\"convertToInteractive('df-bbe1e5fe-060e-4487-8277-c1b5712d0905')\"\n",
              "              title=\"Convert this dataframe to an interactive table.\"\n",
              "              style=\"display:none;\">\n",
              "        \n",
              "  <svg xmlns=\"http://www.w3.org/2000/svg\" height=\"24px\"viewBox=\"0 0 24 24\"\n",
              "       width=\"24px\">\n",
              "    <path d=\"M0 0h24v24H0V0z\" fill=\"none\"/>\n",
              "    <path d=\"M18.56 5.44l.94 2.06.94-2.06 2.06-.94-2.06-.94-.94-2.06-.94 2.06-2.06.94zm-11 1L8.5 8.5l.94-2.06 2.06-.94-2.06-.94L8.5 2.5l-.94 2.06-2.06.94zm10 10l.94 2.06.94-2.06 2.06-.94-2.06-.94-.94-2.06-.94 2.06-2.06.94z\"/><path d=\"M17.41 7.96l-1.37-1.37c-.4-.4-.92-.59-1.43-.59-.52 0-1.04.2-1.43.59L10.3 9.45l-7.72 7.72c-.78.78-.78 2.05 0 2.83L4 21.41c.39.39.9.59 1.41.59.51 0 1.02-.2 1.41-.59l7.78-7.78 2.81-2.81c.8-.78.8-2.07 0-2.86zM5.41 20L4 18.59l7.72-7.72 1.47 1.35L5.41 20z\"/>\n",
              "  </svg>\n",
              "      </button>\n",
              "      \n",
              "  <style>\n",
              "    .colab-df-container {\n",
              "      display:flex;\n",
              "      flex-wrap:wrap;\n",
              "      gap: 12px;\n",
              "    }\n",
              "\n",
              "    .colab-df-convert {\n",
              "      background-color: #E8F0FE;\n",
              "      border: none;\n",
              "      border-radius: 50%;\n",
              "      cursor: pointer;\n",
              "      display: none;\n",
              "      fill: #1967D2;\n",
              "      height: 32px;\n",
              "      padding: 0 0 0 0;\n",
              "      width: 32px;\n",
              "    }\n",
              "\n",
              "    .colab-df-convert:hover {\n",
              "      background-color: #E2EBFA;\n",
              "      box-shadow: 0px 1px 2px rgba(60, 64, 67, 0.3), 0px 1px 3px 1px rgba(60, 64, 67, 0.15);\n",
              "      fill: #174EA6;\n",
              "    }\n",
              "\n",
              "    [theme=dark] .colab-df-convert {\n",
              "      background-color: #3B4455;\n",
              "      fill: #D2E3FC;\n",
              "    }\n",
              "\n",
              "    [theme=dark] .colab-df-convert:hover {\n",
              "      background-color: #434B5C;\n",
              "      box-shadow: 0px 1px 3px 1px rgba(0, 0, 0, 0.15);\n",
              "      filter: drop-shadow(0px 1px 2px rgba(0, 0, 0, 0.3));\n",
              "      fill: #FFFFFF;\n",
              "    }\n",
              "  </style>\n",
              "\n",
              "      <script>\n",
              "        const buttonEl =\n",
              "          document.querySelector('#df-bbe1e5fe-060e-4487-8277-c1b5712d0905 button.colab-df-convert');\n",
              "        buttonEl.style.display =\n",
              "          google.colab.kernel.accessAllowed ? 'block' : 'none';\n",
              "\n",
              "        async function convertToInteractive(key) {\n",
              "          const element = document.querySelector('#df-bbe1e5fe-060e-4487-8277-c1b5712d0905');\n",
              "          const dataTable =\n",
              "            await google.colab.kernel.invokeFunction('convertToInteractive',\n",
              "                                                     [key], {});\n",
              "          if (!dataTable) return;\n",
              "\n",
              "          const docLinkHtml = 'Like what you see? Visit the ' +\n",
              "            '<a target=\"_blank\" href=https://colab.research.google.com/notebooks/data_table.ipynb>data table notebook</a>'\n",
              "            + ' to learn more about interactive tables.';\n",
              "          element.innerHTML = '';\n",
              "          dataTable['output_type'] = 'display_data';\n",
              "          await google.colab.output.renderOutput(dataTable, element);\n",
              "          const docLink = document.createElement('div');\n",
              "          docLink.innerHTML = docLinkHtml;\n",
              "          element.appendChild(docLink);\n",
              "        }\n",
              "      </script>\n",
              "    </div>\n",
              "  </div>\n",
              "  "
            ],
            "text/plain": [
              "   rank country_full country_abrv  total_points  previous_points  rank_change  \\\n",
              "0     1      Germany          GER           0.0               57            0   \n",
              "1     2        Italy          ITA           0.0               57            0   \n",
              "2     3  Switzerland          SUI           0.0               50            9   \n",
              "3     4       Sweden          SWE           0.0               55            0   \n",
              "4     5    Argentina          ARG           0.0               51            5   \n",
              "\n",
              "   cur_year_avg  cur_year_avg_weighted  last_year_avg  last_year_avg_weighted  \\\n",
              "0           0.0                    0.0            0.0                     0.0   \n",
              "1           0.0                    0.0            0.0                     0.0   \n",
              "2           0.0                    0.0            0.0                     0.0   \n",
              "3           0.0                    0.0            0.0                     0.0   \n",
              "4           0.0                    0.0            0.0                     0.0   \n",
              "\n",
              "   two_year_ago_avg  two_year_ago_weighted  three_year_ago_avg  \\\n",
              "0               0.0                    0.0                 0.0   \n",
              "1               0.0                    0.0                 0.0   \n",
              "2               0.0                    0.0                 0.0   \n",
              "3               0.0                    0.0                 0.0   \n",
              "4               0.0                    0.0                 0.0   \n",
              "\n",
              "   three_year_ago_weighted confederation   rank_date  \n",
              "0                      0.0          UEFA  1993-08-08  \n",
              "1                      0.0          UEFA  1993-08-08  \n",
              "2                      0.0          UEFA  1993-08-08  \n",
              "3                      0.0          UEFA  1993-08-08  \n",
              "4                      0.0      CONMEBOL  1993-08-08  "
            ]
          },
          "execution_count": 7,
          "metadata": {},
          "output_type": "execute_result"
        }
      ],
      "source": [
        "# preview the top 5 entries of the dataset\n",
        "rankings.head()"
      ]
    },
    {
      "cell_type": "code",
      "execution_count": null,
      "metadata": {
        "colab": {
          "base_uri": "https://localhost:8080/"
        },
        "id": "kIdzvL6heULF",
        "outputId": "67866a05-e446-44dd-8597-4bfe0cda6d84"
      },
      "outputs": [
        {
          "name": "stdout",
          "output_type": "stream",
          "text": [
            "<class 'pandas.core.frame.DataFrame'>\n",
            "RangeIndex: 57793 entries, 0 to 57792\n",
            "Data columns (total 16 columns):\n",
            " #   Column                   Non-Null Count  Dtype  \n",
            "---  ------                   --------------  -----  \n",
            " 0   rank                     57793 non-null  int64  \n",
            " 1   country_full             57793 non-null  object \n",
            " 2   country_abrv             57793 non-null  object \n",
            " 3   total_points             57793 non-null  float64\n",
            " 4   previous_points          57793 non-null  int64  \n",
            " 5   rank_change              57793 non-null  int64  \n",
            " 6   cur_year_avg             57793 non-null  float64\n",
            " 7   cur_year_avg_weighted    57793 non-null  float64\n",
            " 8   last_year_avg            57793 non-null  float64\n",
            " 9   last_year_avg_weighted   57793 non-null  float64\n",
            " 10  two_year_ago_avg         57793 non-null  float64\n",
            " 11  two_year_ago_weighted    57793 non-null  float64\n",
            " 12  three_year_ago_avg       57793 non-null  float64\n",
            " 13  three_year_ago_weighted  57793 non-null  float64\n",
            " 14  confederation            57793 non-null  object \n",
            " 15  rank_date                57793 non-null  object \n",
            "dtypes: float64(9), int64(3), object(4)\n",
            "memory usage: 7.1+ MB\n"
          ]
        }
      ],
      "source": [
        "# check the general information about our dataset\n",
        "# the information includes the number of entries and columns,\n",
        "# name and data type of each column,\n",
        "# number of non-null values in every column,\n",
        "# distribution of each data type.\n",
        "rankings.info()"
      ]
    },
    {
      "cell_type": "code",
      "execution_count": null,
      "metadata": {
        "colab": {
          "base_uri": "https://localhost:8080/"
        },
        "id": "Si0np4wk5fBU",
        "outputId": "fa35e29d-ab36-43ad-9abc-b88076383393"
      },
      "outputs": [
        {
          "data": {
            "text/plain": [
              "str"
            ]
          },
          "execution_count": 10,
          "metadata": {},
          "output_type": "execute_result"
        }
      ],
      "source": [
        "# change data type of 'date' column\n",
        "rankings['rank_date'] = pd.to_datetime(rankings['rank_date'])\n",
        "# see change string variable.\n",
        "type('rank_date')"
      ]
    },
    {
      "cell_type": "markdown",
      "metadata": {
        "id": "KLLbcYyZ0ikd"
      },
      "source": [
        "### b. Results Dataset"
      ]
    },
    {
      "cell_type": "code",
      "execution_count": null,
      "metadata": {
        "colab": {
          "base_uri": "https://localhost:8080/",
          "height": 206
        },
        "id": "WJSuX3Az0wFQ",
        "outputId": "f77329fe-34f8-4424-bea8-5ed9bf1c4e62"
      },
      "outputs": [
        {
          "data": {
            "text/html": [
              "\n",
              "  <div id=\"df-bd3682d3-5539-4b0c-a4e5-4caf97529c00\">\n",
              "    <div class=\"colab-df-container\">\n",
              "      <div>\n",
              "<style scoped>\n",
              "    .dataframe tbody tr th:only-of-type {\n",
              "        vertical-align: middle;\n",
              "    }\n",
              "\n",
              "    .dataframe tbody tr th {\n",
              "        vertical-align: top;\n",
              "    }\n",
              "\n",
              "    .dataframe thead th {\n",
              "        text-align: right;\n",
              "    }\n",
              "</style>\n",
              "<table border=\"1\" class=\"dataframe\">\n",
              "  <thead>\n",
              "    <tr style=\"text-align: right;\">\n",
              "      <th></th>\n",
              "      <th>date</th>\n",
              "      <th>home_team</th>\n",
              "      <th>away_team</th>\n",
              "      <th>home_score</th>\n",
              "      <th>away_score</th>\n",
              "      <th>tournament</th>\n",
              "    </tr>\n",
              "  </thead>\n",
              "  <tbody>\n",
              "    <tr>\n",
              "      <th>0</th>\n",
              "      <td>1872-11</td>\n",
              "      <td>Scotland</td>\n",
              "      <td>England</td>\n",
              "      <td>0</td>\n",
              "      <td>0</td>\n",
              "      <td>Friendly</td>\n",
              "    </tr>\n",
              "    <tr>\n",
              "      <th>1</th>\n",
              "      <td>1873-03</td>\n",
              "      <td>England</td>\n",
              "      <td>Scotland</td>\n",
              "      <td>4</td>\n",
              "      <td>2</td>\n",
              "      <td>Friendly</td>\n",
              "    </tr>\n",
              "    <tr>\n",
              "      <th>2</th>\n",
              "      <td>1874-03</td>\n",
              "      <td>Scotland</td>\n",
              "      <td>England</td>\n",
              "      <td>2</td>\n",
              "      <td>1</td>\n",
              "      <td>Friendly</td>\n",
              "    </tr>\n",
              "    <tr>\n",
              "      <th>3</th>\n",
              "      <td>1875-03</td>\n",
              "      <td>England</td>\n",
              "      <td>Scotland</td>\n",
              "      <td>2</td>\n",
              "      <td>2</td>\n",
              "      <td>Friendly</td>\n",
              "    </tr>\n",
              "    <tr>\n",
              "      <th>4</th>\n",
              "      <td>1876-03</td>\n",
              "      <td>Scotland</td>\n",
              "      <td>England</td>\n",
              "      <td>3</td>\n",
              "      <td>0</td>\n",
              "      <td>Friendly</td>\n",
              "    </tr>\n",
              "  </tbody>\n",
              "</table>\n",
              "</div>\n",
              "      <button class=\"colab-df-convert\" onclick=\"convertToInteractive('df-bd3682d3-5539-4b0c-a4e5-4caf97529c00')\"\n",
              "              title=\"Convert this dataframe to an interactive table.\"\n",
              "              style=\"display:none;\">\n",
              "        \n",
              "  <svg xmlns=\"http://www.w3.org/2000/svg\" height=\"24px\"viewBox=\"0 0 24 24\"\n",
              "       width=\"24px\">\n",
              "    <path d=\"M0 0h24v24H0V0z\" fill=\"none\"/>\n",
              "    <path d=\"M18.56 5.44l.94 2.06.94-2.06 2.06-.94-2.06-.94-.94-2.06-.94 2.06-2.06.94zm-11 1L8.5 8.5l.94-2.06 2.06-.94-2.06-.94L8.5 2.5l-.94 2.06-2.06.94zm10 10l.94 2.06.94-2.06 2.06-.94-2.06-.94-.94-2.06-.94 2.06-2.06.94z\"/><path d=\"M17.41 7.96l-1.37-1.37c-.4-.4-.92-.59-1.43-.59-.52 0-1.04.2-1.43.59L10.3 9.45l-7.72 7.72c-.78.78-.78 2.05 0 2.83L4 21.41c.39.39.9.59 1.41.59.51 0 1.02-.2 1.41-.59l7.78-7.78 2.81-2.81c.8-.78.8-2.07 0-2.86zM5.41 20L4 18.59l7.72-7.72 1.47 1.35L5.41 20z\"/>\n",
              "  </svg>\n",
              "      </button>\n",
              "      \n",
              "  <style>\n",
              "    .colab-df-container {\n",
              "      display:flex;\n",
              "      flex-wrap:wrap;\n",
              "      gap: 12px;\n",
              "    }\n",
              "\n",
              "    .colab-df-convert {\n",
              "      background-color: #E8F0FE;\n",
              "      border: none;\n",
              "      border-radius: 50%;\n",
              "      cursor: pointer;\n",
              "      display: none;\n",
              "      fill: #1967D2;\n",
              "      height: 32px;\n",
              "      padding: 0 0 0 0;\n",
              "      width: 32px;\n",
              "    }\n",
              "\n",
              "    .colab-df-convert:hover {\n",
              "      background-color: #E2EBFA;\n",
              "      box-shadow: 0px 1px 2px rgba(60, 64, 67, 0.3), 0px 1px 3px 1px rgba(60, 64, 67, 0.15);\n",
              "      fill: #174EA6;\n",
              "    }\n",
              "\n",
              "    [theme=dark] .colab-df-convert {\n",
              "      background-color: #3B4455;\n",
              "      fill: #D2E3FC;\n",
              "    }\n",
              "\n",
              "    [theme=dark] .colab-df-convert:hover {\n",
              "      background-color: #434B5C;\n",
              "      box-shadow: 0px 1px 3px 1px rgba(0, 0, 0, 0.15);\n",
              "      filter: drop-shadow(0px 1px 2px rgba(0, 0, 0, 0.3));\n",
              "      fill: #FFFFFF;\n",
              "    }\n",
              "  </style>\n",
              "\n",
              "      <script>\n",
              "        const buttonEl =\n",
              "          document.querySelector('#df-bd3682d3-5539-4b0c-a4e5-4caf97529c00 button.colab-df-convert');\n",
              "        buttonEl.style.display =\n",
              "          google.colab.kernel.accessAllowed ? 'block' : 'none';\n",
              "\n",
              "        async function convertToInteractive(key) {\n",
              "          const element = document.querySelector('#df-bd3682d3-5539-4b0c-a4e5-4caf97529c00');\n",
              "          const dataTable =\n",
              "            await google.colab.kernel.invokeFunction('convertToInteractive',\n",
              "                                                     [key], {});\n",
              "          if (!dataTable) return;\n",
              "\n",
              "          const docLinkHtml = 'Like what you see? Visit the ' +\n",
              "            '<a target=\"_blank\" href=https://colab.research.google.com/notebooks/data_table.ipynb>data table notebook</a>'\n",
              "            + ' to learn more about interactive tables.';\n",
              "          element.innerHTML = '';\n",
              "          dataTable['output_type'] = 'display_data';\n",
              "          await google.colab.output.renderOutput(dataTable, element);\n",
              "          const docLink = document.createElement('div');\n",
              "          docLink.innerHTML = docLinkHtml;\n",
              "          element.appendChild(docLink);\n",
              "        }\n",
              "      </script>\n",
              "    </div>\n",
              "  </div>\n",
              "  "
            ],
            "text/plain": [
              "      date home_team away_team  home_score  away_score tournament\n",
              "0  1872-11  Scotland   England           0           0   Friendly\n",
              "1  1873-03   England  Scotland           4           2   Friendly\n",
              "2  1874-03  Scotland   England           2           1   Friendly\n",
              "3  1875-03   England  Scotland           2           2   Friendly\n",
              "4  1876-03  Scotland   England           3           0   Friendly"
            ]
          },
          "execution_count": 33,
          "metadata": {},
          "output_type": "execute_result"
        }
      ],
      "source": [
        "# preview top 5 entries of the dataset\n",
        "results.head()"
      ]
    },
    {
      "cell_type": "code",
      "execution_count": null,
      "metadata": {
        "colab": {
          "base_uri": "https://localhost:8080/"
        },
        "id": "lIvSLF7_1viB",
        "outputId": "f2e1c683-fa2f-42c4-a5da-a10988b3d46a"
      },
      "outputs": [
        {
          "name": "stdout",
          "output_type": "stream",
          "text": [
            "<class 'pandas.core.frame.DataFrame'>\n",
            "RangeIndex: 40839 entries, 0 to 40838\n",
            "Data columns (total 9 columns):\n",
            " #   Column      Non-Null Count  Dtype         \n",
            "---  ------      --------------  -----         \n",
            " 0   date        40839 non-null  datetime64[ns]\n",
            " 1   home_team   40839 non-null  object        \n",
            " 2   away_team   40839 non-null  object        \n",
            " 3   home_score  40839 non-null  int64         \n",
            " 4   away_score  40839 non-null  int64         \n",
            " 5   tournament  40839 non-null  object        \n",
            " 6   city        40839 non-null  object        \n",
            " 7   country     40839 non-null  object        \n",
            " 8   neutral     40839 non-null  bool          \n",
            "dtypes: bool(1), datetime64[ns](1), int64(2), object(5)\n",
            "memory usage: 2.5+ MB\n"
          ]
        }
      ],
      "source": [
        "# check the general information about our dataset\n",
        "# the information includes the number of entries and columns, name and data type of each column, number of non-null values in every column, and the distribution of each data type\n",
        "results.info()"
      ]
    },
    {
      "cell_type": "code",
      "execution_count": null,
      "metadata": {
        "colab": {
          "base_uri": "https://localhost:8080/"
        },
        "id": "NiQPkO6e172_",
        "outputId": "e95f761e-f79b-4862-a9fb-90fb764d6154"
      },
      "outputs": [
        {
          "data": {
            "text/plain": [
              "str"
            ]
          },
          "execution_count": 9,
          "metadata": {},
          "output_type": "execute_result"
        }
      ],
      "source": [
        "# change data type of 'date' column\n",
        "results['date'] = pd.to_datetime(results['date'])\n",
        "# see the change string variable.\n",
        "type('date')"
      ]
    },
    {
      "cell_type": "markdown",
      "metadata": {
        "id": "eNUtaDRu2JzX"
      },
      "source": [
        "## Data Cleaning\n",
        "### a. Rankings dataset"
      ]
    },
    {
      "cell_type": "code",
      "execution_count": null,
      "metadata": {
        "colab": {
          "base_uri": "https://localhost:8080/"
        },
        "id": "N-ta8YqsNPyk",
        "outputId": "cce1cd20-e2f0-4510-b0ce-a8d20b33ff38"
      },
      "outputs": [
        {
          "name": "stdout",
          "output_type": "stream",
          "text": [
            "Number of duplicates before cleaning: 0\n",
            "Number of duplicates after cleaning: 0\n"
          ]
        }
      ],
      "source": [
        "# check for duplicates in the dataset of type string.\n",
        "print('Number of duplicates before cleaning: '+str(rankings.duplicated().sum()))\n",
        "\n",
        "# drop duplicates\n",
        "rankings = rankings.drop_duplicates()\n",
        "\n",
        "# confirm that the duplicates have been dropped\n",
        "print('Number of duplicates after cleaning: ' +str(rankings.duplicated().sum()))"
      ]
    },
    {
      "cell_type": "code",
      "execution_count": null,
      "metadata": {
        "id": "voNAIfRvNgMF"
      },
      "outputs": [],
      "source": [
        "# rename 'country_full' to 'country' and 'rank_date' to 'date'\n",
        "rankings.rename(columns={'country_full':'country', 'rank_date':'date'}, inplace=True)"
      ]
    },
    {
      "cell_type": "code",
      "execution_count": null,
      "metadata": {
        "id": "rWVv4KvBfKxX"
      },
      "outputs": [],
      "source": [
        "# remove day from date to remain with  year and month data\n",
        "rankings['date'] = rankings['date'].dt.strftime('%Y-%m')"
      ]
    },
    {
      "cell_type": "code",
      "execution_count": null,
      "metadata": {
        "colab": {
          "base_uri": "https://localhost:8080/"
        },
        "id": "AUFWdY1cjO0u",
        "outputId": "770b6c7f-1310-42d9-fa15-e18406912349"
      },
      "outputs": [
        {
          "data": {
            "text/plain": [
              "rank       0\n",
              "country    0\n",
              "date       0\n",
              "dtype: int64"
            ]
          },
          "execution_count": 17,
          "metadata": {},
          "output_type": "execute_result"
        }
      ],
      "source": [
        "# check for missing values in the dataset\n",
        "rankings.isnull().sum()"
      ]
    },
    {
      "cell_type": "code",
      "execution_count": null,
      "metadata": {
        "colab": {
          "base_uri": "https://localhost:8080/"
        },
        "id": "lfDsKxXS9UFZ",
        "outputId": "575e44a3-eec6-4c00-bc5a-610d21858f67"
      },
      "outputs": [
        {
          "data": {
            "text/plain": [
              "array(['Germany', 'Italy', 'Switzerland', 'Sweden', 'Argentina',\n",
              "       'Republic of Ireland', 'Russia', 'Brazil', 'Norway', 'Denmark',\n",
              "       'England', 'France', 'Spain', 'Mexico', 'RCS', 'Netherlands',\n",
              "       'Nigeria', 'Belgium', 'Colombia', 'Poland', 'Romania', 'Uruguay',\n",
              "       'Portugal', 'Cameroon', 'Zambia', 'Egypt', 'Wales', 'USA',\n",
              "       \"Côte d'Ivoire\", 'Scotland', 'Tunisia', 'Greece', 'Morocco',\n",
              "       'Algeria', 'Ecuador', 'Korea Republic', 'Bulgaria', 'Austria',\n",
              "       'Costa Rica', 'Northern Ireland', 'Honduras', 'Hungary', 'Japan',\n",
              "       'Saudi Arabia', 'China PR', 'Canada', 'Finland', 'Ghana', 'Chile',\n",
              "       'Zimbabwe', 'Qatar', 'Australia', 'Iceland', 'IR Iran',\n",
              "       'United Arab Emirates', 'Yugoslavia', 'Iraq', 'Senegal', 'Bolivia',\n",
              "       'Kuwait', 'Korea DPR', 'El Salvador', 'Turkey', 'Gabon', 'Guinea',\n",
              "       'Thailand', 'Paraguay', 'Malawi', 'Israel', 'Peru', 'Zaire',\n",
              "       'Cyprus', 'Singapore', 'Mali', 'Malaysia', 'Bermuda', 'Niger',\n",
              "       'Syria', 'Bahrain', 'New Zealand', 'Madagascar', 'Malta',\n",
              "       'Jamaica', 'Lithuania', 'Trinidad and Tobago', 'Sierra Leone',\n",
              "       'Jordan', 'Kenya', 'Latvia', 'Yemen', 'Tanzania', 'Albania',\n",
              "       'Angola', 'Venezuela', 'Ethiopia', 'Burundi', 'Oman', 'Indonesia',\n",
              "       'Liberia', 'Mozambique', 'Puerto Rico', 'Swaziland', 'Hong Kong',\n",
              "       'Uganda', 'Barbados', 'Myanmar', 'Congo', 'Lebanon',\n",
              "       'South Africa', 'Luxembourg', 'Faroe Islands', 'Guatemala',\n",
              "       'Burkina Faso', 'Togo', 'Suriname', 'Fiji', 'Croatia', 'Estonia',\n",
              "       'San Marino', 'Bangladesh', 'St Vincent and the Grenadines',\n",
              "       'Netherlands Antilles', 'Mauritius', 'Benin', 'Panama', 'Sudan',\n",
              "       'Antigua and Barbuda', 'Slovenia', 'India', 'Belarus', 'Ukraine',\n",
              "       'Vietnam', 'Guinea-Bissau', 'Guyana', 'Botswana', 'St Lucia',\n",
              "       'Tahiti', 'Grenada', 'Haiti', 'Libya', 'Laos', 'Mauritania',\n",
              "       'Cape Verde Islands', 'Solomon Islands', 'Brunei Darussalam',\n",
              "       'Lesotho', 'Dominican Republic', 'Pakistan', 'Nicaragua', 'Cuba',\n",
              "       'Seychelles', 'Central African Republic', 'Gambia', 'Namibia',\n",
              "       'Cayman Islands', 'Nepal', 'Liechtenstein', 'Equatorial Guinea',\n",
              "       'Chinese Taipei', 'Sri Lanka', 'Philippines', 'Chad', 'Vanuatu',\n",
              "       'Aruba', 'Bahamas', 'Maldives', 'Macau', 'Slovakia',\n",
              "       'St Kitts and Nevis', 'Czech Republic', 'Georgia', 'FYR Macedonia',\n",
              "       'Moldova', 'Armenia', 'Azerbaijan', 'Uzbekistan', 'Turkmenistan',\n",
              "       'Kazakhstan', 'Tajikistan', 'Kyrgyz Republic', 'Somalia',\n",
              "       'Djibouti', 'Dominica', 'Rwanda', 'Belize', 'Cambodia',\n",
              "       'Bosnia and Herzegovina', 'Guam', 'Papua New Guinea', 'Tonga',\n",
              "       'Samoa', 'Andorra', 'Cook Islands', 'British Virgin Islands',\n",
              "       'Anguilla', 'São Tomé e Príncipe', 'Eritrea', 'American Samoa',\n",
              "       'Palestine', 'Mongolia', 'Turks and Caicos Islands',\n",
              "       'US Virgin Islands', 'Montserrat', 'Congo DR', 'Bhutan',\n",
              "       'Serbia and Montenegro', 'Afghanistan', 'New Caledonia', 'Serbia',\n",
              "       'Timor-Leste', 'Comoros', 'Montenegro', 'Curaçao', 'South Sudan',\n",
              "       'Kosovo', 'Gibraltar'], dtype=object)"
            ]
          },
          "execution_count": 18,
          "metadata": {},
          "output_type": "execute_result"
        }
      ],
      "source": [
        "# check for anomalies in the 'country' column by scrutinizing its unique values\n",
        "rankings.country.unique()"
      ]
    },
    {
      "cell_type": "markdown",
      "metadata": {
        "id": "3hytPZjUArCv"
      },
      "source": [
        "There are no anomalies in the 'country' column"
      ]
    },
    {
      "cell_type": "code",
      "execution_count": null,
      "metadata": {
        "colab": {
          "base_uri": "https://localhost:8080/",
          "height": 206
        },
        "id": "HqLhIWGesHdV",
        "outputId": "96c50d13-e70b-478f-d939-b78a29b0e1f4"
      },
      "outputs": [
        {
          "data": {
            "text/html": [
              "\n",
              "  <div id=\"df-354062eb-6c26-443a-babd-5786be5a1fa3\">\n",
              "    <div class=\"colab-df-container\">\n",
              "      <div>\n",
              "<style scoped>\n",
              "    .dataframe tbody tr th:only-of-type {\n",
              "        vertical-align: middle;\n",
              "    }\n",
              "\n",
              "    .dataframe tbody tr th {\n",
              "        vertical-align: top;\n",
              "    }\n",
              "\n",
              "    .dataframe thead th {\n",
              "        text-align: right;\n",
              "    }\n",
              "</style>\n",
              "<table border=\"1\" class=\"dataframe\">\n",
              "  <thead>\n",
              "    <tr style=\"text-align: right;\">\n",
              "      <th></th>\n",
              "      <th>rank</th>\n",
              "      <th>country</th>\n",
              "      <th>date</th>\n",
              "    </tr>\n",
              "  </thead>\n",
              "  <tbody>\n",
              "    <tr>\n",
              "      <th>0</th>\n",
              "      <td>1</td>\n",
              "      <td>Germany</td>\n",
              "      <td>1993-08</td>\n",
              "    </tr>\n",
              "    <tr>\n",
              "      <th>1</th>\n",
              "      <td>2</td>\n",
              "      <td>Italy</td>\n",
              "      <td>1993-08</td>\n",
              "    </tr>\n",
              "    <tr>\n",
              "      <th>2</th>\n",
              "      <td>3</td>\n",
              "      <td>Switzerland</td>\n",
              "      <td>1993-08</td>\n",
              "    </tr>\n",
              "    <tr>\n",
              "      <th>3</th>\n",
              "      <td>4</td>\n",
              "      <td>Sweden</td>\n",
              "      <td>1993-08</td>\n",
              "    </tr>\n",
              "    <tr>\n",
              "      <th>4</th>\n",
              "      <td>5</td>\n",
              "      <td>Argentina</td>\n",
              "      <td>1993-08</td>\n",
              "    </tr>\n",
              "  </tbody>\n",
              "</table>\n",
              "</div>\n",
              "      <button class=\"colab-df-convert\" onclick=\"convertToInteractive('df-354062eb-6c26-443a-babd-5786be5a1fa3')\"\n",
              "              title=\"Convert this dataframe to an interactive table.\"\n",
              "              style=\"display:none;\">\n",
              "        \n",
              "  <svg xmlns=\"http://www.w3.org/2000/svg\" height=\"24px\"viewBox=\"0 0 24 24\"\n",
              "       width=\"24px\">\n",
              "    <path d=\"M0 0h24v24H0V0z\" fill=\"none\"/>\n",
              "    <path d=\"M18.56 5.44l.94 2.06.94-2.06 2.06-.94-2.06-.94-.94-2.06-.94 2.06-2.06.94zm-11 1L8.5 8.5l.94-2.06 2.06-.94-2.06-.94L8.5 2.5l-.94 2.06-2.06.94zm10 10l.94 2.06.94-2.06 2.06-.94-2.06-.94-.94-2.06-.94 2.06-2.06.94z\"/><path d=\"M17.41 7.96l-1.37-1.37c-.4-.4-.92-.59-1.43-.59-.52 0-1.04.2-1.43.59L10.3 9.45l-7.72 7.72c-.78.78-.78 2.05 0 2.83L4 21.41c.39.39.9.59 1.41.59.51 0 1.02-.2 1.41-.59l7.78-7.78 2.81-2.81c.8-.78.8-2.07 0-2.86zM5.41 20L4 18.59l7.72-7.72 1.47 1.35L5.41 20z\"/>\n",
              "  </svg>\n",
              "      </button>\n",
              "      \n",
              "  <style>\n",
              "    .colab-df-container {\n",
              "      display:flex;\n",
              "      flex-wrap:wrap;\n",
              "      gap: 12px;\n",
              "    }\n",
              "\n",
              "    .colab-df-convert {\n",
              "      background-color: #E8F0FE;\n",
              "      border: none;\n",
              "      border-radius: 50%;\n",
              "      cursor: pointer;\n",
              "      display: none;\n",
              "      fill: #1967D2;\n",
              "      height: 32px;\n",
              "      padding: 0 0 0 0;\n",
              "      width: 32px;\n",
              "    }\n",
              "\n",
              "    .colab-df-convert:hover {\n",
              "      background-color: #E2EBFA;\n",
              "      box-shadow: 0px 1px 2px rgba(60, 64, 67, 0.3), 0px 1px 3px 1px rgba(60, 64, 67, 0.15);\n",
              "      fill: #174EA6;\n",
              "    }\n",
              "\n",
              "    [theme=dark] .colab-df-convert {\n",
              "      background-color: #3B4455;\n",
              "      fill: #D2E3FC;\n",
              "    }\n",
              "\n",
              "    [theme=dark] .colab-df-convert:hover {\n",
              "      background-color: #434B5C;\n",
              "      box-shadow: 0px 1px 3px 1px rgba(0, 0, 0, 0.15);\n",
              "      filter: drop-shadow(0px 1px 2px rgba(0, 0, 0, 0.3));\n",
              "      fill: #FFFFFF;\n",
              "    }\n",
              "  </style>\n",
              "\n",
              "      <script>\n",
              "        const buttonEl =\n",
              "          document.querySelector('#df-354062eb-6c26-443a-babd-5786be5a1fa3 button.colab-df-convert');\n",
              "        buttonEl.style.display =\n",
              "          google.colab.kernel.accessAllowed ? 'block' : 'none';\n",
              "\n",
              "        async function convertToInteractive(key) {\n",
              "          const element = document.querySelector('#df-354062eb-6c26-443a-babd-5786be5a1fa3');\n",
              "          const dataTable =\n",
              "            await google.colab.kernel.invokeFunction('convertToInteractive',\n",
              "                                                     [key], {});\n",
              "          if (!dataTable) return;\n",
              "\n",
              "          const docLinkHtml = 'Like what you see? Visit the ' +\n",
              "            '<a target=\"_blank\" href=https://colab.research.google.com/notebooks/data_table.ipynb>data table notebook</a>'\n",
              "            + ' to learn more about interactive tables.';\n",
              "          element.innerHTML = '';\n",
              "          dataTable['output_type'] = 'display_data';\n",
              "          await google.colab.output.renderOutput(dataTable, element);\n",
              "          const docLink = document.createElement('div');\n",
              "          docLink.innerHTML = docLinkHtml;\n",
              "          element.appendChild(docLink);\n",
              "        }\n",
              "      </script>\n",
              "    </div>\n",
              "  </div>\n",
              "  "
            ],
            "text/plain": [
              "   rank      country     date\n",
              "0     1      Germany  1993-08\n",
              "1     2        Italy  1993-08\n",
              "2     3  Switzerland  1993-08\n",
              "3     4       Sweden  1993-08\n",
              "4     5    Argentina  1993-08"
            ]
          },
          "execution_count": 19,
          "metadata": {},
          "output_type": "execute_result"
        }
      ],
      "source": [
        "# preview top 5 entries of the cleaned dataset\n",
        "rankings.head()"
      ]
    },
    {
      "cell_type": "code",
      "execution_count": null,
      "metadata": {
        "colab": {
          "base_uri": "https://localhost:8080/"
        },
        "id": "-Z2QX-q9fzW0",
        "outputId": "89cb45f8-6051-4c0a-a067-0924107e3c77"
      },
      "outputs": [
        {
          "data": {
            "text/plain": [
              "(57756, 3)"
            ]
          },
          "execution_count": 20,
          "metadata": {},
          "output_type": "execute_result"
        }
      ],
      "source": [
        "# check the number of remaining records after cleaning\n",
        "rankings.shape"
      ]
    },
    {
      "cell_type": "markdown",
      "metadata": {
        "id": "puy-kXdkqHlj"
      },
      "source": [
        "### b. Results dataset"
      ]
    },
    {
      "cell_type": "code",
      "execution_count": null,
      "metadata": {
        "colab": {
          "base_uri": "https://localhost:8080/"
        },
        "id": "gDbh-jfUqdPC",
        "outputId": "f5ed2383-438e-4a37-a249-92bfc61d388c"
      },
      "outputs": [
        {
          "name": "stdout",
          "output_type": "stream",
          "text": [
            "Number of duplicates before cleaning: 0\n",
            "Number of duplicates after cleaning: 0\n"
          ]
        }
      ],
      "source": [
        "# check for duplicates in the dataset\n",
        "print('Number of duplicates before cleaning: '+str(results.duplicated().sum()))\n",
        "\n",
        "# drop duplicates\n",
        "results = results.drop_duplicates()\n",
        "\n",
        "# confirm that the duplicates have been dropped\n",
        "print('Number of duplicates after cleaning: ' +str(results.duplicated().sum()))"
      ]
    },
    {
      "cell_type": "code",
      "execution_count": null,
      "metadata": {
        "id": "hE9yzlsiqdPG"
      },
      "outputs": [],
      "source": [
        "# drop the irrelevant columns \n",
        "results.drop(['country','neutral', 'city'], axis=1, inplace=True)"
      ]
    },
    {
      "cell_type": "code",
      "execution_count": null,
      "metadata": {
        "id": "XhFASoE3qdPH"
      },
      "outputs": [],
      "source": [
        "# remove day from date to remain with  year and month data\n",
        "results['date'] = results['date'].dt.strftime('%Y-%m')"
      ]
    },
    {
      "cell_type": "code",
      "execution_count": null,
      "metadata": {
        "id": "3trRsrwHoE9-"
      },
      "outputs": [],
      "source": [
        "# convert values in the 'tournament' column to two categories (Friendly and Other)\n",
        "\n",
        "# create a function that defines the change\n",
        "def tournament_type (y):\n",
        "    if y == 'Friendly':\n",
        "        return 'Friendly'\n",
        "    return 'Other'\n",
        "    \n",
        "# apply the function to the 'tournament' column\n",
        "results['tournament'] = results['tournament'].apply(lambda y: tournament_type(y))"
      ]
    },
    {
      "cell_type": "code",
      "execution_count": null,
      "metadata": {
        "colab": {
          "base_uri": "https://localhost:8080/"
        },
        "id": "RrV3Sk9dqdPH",
        "outputId": "eb12ffb5-bb87-409a-c244-eaf387f9db22"
      },
      "outputs": [
        {
          "data": {
            "text/plain": [
              "date          0\n",
              "home_team     0\n",
              "away_team     0\n",
              "home_score    0\n",
              "away_score    0\n",
              "tournament    0\n",
              "dtype: int64"
            ]
          },
          "execution_count": 25,
          "metadata": {},
          "output_type": "execute_result"
        }
      ],
      "source": [
        "# check for missing values in the dataset\n",
        "results.isnull().sum()"
      ]
    },
    {
      "cell_type": "code",
      "execution_count": null,
      "metadata": {
        "colab": {
          "base_uri": "https://localhost:8080/"
        },
        "id": "w5fP6n30FgJ7",
        "outputId": "179a8d5c-b7bb-4749-8a43-24f01274d8f7"
      },
      "outputs": [
        {
          "data": {
            "text/plain": [
              "array(['Scotland', 'England', 'Wales', 'Northern Ireland',\n",
              "       'United States', 'Uruguay', 'Austria', 'Hungary', 'Argentina',\n",
              "       'Belgium', 'France', 'Netherlands', 'Czechoslovakia',\n",
              "       'Switzerland', 'Sweden', 'Germany', 'Italy', 'Chile', 'Norway',\n",
              "       'Finland', 'Luxembourg', 'Russia', 'Denmark', 'Catalonia',\n",
              "       'Basque Country', 'Brazil', 'Japan', 'Paraguay', 'Canada',\n",
              "       'Estonia', 'Costa Rica', 'Guatemala', 'Spain', 'Brittany',\n",
              "       'Poland', 'Yugoslavia', 'New Zealand', 'Romania', 'Latvia',\n",
              "       'Galicia', 'Portugal', 'Andalusia', 'China PR', 'Australia',\n",
              "       'Lithuania', 'Turkey', 'Central Spain', 'Mexico', 'Aruba', 'Egypt',\n",
              "       'Haiti', 'Philippines', 'Bulgaria', 'Jamaica', 'Kenya', 'Bolivia',\n",
              "       'Peru', 'Honduras', 'Guyana', 'Uganda', 'Belarus', 'El Salvador',\n",
              "       'Barbados', 'Republic of Ireland', 'Trinidad and Tobago', 'Greece',\n",
              "       'Curaçao', 'Dominica', 'Silesia', 'Guadeloupe', 'Israel',\n",
              "       'Suriname', 'French Guiana', 'Cuba', 'Colombia', 'Ecuador',\n",
              "       'Saint Kitts and Nevis', 'Panama', 'Slovakia', 'Manchukuo',\n",
              "       'Croatia', 'Nicaragua', 'Afghanistan', 'India', 'Martinique',\n",
              "       'Zimbabwe', 'Iceland', 'Albania', 'Madagascar', 'Zambia',\n",
              "       'Mauritius', 'Tanzania', 'Iran', 'Djibouti', 'DR Congo', 'Vietnam',\n",
              "       'Macau', 'Ethiopia', 'Puerto Rico', 'Réunion', 'Sierra Leone',\n",
              "       'Zanzibar', 'South Korea', 'Ghana', 'South Africa',\n",
              "       'New Caledonia', 'Fiji', 'Nigeria', 'Venezuela', 'Burma',\n",
              "       'Sri Lanka', 'Tahiti', 'Gambia', 'Hong Kong', 'Singapore',\n",
              "       'Malaysia', 'Indonesia', 'Guinea-Bissau', 'German DR', 'Vanuatu',\n",
              "       'Kernow', 'Saarland', 'Cambodia', 'Lebanon', 'Pakistan',\n",
              "       'Vietnam Republic', 'North Korea', 'Togo', 'Sudan', 'Malta',\n",
              "       'Syria', 'Tunisia', 'Malawi', 'Morocco', 'Benin', 'Cameroon',\n",
              "       'Central African Republic', 'Gabon', 'Ivory Coast', 'Congo',\n",
              "       'Mali', 'North Vietnam', 'Mongolia', 'Chinese Taipei', 'Cyprus',\n",
              "       'Iraq', 'Saint Lucia', 'Grenada', 'Thailand', 'Senegal', 'Libya',\n",
              "       'Guinea', 'Algeria', 'Kuwait', 'Jordan', 'Solomon Islands',\n",
              "       'Liberia', 'Laos', 'Saint Vincent and the Grenadines', 'Bermuda',\n",
              "       'Niger', 'Bahrain', 'Montenegro', 'Palestine', 'Papua New Guinea',\n",
              "       'Burkina Faso', 'Mauritania', 'Saudi Arabia', 'Eswatini',\n",
              "       'Somalia', 'Lesotho', 'Cook Islands', 'Qatar',\n",
              "       'Antigua and Barbuda', 'Faroe Islands', 'Bangladesh', 'Oman',\n",
              "       'Yemen DPR', 'Burundi', 'Yemen', 'Mozambique', 'Guam', 'Chad',\n",
              "       'Angola', 'Dominican Republic', 'Seychelles', 'Rwanda',\n",
              "       'São Tomé and Príncipe', 'Botswana', 'Northern Cyprus',\n",
              "       'Cape Verde', 'Kyrgyzstan', 'Georgia', 'Azerbaijan', 'Kiribati',\n",
              "       'Tonga', 'Wallis Islands and Futuna', 'United Arab Emirates',\n",
              "       'Brunei', 'Equatorial Guinea', 'Liechtenstein', 'Nepal',\n",
              "       'Greenland', 'Niue', 'Samoa', 'American Samoa', 'Belize',\n",
              "       'Anguilla', 'Cayman Islands', 'Palau', 'Sint Maarten', 'Namibia',\n",
              "       'Åland Islands', 'Ynys Môn', 'Saint Martin', 'San Marino',\n",
              "       'Slovenia', 'Jersey', 'Shetland', 'Isle of Wight', 'Moldova',\n",
              "       'Ukraine', 'Kazakhstan', 'Tajikistan', 'Uzbekistan',\n",
              "       'Turkmenistan', 'Armenia', 'Czech Republic', 'Guernsey',\n",
              "       'Gibraltar', 'Isle of Man', 'North Macedonia', 'Montserrat',\n",
              "       'Serbia', 'Canary Islands', 'Bosnia and Herzegovina', 'Maldives',\n",
              "       'Andorra', 'British Virgin Islands', 'Frøya', 'Hitra',\n",
              "       'U.S. Virgin Islands', 'Corsica', 'Eritrea', 'Bahamas', 'Gotland',\n",
              "       'Saare County', 'Rhodes', 'Micronesia', 'Bhutan', 'Orkney',\n",
              "       'Monaco', 'Tuvalu', 'Sark', 'Alderney', 'Mayotte',\n",
              "       'Turks and Caicos Islands', 'East Timor', 'Western Isles',\n",
              "       'Falkland Islands', 'Kosovo', 'Republic of St. Pauli', 'Găgăuzia',\n",
              "       'Tibet', 'Crimea', 'Occitania', 'Sápmi',\n",
              "       'Northern Mariana Islands', 'Menorca', 'Comoros', 'Provence',\n",
              "       'Arameans Suryoye', 'Padania', 'Iraqi Kurdistan', 'Gozo',\n",
              "       'Bonaire', 'Western Sahara', 'Raetia', 'Darfur', 'Tamil Eelam',\n",
              "       'South Sudan', 'Abkhazia', 'St. Pierre & Miquelon', 'Artsakh',\n",
              "       'Madrid', 'Vatican City', 'Ellan Vannin', 'South Ossetia',\n",
              "       'County of Nice', 'Székely Land', 'Romani people', 'Felvidék',\n",
              "       'Chagos Islands', 'United Koreans in Japan', 'Somaliland',\n",
              "       'Western Armenia', 'Barawa', 'Kárpátalja', 'Yorkshire', 'Panjab',\n",
              "       'Matabeleland', 'Cascadia', 'Kabylia', 'Timor-Leste', 'Myanmar',\n",
              "       'Parishes of Jersey', 'Chameria', 'Saint Helena', 'Curacao'],\n",
              "      dtype=object)"
            ]
          },
          "execution_count": 26,
          "metadata": {},
          "output_type": "execute_result"
        }
      ],
      "source": [
        "# check for anomalies in the 'home_team' column by scrutinizing the unique values\n",
        "results.home_team.unique()"
      ]
    },
    {
      "cell_type": "markdown",
      "metadata": {
        "id": "Zmfo8wAsMslN"
      },
      "source": [
        "There are no anomalies in the 'home_team' column"
      ]
    },
    {
      "cell_type": "code",
      "execution_count": null,
      "metadata": {
        "colab": {
          "base_uri": "https://localhost:8080/"
        },
        "id": "2y8cTTKhNNyI",
        "outputId": "57ba3112-860e-4ff6-e6ad-d583451c54cf"
      },
      "outputs": [
        {
          "data": {
            "text/plain": [
              "array(['England', 'Scotland', 'Wales', 'Northern Ireland', 'Canada',\n",
              "       'Argentina', 'Hungary', 'Czechoslovakia', 'Uruguay', 'France',\n",
              "       'Austria', 'Switzerland', 'Netherlands', 'Belgium', 'Germany',\n",
              "       'Norway', 'Sweden', 'Italy', 'Chile', 'Catalonia', 'Finland',\n",
              "       'Russia', 'Luxembourg', 'Denmark', 'Brazil', 'Basque Country',\n",
              "       'United States', 'Philippines', 'Estonia', 'Provence',\n",
              "       'El Salvador', 'Costa Rica', 'Paraguay', 'Yugoslavia', 'Poland',\n",
              "       'Portugal', 'Spain', 'Romania', 'Australia', 'Central Spain',\n",
              "       'Mexico', 'Galicia', 'Brittany', 'Asturias', 'China PR',\n",
              "       'New Zealand', 'Latvia', 'Guatemala', 'Curaçao', 'Bulgaria',\n",
              "       'Lithuania', 'Turkey', 'Egypt', 'South Africa', 'Jamaica', 'Japan',\n",
              "       'Republic of Ireland', 'Uganda', 'Bolivia', 'Haiti',\n",
              "       'Trinidad and Tobago', 'Kenya', 'Ukraine', 'Honduras', 'Nicaragua',\n",
              "       'Greece', 'Guyana', 'Peru', 'Aruba', 'Martinique', 'Barbados',\n",
              "       'Cuba', 'Israel', 'Indonesia', 'Suriname', 'Saint Lucia',\n",
              "       'Ecuador', 'Venezuela', 'Grenada', 'India', 'Panama', 'Slovakia',\n",
              "       'Croatia', 'Lebanon', 'Manchukuo', 'Puerto Rico', 'Iran',\n",
              "       'Guadeloupe', 'Mongolia', 'Colombia', 'Tanzania', 'Zambia',\n",
              "       'Montenegro', 'Mauritius', 'Zimbabwe', 'French Guiana', 'Réunion',\n",
              "       'Albania', 'Zanzibar', 'Ethiopia', 'Madagascar', 'Dominica',\n",
              "       'South Korea', 'Djibouti', 'Dominican Republic', 'Cyprus',\n",
              "       'Iceland', 'Nigeria', 'Syria', 'DR Congo', 'Serbia',\n",
              "       'Chinese Taipei', 'Afghanistan', 'Vanuatu', 'Ghana', 'Pakistan',\n",
              "       'German DR', 'Sierra Leone', 'Guinea-Bissau', 'Gambia', 'Saarland',\n",
              "       'Tahiti', 'Burundi', 'Sri Lanka', 'Thailand', 'Burma',\n",
              "       'New Caledonia', 'Cambodia', 'Malaysia', 'Vietnam Republic',\n",
              "       'Kyrgyzstan', 'Belarus', 'Moldova', 'North Vietnam', 'Togo',\n",
              "       'North Korea', 'Sudan', 'Libya', 'Hong Kong', 'Singapore', 'Malta',\n",
              "       'Benin', 'Cape Verde', 'Mali', 'Burkina Faso', 'Ivory Coast',\n",
              "       'Cameroon', 'Iraq', 'Tunisia', 'Morocco',\n",
              "       'Saint Vincent and the Grenadines', 'Guinea', 'Congo', 'Gabon',\n",
              "       'Malawi', 'Jordan', 'Senegal', 'Kuwait', 'Papua New Guinea',\n",
              "       'Solomon Islands', 'Liberia', 'Somalia', 'Laos', 'Saudi Arabia',\n",
              "       'Algeria', 'Chad', 'Central African Republic', 'Bermuda',\n",
              "       'Palestine', 'Yemen', 'Bahrain', 'Wallis Islands and Futuna',\n",
              "       'Niger', 'Corsica', 'Western Australia', 'Botswana', 'Fiji',\n",
              "       'Eswatini', 'Qatar', 'Lesotho', 'Bahamas', 'Brunei',\n",
              "       'Cook Islands', 'Yemen DPR', 'United Arab Emirates',\n",
              "       'Faroe Islands', 'Nepal', 'Antigua and Barbuda', 'Bangladesh',\n",
              "       'Seychelles', 'Oman', 'Equatorial Guinea', 'Mozambique',\n",
              "       'Mauritania', 'Angola', 'São Tomé and Príncipe', 'Macau',\n",
              "       'Saint Kitts and Nevis', 'Armenia', 'Kazakhstan', 'Tonga',\n",
              "       'Kiribati', 'Tuvalu', 'Samoa', 'Greenland', 'Northern Cyprus',\n",
              "       'Rwanda', 'Liechtenstein', 'Bhutan', 'American Samoa',\n",
              "       'Cayman Islands', 'British Virgin Islands', 'Sint Maarten',\n",
              "       'Ynys Môn', 'Shetland', 'Åland Islands', 'Saint Martin',\n",
              "       'San Marino', 'Montserrat', 'Anguilla', 'Guernsey',\n",
              "       'Isle of Wight', 'Jersey', 'Georgia', 'Guam', 'Turkmenistan',\n",
              "       'Slovenia', 'Uzbekistan', 'Eritrea', 'Tajikistan', 'Namibia',\n",
              "       'Azerbaijan', 'Czech Republic', 'Vietnam', 'Isle of Man',\n",
              "       'Gibraltar', 'North Macedonia', 'Belize', 'Bosnia and Herzegovina',\n",
              "       'Maldives', 'Andorra', 'Frøya', 'Hitra',\n",
              "       'Northern Mariana Islands', 'Kernow', 'Turks and Caicos Islands',\n",
              "       'U.S. Virgin Islands', 'Micronesia', 'Saare County', 'Rhodes',\n",
              "       'Tibet', 'Orkney', 'Falkland Islands', 'Mayotte', 'Monaco',\n",
              "       'Vatican City', 'East Timor', 'Gotland', 'Alderney', 'Sark',\n",
              "       'Western Isles', 'Sápmi', 'Crimea', 'Comoros', 'Menorca',\n",
              "       'Iraqi Kurdistan', 'Padania', 'Arameans Suryoye', 'Occitania',\n",
              "       'Gozo', 'Two Sicilies', 'St. Pierre & Miquelon', 'Bonaire',\n",
              "       'Western Sahara', 'Raetia', 'Darfur', 'Tamil Eelam', 'Artsakh',\n",
              "       'Abkhazia', 'South Sudan', 'Andalusia', 'South Ossetia',\n",
              "       'County of Nice', 'Ellan Vannin', 'Romani people', 'Felvidék',\n",
              "       'Chagos Islands', 'Székely Land', 'Somaliland', 'Western Armenia',\n",
              "       'Panjab', 'Kosovo', 'Kárpátalja', 'Yorkshire', 'Surrey',\n",
              "       'Cascadia', 'Matabeleland', 'Kabylia', 'United Koreans in Japan',\n",
              "       'Timor-Leste', 'Myanmar', 'Barawa', 'Parishes of Jersey',\n",
              "       'Chameria', 'Saint Helena', 'Curacao'], dtype=object)"
            ]
          },
          "execution_count": 27,
          "metadata": {},
          "output_type": "execute_result"
        }
      ],
      "source": [
        "# check for anomalies in the 'away_team' column by scrutinizing the unique values\n",
        "results.away_team.unique()"
      ]
    },
    {
      "cell_type": "markdown",
      "metadata": {
        "id": "E1byqRyzMn7c"
      },
      "source": [
        "There are no anomalies in the 'away_team' column"
      ]
    },
    {
      "cell_type": "code",
      "execution_count": null,
      "metadata": {
        "colab": {
          "base_uri": "https://localhost:8080/",
          "height": 465
        },
        "id": "rsQSW0l_ROEq",
        "outputId": "26424d22-e432-42f2-896b-952b3e12aaea"
      },
      "outputs": [
        {
          "data": {
            "image/png": "[encoded data removed]",
            "text/plain": [
              "<Figure size 1296x504 with 2 Axes>"
            ]
          },
          "metadata": {},
          "output_type": "display_data"
        }
      ],
      "source": [
        "# check for outliers using boxplots\n",
        "\n",
        "# specify the size of the figure\n",
        "fig, ax = plt.subplots(1,2, figsize=(18,7))\n",
        "# label the figure\n",
        "fig.suptitle('Boxplots')\n",
        "\n",
        "# plot the home team scores boxplot\n",
        "sns.boxplot(data=results, y = \"home_score\", ax=ax[0])\n",
        "# label the home team scores boxplot\n",
        "ax[0].set_title('Home Team Scores')\n",
        "\n",
        "# plot the home team scores boxplot\n",
        "sns.boxplot(data=results, y = \"away_score\", ax=ax[1])\n",
        "# label the away team scores boxplot\n",
        "ax[1].set_title('Away Team Scores')\n",
        "\n",
        "# display the figure\n",
        "plt.show()"
      ]
    },
    {
      "cell_type": "markdown",
      "metadata": {
        "id": "4sZxHrSHT7rA"
      },
      "source": [
        "Our outliers in this case cannot be ruled out this is because it is a scores from the teams we will therefore retain them."
      ]
    },
    {
      "cell_type": "code",
      "execution_count": null,
      "metadata": {
        "colab": {
          "base_uri": "https://localhost:8080/",
          "height": 206
        },
        "id": "BfvFKfmxsU03",
        "outputId": "dd758ce4-296f-439a-c560-1b327b052515"
      },
      "outputs": [
        {
          "data": {
            "text/html": [
              "\n",
              "  <div id=\"df-966562df-a1d2-44b9-b1b8-7971afd87091\">\n",
              "    <div class=\"colab-df-container\">\n",
              "      <div>\n",
              "<style scoped>\n",
              "    .dataframe tbody tr th:only-of-type {\n",
              "        vertical-align: middle;\n",
              "    }\n",
              "\n",
              "    .dataframe tbody tr th {\n",
              "        vertical-align: top;\n",
              "    }\n",
              "\n",
              "    .dataframe thead th {\n",
              "        text-align: right;\n",
              "    }\n",
              "</style>\n",
              "<table border=\"1\" class=\"dataframe\">\n",
              "  <thead>\n",
              "    <tr style=\"text-align: right;\">\n",
              "      <th></th>\n",
              "      <th>date</th>\n",
              "      <th>home_team</th>\n",
              "      <th>away_team</th>\n",
              "      <th>home_score</th>\n",
              "      <th>away_score</th>\n",
              "      <th>tournament</th>\n",
              "    </tr>\n",
              "  </thead>\n",
              "  <tbody>\n",
              "    <tr>\n",
              "      <th>0</th>\n",
              "      <td>1872-11</td>\n",
              "      <td>Scotland</td>\n",
              "      <td>England</td>\n",
              "      <td>0</td>\n",
              "      <td>0</td>\n",
              "      <td>Friendly</td>\n",
              "    </tr>\n",
              "    <tr>\n",
              "      <th>1</th>\n",
              "      <td>1873-03</td>\n",
              "      <td>England</td>\n",
              "      <td>Scotland</td>\n",
              "      <td>4</td>\n",
              "      <td>2</td>\n",
              "      <td>Friendly</td>\n",
              "    </tr>\n",
              "    <tr>\n",
              "      <th>2</th>\n",
              "      <td>1874-03</td>\n",
              "      <td>Scotland</td>\n",
              "      <td>England</td>\n",
              "      <td>2</td>\n",
              "      <td>1</td>\n",
              "      <td>Friendly</td>\n",
              "    </tr>\n",
              "    <tr>\n",
              "      <th>3</th>\n",
              "      <td>1875-03</td>\n",
              "      <td>England</td>\n",
              "      <td>Scotland</td>\n",
              "      <td>2</td>\n",
              "      <td>2</td>\n",
              "      <td>Friendly</td>\n",
              "    </tr>\n",
              "    <tr>\n",
              "      <th>4</th>\n",
              "      <td>1876-03</td>\n",
              "      <td>Scotland</td>\n",
              "      <td>England</td>\n",
              "      <td>3</td>\n",
              "      <td>0</td>\n",
              "      <td>Friendly</td>\n",
              "    </tr>\n",
              "  </tbody>\n",
              "</table>\n",
              "</div>\n",
              "      <button class=\"colab-df-convert\" onclick=\"convertToInteractive('df-966562df-a1d2-44b9-b1b8-7971afd87091')\"\n",
              "              title=\"Convert this dataframe to an interactive table.\"\n",
              "              style=\"display:none;\">\n",
              "        \n",
              "  <svg xmlns=\"http://www.w3.org/2000/svg\" height=\"24px\"viewBox=\"0 0 24 24\"\n",
              "       width=\"24px\">\n",
              "    <path d=\"M0 0h24v24H0V0z\" fill=\"none\"/>\n",
              "    <path d=\"M18.56 5.44l.94 2.06.94-2.06 2.06-.94-2.06-.94-.94-2.06-.94 2.06-2.06.94zm-11 1L8.5 8.5l.94-2.06 2.06-.94-2.06-.94L8.5 2.5l-.94 2.06-2.06.94zm10 10l.94 2.06.94-2.06 2.06-.94-2.06-.94-.94-2.06-.94 2.06-2.06.94z\"/><path d=\"M17.41 7.96l-1.37-1.37c-.4-.4-.92-.59-1.43-.59-.52 0-1.04.2-1.43.59L10.3 9.45l-7.72 7.72c-.78.78-.78 2.05 0 2.83L4 21.41c.39.39.9.59 1.41.59.51 0 1.02-.2 1.41-.59l7.78-7.78 2.81-2.81c.8-.78.8-2.07 0-2.86zM5.41 20L4 18.59l7.72-7.72 1.47 1.35L5.41 20z\"/>\n",
              "  </svg>\n",
              "      </button>\n",
              "      \n",
              "  <style>\n",
              "    .colab-df-container {\n",
              "      display:flex;\n",
              "      flex-wrap:wrap;\n",
              "      gap: 12px;\n",
              "    }\n",
              "\n",
              "    .colab-df-convert {\n",
              "      background-color: #E8F0FE;\n",
              "      border: none;\n",
              "      border-radius: 50%;\n",
              "      cursor: pointer;\n",
              "      display: none;\n",
              "      fill: #1967D2;\n",
              "      height: 32px;\n",
              "      padding: 0 0 0 0;\n",
              "      width: 32px;\n",
              "    }\n",
              "\n",
              "    .colab-df-convert:hover {\n",
              "      background-color: #E2EBFA;\n",
              "      box-shadow: 0px 1px 2px rgba(60, 64, 67, 0.3), 0px 1px 3px 1px rgba(60, 64, 67, 0.15);\n",
              "      fill: #174EA6;\n",
              "    }\n",
              "\n",
              "    [theme=dark] .colab-df-convert {\n",
              "      background-color: #3B4455;\n",
              "      fill: #D2E3FC;\n",
              "    }\n",
              "\n",
              "    [theme=dark] .colab-df-convert:hover {\n",
              "      background-color: #434B5C;\n",
              "      box-shadow: 0px 1px 3px 1px rgba(0, 0, 0, 0.15);\n",
              "      filter: drop-shadow(0px 1px 2px rgba(0, 0, 0, 0.3));\n",
              "      fill: #FFFFFF;\n",
              "    }\n",
              "  </style>\n",
              "\n",
              "      <script>\n",
              "        const buttonEl =\n",
              "          document.querySelector('#df-966562df-a1d2-44b9-b1b8-7971afd87091 button.colab-df-convert');\n",
              "        buttonEl.style.display =\n",
              "          google.colab.kernel.accessAllowed ? 'block' : 'none';\n",
              "\n",
              "        async function convertToInteractive(key) {\n",
              "          const element = document.querySelector('#df-966562df-a1d2-44b9-b1b8-7971afd87091');\n",
              "          const dataTable =\n",
              "            await google.colab.kernel.invokeFunction('convertToInteractive',\n",
              "                                                     [key], {});\n",
              "          if (!dataTable) return;\n",
              "\n",
              "          const docLinkHtml = 'Like what you see? Visit the ' +\n",
              "            '<a target=\"_blank\" href=https://colab.research.google.com/notebooks/data_table.ipynb>data table notebook</a>'\n",
              "            + ' to learn more about interactive tables.';\n",
              "          element.innerHTML = '';\n",
              "          dataTable['output_type'] = 'display_data';\n",
              "          await google.colab.output.renderOutput(dataTable, element);\n",
              "          const docLink = document.createElement('div');\n",
              "          docLink.innerHTML = docLinkHtml;\n",
              "          element.appendChild(docLink);\n",
              "        }\n",
              "      </script>\n",
              "    </div>\n",
              "  </div>\n",
              "  "
            ],
            "text/plain": [
              "      date home_team away_team  home_score  away_score tournament\n",
              "0  1872-11  Scotland   England           0           0   Friendly\n",
              "1  1873-03   England  Scotland           4           2   Friendly\n",
              "2  1874-03  Scotland   England           2           1   Friendly\n",
              "3  1875-03   England  Scotland           2           2   Friendly\n",
              "4  1876-03  Scotland   England           3           0   Friendly"
            ]
          },
          "execution_count": 35,
          "metadata": {},
          "output_type": "execute_result"
        }
      ],
      "source": [
        "# preview top 5 entries of the cleaned dataset\n",
        "results.head()"
      ]
    },
    {
      "cell_type": "code",
      "execution_count": null,
      "metadata": {
        "colab": {
          "base_uri": "https://localhost:8080/"
        },
        "id": "-TEHT_M7qdPH",
        "outputId": "6114a43a-4aa2-46f0-d7fb-8ecc4d34214b"
      },
      "outputs": [
        {
          "data": {
            "text/plain": [
              "(40839, 6)"
            ]
          },
          "execution_count": 37,
          "metadata": {},
          "output_type": "execute_result"
        }
      ],
      "source": [
        "# check the number of remaining records after cleaning\n",
        "results.shape"
      ]
    },
    {
      "cell_type": "markdown",
      "metadata": {
        "id": "duxWBKrpsy8Z"
      },
      "source": [
        "## Merging the Datasets"
      ]
    },
    {
      "cell_type": "code",
      "execution_count": null,
      "metadata": {
        "colab": {
          "base_uri": "https://localhost:8080/",
          "height": 206
        },
        "id": "eP7HWzb_ghPu",
        "outputId": "50a9acc4-1e23-4ff9-d85a-926a1d266ed1"
      },
      "outputs": [
        {
          "data": {
            "text/html": [
              "\n",
              "  <div id=\"df-b8afbf6e-73d6-4e66-93d5-7a75737801e0\">\n",
              "    <div class=\"colab-df-container\">\n",
              "      <div>\n",
              "<style scoped>\n",
              "    .dataframe tbody tr th:only-of-type {\n",
              "        vertical-align: middle;\n",
              "    }\n",
              "\n",
              "    .dataframe tbody tr th {\n",
              "        vertical-align: top;\n",
              "    }\n",
              "\n",
              "    .dataframe thead th {\n",
              "        text-align: right;\n",
              "    }\n",
              "</style>\n",
              "<table border=\"1\" class=\"dataframe\">\n",
              "  <thead>\n",
              "    <tr style=\"text-align: right;\">\n",
              "      <th></th>\n",
              "      <th>date</th>\n",
              "      <th>home_team</th>\n",
              "      <th>away_team</th>\n",
              "      <th>home_score</th>\n",
              "      <th>away_score</th>\n",
              "      <th>tournament</th>\n",
              "      <th>rank</th>\n",
              "      <th>country</th>\n",
              "    </tr>\n",
              "  </thead>\n",
              "  <tbody>\n",
              "    <tr>\n",
              "      <th>0</th>\n",
              "      <td>1993-08</td>\n",
              "      <td>Colombia</td>\n",
              "      <td>Paraguay</td>\n",
              "      <td>0</td>\n",
              "      <td>0</td>\n",
              "      <td>Other</td>\n",
              "      <td>19</td>\n",
              "      <td>Colombia</td>\n",
              "    </tr>\n",
              "    <tr>\n",
              "      <th>1</th>\n",
              "      <td>1993-08</td>\n",
              "      <td>Colombia</td>\n",
              "      <td>Argentina</td>\n",
              "      <td>2</td>\n",
              "      <td>1</td>\n",
              "      <td>Other</td>\n",
              "      <td>19</td>\n",
              "      <td>Colombia</td>\n",
              "    </tr>\n",
              "    <tr>\n",
              "      <th>2</th>\n",
              "      <td>1993-08</td>\n",
              "      <td>Colombia</td>\n",
              "      <td>Peru</td>\n",
              "      <td>4</td>\n",
              "      <td>0</td>\n",
              "      <td>Other</td>\n",
              "      <td>19</td>\n",
              "      <td>Colombia</td>\n",
              "    </tr>\n",
              "    <tr>\n",
              "      <th>3</th>\n",
              "      <td>1993-08</td>\n",
              "      <td>Peru</td>\n",
              "      <td>Argentina</td>\n",
              "      <td>0</td>\n",
              "      <td>1</td>\n",
              "      <td>Other</td>\n",
              "      <td>70</td>\n",
              "      <td>Peru</td>\n",
              "    </tr>\n",
              "    <tr>\n",
              "      <th>4</th>\n",
              "      <td>1993-08</td>\n",
              "      <td>Peru</td>\n",
              "      <td>Colombia</td>\n",
              "      <td>0</td>\n",
              "      <td>1</td>\n",
              "      <td>Other</td>\n",
              "      <td>70</td>\n",
              "      <td>Peru</td>\n",
              "    </tr>\n",
              "  </tbody>\n",
              "</table>\n",
              "</div>\n",
              "      <button class=\"colab-df-convert\" onclick=\"convertToInteractive('df-b8afbf6e-73d6-4e66-93d5-7a75737801e0')\"\n",
              "              title=\"Convert this dataframe to an interactive table.\"\n",
              "              style=\"display:none;\">\n",
              "        \n",
              "  <svg xmlns=\"http://www.w3.org/2000/svg\" height=\"24px\"viewBox=\"0 0 24 24\"\n",
              "       width=\"24px\">\n",
              "    <path d=\"M0 0h24v24H0V0z\" fill=\"none\"/>\n",
              "    <path d=\"M18.56 5.44l.94 2.06.94-2.06 2.06-.94-2.06-.94-.94-2.06-.94 2.06-2.06.94zm-11 1L8.5 8.5l.94-2.06 2.06-.94-2.06-.94L8.5 2.5l-.94 2.06-2.06.94zm10 10l.94 2.06.94-2.06 2.06-.94-2.06-.94-.94-2.06-.94 2.06-2.06.94z\"/><path d=\"M17.41 7.96l-1.37-1.37c-.4-.4-.92-.59-1.43-.59-.52 0-1.04.2-1.43.59L10.3 9.45l-7.72 7.72c-.78.78-.78 2.05 0 2.83L4 21.41c.39.39.9.59 1.41.59.51 0 1.02-.2 1.41-.59l7.78-7.78 2.81-2.81c.8-.78.8-2.07 0-2.86zM5.41 20L4 18.59l7.72-7.72 1.47 1.35L5.41 20z\"/>\n",
              "  </svg>\n",
              "      </button>\n",
              "      \n",
              "  <style>\n",
              "    .colab-df-container {\n",
              "      display:flex;\n",
              "      flex-wrap:wrap;\n",
              "      gap: 12px;\n",
              "    }\n",
              "\n",
              "    .colab-df-convert {\n",
              "      background-color: #E8F0FE;\n",
              "      border: none;\n",
              "      border-radius: 50%;\n",
              "      cursor: pointer;\n",
              "      display: none;\n",
              "      fill: #1967D2;\n",
              "      height: 32px;\n",
              "      padding: 0 0 0 0;\n",
              "      width: 32px;\n",
              "    }\n",
              "\n",
              "    .colab-df-convert:hover {\n",
              "      background-color: #E2EBFA;\n",
              "      box-shadow: 0px 1px 2px rgba(60, 64, 67, 0.3), 0px 1px 3px 1px rgba(60, 64, 67, 0.15);\n",
              "      fill: #174EA6;\n",
              "    }\n",
              "\n",
              "    [theme=dark] .colab-df-convert {\n",
              "      background-color: #3B4455;\n",
              "      fill: #D2E3FC;\n",
              "    }\n",
              "\n",
              "    [theme=dark] .colab-df-convert:hover {\n",
              "      background-color: #434B5C;\n",
              "      box-shadow: 0px 1px 3px 1px rgba(0, 0, 0, 0.15);\n",
              "      filter: drop-shadow(0px 1px 2px rgba(0, 0, 0, 0.3));\n",
              "      fill: #FFFFFF;\n",
              "    }\n",
              "  </style>\n",
              "\n",
              "      <script>\n",
              "        const buttonEl =\n",
              "          document.querySelector('#df-b8afbf6e-73d6-4e66-93d5-7a75737801e0 button.colab-df-convert');\n",
              "        buttonEl.style.display =\n",
              "          google.colab.kernel.accessAllowed ? 'block' : 'none';\n",
              "\n",
              "        async function convertToInteractive(key) {\n",
              "          const element = document.querySelector('#df-b8afbf6e-73d6-4e66-93d5-7a75737801e0');\n",
              "          const dataTable =\n",
              "            await google.colab.kernel.invokeFunction('convertToInteractive',\n",
              "                                                     [key], {});\n",
              "          if (!dataTable) return;\n",
              "\n",
              "          const docLinkHtml = 'Like what you see? Visit the ' +\n",
              "            '<a target=\"_blank\" href=https://colab.research.google.com/notebooks/data_table.ipynb>data table notebook</a>'\n",
              "            + ' to learn more about interactive tables.';\n",
              "          element.innerHTML = '';\n",
              "          dataTable['output_type'] = 'display_data';\n",
              "          await google.colab.output.renderOutput(dataTable, element);\n",
              "          const docLink = document.createElement('div');\n",
              "          docLink.innerHTML = docLinkHtml;\n",
              "          element.appendChild(docLink);\n",
              "        }\n",
              "      </script>\n",
              "    </div>\n",
              "  </div>\n",
              "  "
            ],
            "text/plain": [
              "      date home_team  away_team  home_score  away_score tournament  rank  \\\n",
              "0  1993-08  Colombia   Paraguay           0           0      Other    19   \n",
              "1  1993-08  Colombia  Argentina           2           1      Other    19   \n",
              "2  1993-08  Colombia       Peru           4           0      Other    19   \n",
              "3  1993-08      Peru  Argentina           0           1      Other    70   \n",
              "4  1993-08      Peru   Colombia           0           1      Other    70   \n",
              "\n",
              "    country  \n",
              "0  Colombia  \n",
              "1  Colombia  \n",
              "2  Colombia  \n",
              "3      Peru  \n",
              "4      Peru  "
            ]
          },
          "execution_count": 45,
          "metadata": {},
          "output_type": "execute_result"
        }
      ],
      "source": [
        "# merge 'rankings' and 'results' datasets to a variable home_merge to the values of home team, country and date using inner join \n",
        "home_merge = pd.merge(results, rankings, how = 'inner' , right_on =['date', 'country'], left_on = ['date', 'home_team'])\n",
        "\n",
        "# preview the top 5 entries of the merged dataset\n",
        "home_merge.head()"
      ]
    },
    {
      "cell_type": "code",
      "execution_count": null,
      "metadata": {
        "id": "R72CokCmhDuE"
      },
      "outputs": [],
      "source": [
        "# rename 'rank' to 'home_team_rank' \n",
        "home_merge.rename(columns={'rank':'home_team_rank'},inplace=True)"
      ]
    },
    {
      "cell_type": "code",
      "execution_count": null,
      "metadata": {
        "colab": {
          "base_uri": "https://localhost:8080/",
          "height": 206
        },
        "id": "wq0KfeJcmtxD",
        "outputId": "6a71eb68-4a09-479e-ff73-310507f926b8"
      },
      "outputs": [
        {
          "data": {
            "text/html": [
              "\n",
              "  <div id=\"df-2299fc1d-33b5-4eb8-94a0-2aa0ae40e9fe\">\n",
              "    <div class=\"colab-df-container\">\n",
              "      <div>\n",
              "<style scoped>\n",
              "    .dataframe tbody tr th:only-of-type {\n",
              "        vertical-align: middle;\n",
              "    }\n",
              "\n",
              "    .dataframe tbody tr th {\n",
              "        vertical-align: top;\n",
              "    }\n",
              "\n",
              "    .dataframe thead th {\n",
              "        text-align: right;\n",
              "    }\n",
              "</style>\n",
              "<table border=\"1\" class=\"dataframe\">\n",
              "  <thead>\n",
              "    <tr style=\"text-align: right;\">\n",
              "      <th></th>\n",
              "      <th>date</th>\n",
              "      <th>home_team</th>\n",
              "      <th>away_team</th>\n",
              "      <th>home_score</th>\n",
              "      <th>away_score</th>\n",
              "      <th>tournament</th>\n",
              "      <th>home_team_rank</th>\n",
              "      <th>country_x</th>\n",
              "      <th>rank</th>\n",
              "      <th>country_y</th>\n",
              "    </tr>\n",
              "  </thead>\n",
              "  <tbody>\n",
              "    <tr>\n",
              "      <th>0</th>\n",
              "      <td>1993-08</td>\n",
              "      <td>Colombia</td>\n",
              "      <td>Paraguay</td>\n",
              "      <td>0</td>\n",
              "      <td>0</td>\n",
              "      <td>Other</td>\n",
              "      <td>19</td>\n",
              "      <td>Colombia</td>\n",
              "      <td>67</td>\n",
              "      <td>Paraguay</td>\n",
              "    </tr>\n",
              "    <tr>\n",
              "      <th>1</th>\n",
              "      <td>1993-08</td>\n",
              "      <td>Argentina</td>\n",
              "      <td>Paraguay</td>\n",
              "      <td>0</td>\n",
              "      <td>0</td>\n",
              "      <td>Other</td>\n",
              "      <td>5</td>\n",
              "      <td>Argentina</td>\n",
              "      <td>67</td>\n",
              "      <td>Paraguay</td>\n",
              "    </tr>\n",
              "    <tr>\n",
              "      <th>2</th>\n",
              "      <td>1993-08</td>\n",
              "      <td>Colombia</td>\n",
              "      <td>Argentina</td>\n",
              "      <td>2</td>\n",
              "      <td>1</td>\n",
              "      <td>Other</td>\n",
              "      <td>19</td>\n",
              "      <td>Colombia</td>\n",
              "      <td>5</td>\n",
              "      <td>Argentina</td>\n",
              "    </tr>\n",
              "    <tr>\n",
              "      <th>3</th>\n",
              "      <td>1993-08</td>\n",
              "      <td>Peru</td>\n",
              "      <td>Argentina</td>\n",
              "      <td>0</td>\n",
              "      <td>1</td>\n",
              "      <td>Other</td>\n",
              "      <td>70</td>\n",
              "      <td>Peru</td>\n",
              "      <td>5</td>\n",
              "      <td>Argentina</td>\n",
              "    </tr>\n",
              "    <tr>\n",
              "      <th>4</th>\n",
              "      <td>1993-08</td>\n",
              "      <td>Paraguay</td>\n",
              "      <td>Argentina</td>\n",
              "      <td>1</td>\n",
              "      <td>3</td>\n",
              "      <td>Other</td>\n",
              "      <td>67</td>\n",
              "      <td>Paraguay</td>\n",
              "      <td>5</td>\n",
              "      <td>Argentina</td>\n",
              "    </tr>\n",
              "  </tbody>\n",
              "</table>\n",
              "</div>\n",
              "      <button class=\"colab-df-convert\" onclick=\"convertToInteractive('df-2299fc1d-33b5-4eb8-94a0-2aa0ae40e9fe')\"\n",
              "              title=\"Convert this dataframe to an interactive table.\"\n",
              "              style=\"display:none;\">\n",
              "        \n",
              "  <svg xmlns=\"http://www.w3.org/2000/svg\" height=\"24px\"viewBox=\"0 0 24 24\"\n",
              "       width=\"24px\">\n",
              "    <path d=\"M0 0h24v24H0V0z\" fill=\"none\"/>\n",
              "    <path d=\"M18.56 5.44l.94 2.06.94-2.06 2.06-.94-2.06-.94-.94-2.06-.94 2.06-2.06.94zm-11 1L8.5 8.5l.94-2.06 2.06-.94-2.06-.94L8.5 2.5l-.94 2.06-2.06.94zm10 10l.94 2.06.94-2.06 2.06-.94-2.06-.94-.94-2.06-.94 2.06-2.06.94z\"/><path d=\"M17.41 7.96l-1.37-1.37c-.4-.4-.92-.59-1.43-.59-.52 0-1.04.2-1.43.59L10.3 9.45l-7.72 7.72c-.78.78-.78 2.05 0 2.83L4 21.41c.39.39.9.59 1.41.59.51 0 1.02-.2 1.41-.59l7.78-7.78 2.81-2.81c.8-.78.8-2.07 0-2.86zM5.41 20L4 18.59l7.72-7.72 1.47 1.35L5.41 20z\"/>\n",
              "  </svg>\n",
              "      </button>\n",
              "      \n",
              "  <style>\n",
              "    .colab-df-container {\n",
              "      display:flex;\n",
              "      flex-wrap:wrap;\n",
              "      gap: 12px;\n",
              "    }\n",
              "\n",
              "    .colab-df-convert {\n",
              "      background-color: #E8F0FE;\n",
              "      border: none;\n",
              "      border-radius: 50%;\n",
              "      cursor: pointer;\n",
              "      display: none;\n",
              "      fill: #1967D2;\n",
              "      height: 32px;\n",
              "      padding: 0 0 0 0;\n",
              "      width: 32px;\n",
              "    }\n",
              "\n",
              "    .colab-df-convert:hover {\n",
              "      background-color: #E2EBFA;\n",
              "      box-shadow: 0px 1px 2px rgba(60, 64, 67, 0.3), 0px 1px 3px 1px rgba(60, 64, 67, 0.15);\n",
              "      fill: #174EA6;\n",
              "    }\n",
              "\n",
              "    [theme=dark] .colab-df-convert {\n",
              "      background-color: #3B4455;\n",
              "      fill: #D2E3FC;\n",
              "    }\n",
              "\n",
              "    [theme=dark] .colab-df-convert:hover {\n",
              "      background-color: #434B5C;\n",
              "      box-shadow: 0px 1px 3px 1px rgba(0, 0, 0, 0.15);\n",
              "      filter: drop-shadow(0px 1px 2px rgba(0, 0, 0, 0.3));\n",
              "      fill: #FFFFFF;\n",
              "    }\n",
              "  </style>\n",
              "\n",
              "      <script>\n",
              "        const buttonEl =\n",
              "          document.querySelector('#df-2299fc1d-33b5-4eb8-94a0-2aa0ae40e9fe button.colab-df-convert');\n",
              "        buttonEl.style.display =\n",
              "          google.colab.kernel.accessAllowed ? 'block' : 'none';\n",
              "\n",
              "        async function convertToInteractive(key) {\n",
              "          const element = document.querySelector('#df-2299fc1d-33b5-4eb8-94a0-2aa0ae40e9fe');\n",
              "          const dataTable =\n",
              "            await google.colab.kernel.invokeFunction('convertToInteractive',\n",
              "                                                     [key], {});\n",
              "          if (!dataTable) return;\n",
              "\n",
              "          const docLinkHtml = 'Like what you see? Visit the ' +\n",
              "            '<a target=\"_blank\" href=https://colab.research.google.com/notebooks/data_table.ipynb>data table notebook</a>'\n",
              "            + ' to learn more about interactive tables.';\n",
              "          element.innerHTML = '';\n",
              "          dataTable['output_type'] = 'display_data';\n",
              "          await google.colab.output.renderOutput(dataTable, element);\n",
              "          const docLink = document.createElement('div');\n",
              "          docLink.innerHTML = docLinkHtml;\n",
              "          element.appendChild(docLink);\n",
              "        }\n",
              "      </script>\n",
              "    </div>\n",
              "  </div>\n",
              "  "
            ],
            "text/plain": [
              "      date  home_team  away_team  home_score  away_score tournament  \\\n",
              "0  1993-08   Colombia   Paraguay           0           0      Other   \n",
              "1  1993-08  Argentina   Paraguay           0           0      Other   \n",
              "2  1993-08   Colombia  Argentina           2           1      Other   \n",
              "3  1993-08       Peru  Argentina           0           1      Other   \n",
              "4  1993-08   Paraguay  Argentina           1           3      Other   \n",
              "\n",
              "   home_team_rank  country_x  rank  country_y  \n",
              "0              19   Colombia    67   Paraguay  \n",
              "1               5  Argentina    67   Paraguay  \n",
              "2              19   Colombia     5  Argentina  \n",
              "3              70       Peru     5  Argentina  \n",
              "4              67   Paraguay     5  Argentina  "
            ]
          },
          "execution_count": 44,
          "metadata": {},
          "output_type": "execute_result"
        }
      ],
      "source": [
        "# merge 'home_merge' and 'rankings' datasets to a variable matches to values away team, country and date.\n",
        "matches = pd.merge(home_merge, rankings, how = 'inner' , right_on =['date', 'country'], left_on = ['date', 'away_team'])\n",
        "\n",
        "# preview the top 5 entries of the merged dataset\n",
        "matches.head()"
      ]
    },
    {
      "cell_type": "code",
      "execution_count": null,
      "metadata": {
        "colab": {
          "base_uri": "https://localhost:8080/",
          "height": 206
        },
        "id": "_iRSzxB30cYn",
        "outputId": "92af6f66-24b5-41bf-dd02-1113993af217"
      },
      "outputs": [
        {
          "data": {
            "text/html": [
              "\n",
              "  <div id=\"df-50f42c06-07de-4211-8e52-a56b236b8f6e\">\n",
              "    <div class=\"colab-df-container\">\n",
              "      <div>\n",
              "<style scoped>\n",
              "    .dataframe tbody tr th:only-of-type {\n",
              "        vertical-align: middle;\n",
              "    }\n",
              "\n",
              "    .dataframe tbody tr th {\n",
              "        vertical-align: top;\n",
              "    }\n",
              "\n",
              "    .dataframe thead th {\n",
              "        text-align: right;\n",
              "    }\n",
              "</style>\n",
              "<table border=\"1\" class=\"dataframe\">\n",
              "  <thead>\n",
              "    <tr style=\"text-align: right;\">\n",
              "      <th></th>\n",
              "      <th>date</th>\n",
              "      <th>home_team</th>\n",
              "      <th>away_team</th>\n",
              "      <th>home_score</th>\n",
              "      <th>away_score</th>\n",
              "      <th>tournament</th>\n",
              "      <th>home_team_rank</th>\n",
              "      <th>country_x</th>\n",
              "      <th>rank</th>\n",
              "      <th>country_y</th>\n",
              "    </tr>\n",
              "  </thead>\n",
              "  <tbody>\n",
              "    <tr>\n",
              "      <th>0</th>\n",
              "      <td>1993-08</td>\n",
              "      <td>Colombia</td>\n",
              "      <td>Paraguay</td>\n",
              "      <td>0</td>\n",
              "      <td>0</td>\n",
              "      <td>Other</td>\n",
              "      <td>19</td>\n",
              "      <td>Colombia</td>\n",
              "      <td>67</td>\n",
              "      <td>Paraguay</td>\n",
              "    </tr>\n",
              "    <tr>\n",
              "      <th>1</th>\n",
              "      <td>1993-08</td>\n",
              "      <td>Argentina</td>\n",
              "      <td>Paraguay</td>\n",
              "      <td>0</td>\n",
              "      <td>0</td>\n",
              "      <td>Other</td>\n",
              "      <td>5</td>\n",
              "      <td>Argentina</td>\n",
              "      <td>67</td>\n",
              "      <td>Paraguay</td>\n",
              "    </tr>\n",
              "    <tr>\n",
              "      <th>2</th>\n",
              "      <td>1993-08</td>\n",
              "      <td>Colombia</td>\n",
              "      <td>Argentina</td>\n",
              "      <td>2</td>\n",
              "      <td>1</td>\n",
              "      <td>Other</td>\n",
              "      <td>19</td>\n",
              "      <td>Colombia</td>\n",
              "      <td>5</td>\n",
              "      <td>Argentina</td>\n",
              "    </tr>\n",
              "    <tr>\n",
              "      <th>3</th>\n",
              "      <td>1993-08</td>\n",
              "      <td>Peru</td>\n",
              "      <td>Argentina</td>\n",
              "      <td>0</td>\n",
              "      <td>1</td>\n",
              "      <td>Other</td>\n",
              "      <td>70</td>\n",
              "      <td>Peru</td>\n",
              "      <td>5</td>\n",
              "      <td>Argentina</td>\n",
              "    </tr>\n",
              "    <tr>\n",
              "      <th>4</th>\n",
              "      <td>1993-08</td>\n",
              "      <td>Paraguay</td>\n",
              "      <td>Argentina</td>\n",
              "      <td>1</td>\n",
              "      <td>3</td>\n",
              "      <td>Other</td>\n",
              "      <td>67</td>\n",
              "      <td>Paraguay</td>\n",
              "      <td>5</td>\n",
              "      <td>Argentina</td>\n",
              "    </tr>\n",
              "  </tbody>\n",
              "</table>\n",
              "</div>\n",
              "      <button class=\"colab-df-convert\" onclick=\"convertToInteractive('df-50f42c06-07de-4211-8e52-a56b236b8f6e')\"\n",
              "              title=\"Convert this dataframe to an interactive table.\"\n",
              "              style=\"display:none;\">\n",
              "        \n",
              "  <svg xmlns=\"http://www.w3.org/2000/svg\" height=\"24px\"viewBox=\"0 0 24 24\"\n",
              "       width=\"24px\">\n",
              "    <path d=\"M0 0h24v24H0V0z\" fill=\"none\"/>\n",
              "    <path d=\"M18.56 5.44l.94 2.06.94-2.06 2.06-.94-2.06-.94-.94-2.06-.94 2.06-2.06.94zm-11 1L8.5 8.5l.94-2.06 2.06-.94-2.06-.94L8.5 2.5l-.94 2.06-2.06.94zm10 10l.94 2.06.94-2.06 2.06-.94-2.06-.94-.94-2.06-.94 2.06-2.06.94z\"/><path d=\"M17.41 7.96l-1.37-1.37c-.4-.4-.92-.59-1.43-.59-.52 0-1.04.2-1.43.59L10.3 9.45l-7.72 7.72c-.78.78-.78 2.05 0 2.83L4 21.41c.39.39.9.59 1.41.59.51 0 1.02-.2 1.41-.59l7.78-7.78 2.81-2.81c.8-.78.8-2.07 0-2.86zM5.41 20L4 18.59l7.72-7.72 1.47 1.35L5.41 20z\"/>\n",
              "  </svg>\n",
              "      </button>\n",
              "      \n",
              "  <style>\n",
              "    .colab-df-container {\n",
              "      display:flex;\n",
              "      flex-wrap:wrap;\n",
              "      gap: 12px;\n",
              "    }\n",
              "\n",
              "    .colab-df-convert {\n",
              "      background-color: #E8F0FE;\n",
              "      border: none;\n",
              "      border-radius: 50%;\n",
              "      cursor: pointer;\n",
              "      display: none;\n",
              "      fill: #1967D2;\n",
              "      height: 32px;\n",
              "      padding: 0 0 0 0;\n",
              "      width: 32px;\n",
              "    }\n",
              "\n",
              "    .colab-df-convert:hover {\n",
              "      background-color: #E2EBFA;\n",
              "      box-shadow: 0px 1px 2px rgba(60, 64, 67, 0.3), 0px 1px 3px 1px rgba(60, 64, 67, 0.15);\n",
              "      fill: #174EA6;\n",
              "    }\n",
              "\n",
              "    [theme=dark] .colab-df-convert {\n",
              "      background-color: #3B4455;\n",
              "      fill: #D2E3FC;\n",
              "    }\n",
              "\n",
              "    [theme=dark] .colab-df-convert:hover {\n",
              "      background-color: #434B5C;\n",
              "      box-shadow: 0px 1px 3px 1px rgba(0, 0, 0, 0.15);\n",
              "      filter: drop-shadow(0px 1px 2px rgba(0, 0, 0, 0.3));\n",
              "      fill: #FFFFFF;\n",
              "    }\n",
              "  </style>\n",
              "\n",
              "      <script>\n",
              "        const buttonEl =\n",
              "          document.querySelector('#df-50f42c06-07de-4211-8e52-a56b236b8f6e button.colab-df-convert');\n",
              "        buttonEl.style.display =\n",
              "          google.colab.kernel.accessAllowed ? 'block' : 'none';\n",
              "\n",
              "        async function convertToInteractive(key) {\n",
              "          const element = document.querySelector('#df-50f42c06-07de-4211-8e52-a56b236b8f6e');\n",
              "          const dataTable =\n",
              "            await google.colab.kernel.invokeFunction('convertToInteractive',\n",
              "                                                     [key], {});\n",
              "          if (!dataTable) return;\n",
              "\n",
              "          const docLinkHtml = 'Like what you see? Visit the ' +\n",
              "            '<a target=\"_blank\" href=https://colab.research.google.com/notebooks/data_table.ipynb>data table notebook</a>'\n",
              "            + ' to learn more about interactive tables.';\n",
              "          element.innerHTML = '';\n",
              "          dataTable['output_type'] = 'display_data';\n",
              "          await google.colab.output.renderOutput(dataTable, element);\n",
              "          const docLink = document.createElement('div');\n",
              "          docLink.innerHTML = docLinkHtml;\n",
              "          element.appendChild(docLink);\n",
              "        }\n",
              "      </script>\n",
              "    </div>\n",
              "  </div>\n",
              "  "
            ],
            "text/plain": [
              "      date  home_team  away_team  home_score  away_score tournament  \\\n",
              "0  1993-08   Colombia   Paraguay           0           0      Other   \n",
              "1  1993-08  Argentina   Paraguay           0           0      Other   \n",
              "2  1993-08   Colombia  Argentina           2           1      Other   \n",
              "3  1993-08       Peru  Argentina           0           1      Other   \n",
              "4  1993-08   Paraguay  Argentina           1           3      Other   \n",
              "\n",
              "   home_team_rank  country_x  rank  country_y  \n",
              "0              19   Colombia    67   Paraguay  \n",
              "1               5  Argentina    67   Paraguay  \n",
              "2              19   Colombia     5  Argentina  \n",
              "3              70       Peru     5  Argentina  \n",
              "4              67   Paraguay     5  Argentina  "
            ]
          },
          "execution_count": 46,
          "metadata": {},
          "output_type": "execute_result"
        }
      ],
      "source": [
        "# preview the top 5 records of the dataset\n",
        "matches.head()"
      ]
    },
    {
      "cell_type": "code",
      "execution_count": null,
      "metadata": {
        "colab": {
          "base_uri": "https://localhost:8080/"
        },
        "id": "VHZmDDEKy10J",
        "outputId": "60566802-f319-4afc-b9b5-15206ef96bbf"
      },
      "outputs": [
        {
          "data": {
            "text/plain": [
              "(16918, 10)"
            ]
          },
          "execution_count": 47,
          "metadata": {},
          "output_type": "execute_result"
        }
      ],
      "source": [
        "# check the number of records of dataset\n",
        "matches.shape"
      ]
    },
    {
      "cell_type": "code",
      "execution_count": null,
      "metadata": {
        "id": "oJhQeDOUshiZ"
      },
      "outputs": [],
      "source": [
        "# export the merged dataset as a csv file\n",
        "matches.to_csv('matches.csv', index=False)"
      ]
    },
    {
      "cell_type": "markdown",
      "metadata": {
        "id": "z1SqhOyg-_Z8"
      },
      "source": [
        "## Data exploration."
      ]
    },
    {
      "cell_type": "code",
      "execution_count": null,
      "metadata": {
        "colab": {
          "base_uri": "https://localhost:8080/",
          "height": 300
        },
        "id": "xLnkb8kK1AXx",
        "outputId": "1983d274-d8b5-457b-9505-75467030c4a4"
      },
      "outputs": [
        {
          "data": {
            "text/html": [
              "\n",
              "  <div id=\"df-04d0c2b1-e5e3-4cda-b836-11cdaa2651d5\">\n",
              "    <div class=\"colab-df-container\">\n",
              "      <div>\n",
              "<style scoped>\n",
              "    .dataframe tbody tr th:only-of-type {\n",
              "        vertical-align: middle;\n",
              "    }\n",
              "\n",
              "    .dataframe tbody tr th {\n",
              "        vertical-align: top;\n",
              "    }\n",
              "\n",
              "    .dataframe thead th {\n",
              "        text-align: right;\n",
              "    }\n",
              "</style>\n",
              "<table border=\"1\" class=\"dataframe\">\n",
              "  <thead>\n",
              "    <tr style=\"text-align: right;\">\n",
              "      <th></th>\n",
              "      <th>home_score</th>\n",
              "      <th>away_score</th>\n",
              "    </tr>\n",
              "  </thead>\n",
              "  <tbody>\n",
              "    <tr>\n",
              "      <th>count</th>\n",
              "      <td>16918.000000</td>\n",
              "      <td>16918.000000</td>\n",
              "    </tr>\n",
              "    <tr>\n",
              "      <th>mean</th>\n",
              "      <td>1.603499</td>\n",
              "      <td>1.068448</td>\n",
              "    </tr>\n",
              "    <tr>\n",
              "      <th>std</th>\n",
              "      <td>1.615346</td>\n",
              "      <td>1.244975</td>\n",
              "    </tr>\n",
              "    <tr>\n",
              "      <th>min</th>\n",
              "      <td>0.000000</td>\n",
              "      <td>0.000000</td>\n",
              "    </tr>\n",
              "    <tr>\n",
              "      <th>25%</th>\n",
              "      <td>0.000000</td>\n",
              "      <td>0.000000</td>\n",
              "    </tr>\n",
              "    <tr>\n",
              "      <th>50%</th>\n",
              "      <td>1.000000</td>\n",
              "      <td>1.000000</td>\n",
              "    </tr>\n",
              "    <tr>\n",
              "      <th>75%</th>\n",
              "      <td>2.000000</td>\n",
              "      <td>2.000000</td>\n",
              "    </tr>\n",
              "    <tr>\n",
              "      <th>max</th>\n",
              "      <td>31.000000</td>\n",
              "      <td>15.000000</td>\n",
              "    </tr>\n",
              "  </tbody>\n",
              "</table>\n",
              "</div>\n",
              "      <button class=\"colab-df-convert\" onclick=\"convertToInteractive('df-04d0c2b1-e5e3-4cda-b836-11cdaa2651d5')\"\n",
              "              title=\"Convert this dataframe to an interactive table.\"\n",
              "              style=\"display:none;\">\n",
              "        \n",
              "  <svg xmlns=\"http://www.w3.org/2000/svg\" height=\"24px\"viewBox=\"0 0 24 24\"\n",
              "       width=\"24px\">\n",
              "    <path d=\"M0 0h24v24H0V0z\" fill=\"none\"/>\n",
              "    <path d=\"M18.56 5.44l.94 2.06.94-2.06 2.06-.94-2.06-.94-.94-2.06-.94 2.06-2.06.94zm-11 1L8.5 8.5l.94-2.06 2.06-.94-2.06-.94L8.5 2.5l-.94 2.06-2.06.94zm10 10l.94 2.06.94-2.06 2.06-.94-2.06-.94-.94-2.06-.94 2.06-2.06.94z\"/><path d=\"M17.41 7.96l-1.37-1.37c-.4-.4-.92-.59-1.43-.59-.52 0-1.04.2-1.43.59L10.3 9.45l-7.72 7.72c-.78.78-.78 2.05 0 2.83L4 21.41c.39.39.9.59 1.41.59.51 0 1.02-.2 1.41-.59l7.78-7.78 2.81-2.81c.8-.78.8-2.07 0-2.86zM5.41 20L4 18.59l7.72-7.72 1.47 1.35L5.41 20z\"/>\n",
              "  </svg>\n",
              "      </button>\n",
              "      \n",
              "  <style>\n",
              "    .colab-df-container {\n",
              "      display:flex;\n",
              "      flex-wrap:wrap;\n",
              "      gap: 12px;\n",
              "    }\n",
              "\n",
              "    .colab-df-convert {\n",
              "      background-color: #E8F0FE;\n",
              "      border: none;\n",
              "      border-radius: 50%;\n",
              "      cursor: pointer;\n",
              "      display: none;\n",
              "      fill: #1967D2;\n",
              "      height: 32px;\n",
              "      padding: 0 0 0 0;\n",
              "      width: 32px;\n",
              "    }\n",
              "\n",
              "    .colab-df-convert:hover {\n",
              "      background-color: #E2EBFA;\n",
              "      box-shadow: 0px 1px 2px rgba(60, 64, 67, 0.3), 0px 1px 3px 1px rgba(60, 64, 67, 0.15);\n",
              "      fill: #174EA6;\n",
              "    }\n",
              "\n",
              "    [theme=dark] .colab-df-convert {\n",
              "      background-color: #3B4455;\n",
              "      fill: #D2E3FC;\n",
              "    }\n",
              "\n",
              "    [theme=dark] .colab-df-convert:hover {\n",
              "      background-color: #434B5C;\n",
              "      box-shadow: 0px 1px 3px 1px rgba(0, 0, 0, 0.15);\n",
              "      filter: drop-shadow(0px 1px 2px rgba(0, 0, 0, 0.3));\n",
              "      fill: #FFFFFF;\n",
              "    }\n",
              "  </style>\n",
              "\n",
              "      <script>\n",
              "        const buttonEl =\n",
              "          document.querySelector('#df-04d0c2b1-e5e3-4cda-b836-11cdaa2651d5 button.colab-df-convert');\n",
              "        buttonEl.style.display =\n",
              "          google.colab.kernel.accessAllowed ? 'block' : 'none';\n",
              "\n",
              "        async function convertToInteractive(key) {\n",
              "          const element = document.querySelector('#df-04d0c2b1-e5e3-4cda-b836-11cdaa2651d5');\n",
              "          const dataTable =\n",
              "            await google.colab.kernel.invokeFunction('convertToInteractive',\n",
              "                                                     [key], {});\n",
              "          if (!dataTable) return;\n",
              "\n",
              "          const docLinkHtml = 'Like what you see? Visit the ' +\n",
              "            '<a target=\"_blank\" href=https://colab.research.google.com/notebooks/data_table.ipynb>data table notebook</a>'\n",
              "            + ' to learn more about interactive tables.';\n",
              "          element.innerHTML = '';\n",
              "          dataTable['output_type'] = 'display_data';\n",
              "          await google.colab.output.renderOutput(dataTable, element);\n",
              "          const docLink = document.createElement('div');\n",
              "          docLink.innerHTML = docLinkHtml;\n",
              "          element.appendChild(docLink);\n",
              "        }\n",
              "      </script>\n",
              "    </div>\n",
              "  </div>\n",
              "  "
            ],
            "text/plain": [
              "         home_score    away_score\n",
              "count  16918.000000  16918.000000\n",
              "mean       1.603499      1.068448\n",
              "std        1.615346      1.244975\n",
              "min        0.000000      0.000000\n",
              "25%        0.000000      0.000000\n",
              "50%        1.000000      1.000000\n",
              "75%        2.000000      2.000000\n",
              "max       31.000000     15.000000"
            ]
          },
          "execution_count": 50,
          "metadata": {},
          "output_type": "execute_result"
        }
      ],
      "source": [
        "# compute the general statistical summaries of 'home_score' and 'away_score' columns\n",
        "matches[['home_score', 'away_score']].describe()"
      ]
    },
    {
      "cell_type": "code",
      "execution_count": null,
      "metadata": {
        "colab": {
          "base_uri": "https://localhost:8080/",
          "height": 583
        },
        "id": "E2ikQ6BcARid",
        "outputId": "22dae096-1275-4c8d-fe18-fab4f0e3fdc0"
      },
      "outputs": [
        {
          "data": {
            "image/png": "[encoded data removed]",
            "text/plain": [
              "<Figure size 1080x648 with 1 Axes>"
            ]
          },
          "metadata": {},
          "output_type": "display_data"
        }
      ],
      "source": [
        "# visualize the distribution of the home scores.\n",
        "\n",
        "# specify the size of the chart\n",
        "plt.figure(figsize = (15, 9))\n",
        "\n",
        "# plot the count plot\n",
        "sns.countplot(matches.home_score)\n",
        "\n",
        "# label the chart\n",
        "plt.title('Distribution of Home Team Goals', fontsize=25, y=1.015)\n",
        "# label the x axis\n",
        "plt.xlabel('Number of Goals')\n",
        "# label the y axis\n",
        "plt.ylabel('Frequency')\n",
        "# display the chart\n",
        "plt.show()"
      ]
    },
    {
      "cell_type": "markdown",
      "metadata": {
        "id": "D5LTeE8bjYJh"
      },
      "source": [
        "This shows, teams playing at home chances of scoring goals from 1 were high."
      ]
    },
    {
      "cell_type": "code",
      "execution_count": null,
      "metadata": {
        "colab": {
          "base_uri": "https://localhost:8080/",
          "height": 579
        },
        "id": "zMFFYRmmEf-_",
        "outputId": "1f617967-acc0-4d85-e3e6-24bc22d4c3e1"
      },
      "outputs": [
        {
          "data": {
            "image/png": "[encoded data removed]",
            "text/plain": [
              "<Figure size 1080x648 with 1 Axes>"
            ]
          },
          "metadata": {},
          "output_type": "display_data"
        }
      ],
      "source": [
        "# visualize the distribution of the away scores using a countplot\n",
        "\n",
        "# specify the size of the chart\n",
        "plt.figure(figsize = (15, 9))\n",
        "\n",
        "# plot the count plot\n",
        "sns.countplot(matches.away_score)\n",
        "\n",
        "# label the chart\n",
        "plt.title('Distribution of Away Team Goals', fontsize=20, y=1.015)\n",
        "# label the x axis\n",
        "plt.xlabel('Number of Goals')\n",
        "# label the y axis\n",
        "plt.ylabel('Frequency')\n",
        "# display the chart\n",
        "plt.show()"
      ]
    },
    {
      "cell_type": "markdown",
      "metadata": {
        "id": "nJkIoPjPkBKW"
      },
      "source": [
        "This showed when team was playing away chances of not scoring were higher."
      ]
    },
    {
      "cell_type": "code",
      "execution_count": null,
      "metadata": {
        "colab": {
          "base_uri": "https://localhost:8080/",
          "height": 480
        },
        "id": "6S8BMpuhD-Br",
        "outputId": "c1b4cdb2-7cea-4133-c81f-a9ed65464ad6"
      },
      "outputs": [
        {
          "name": "stdout",
          "output_type": "stream",
          "text": [
            "Other       0.618867\n",
            "Friendly    0.381133\n",
            "Name: tournament, dtype: float64\n"
          ]
        },
        {
          "data": {
            "image/png": "[encoded data removed]",
            "text/plain": [
              "<Figure size 720x432 with 1 Axes>"
            ]
          },
          "metadata": {},
          "output_type": "display_data"
        }
      ],
      "source": [
        "# plot a bar graph to show the proportions of the types of tournaments \n",
        "\n",
        "# display the proportions of the types of tournaments in a frequency table\n",
        "print(matches.tournament.value_counts(normalize=True))\n",
        "\n",
        "# specify the size of the figure  \n",
        "fig, ax = plt.subplots(figsize=(10,6))\n",
        "\n",
        "# plot the bar graph\n",
        "(matches['tournament'].value_counts(normalize=True)).plot.bar()\n",
        "\n",
        "# labelling the bar chart \n",
        "plt.title('Proportion Distribution of the Types of Tournaments in the Dataset ', fontsize=20, y=1.015)\n",
        "# labelling the x axis \n",
        "plt.xlabel('Type of tournament', fontsize=14, labelpad=14)\n",
        "# rotate the labels on the x axis\n",
        "plt.xticks(rotation = 360)\n",
        "# labelling the y axis\n",
        "plt.ylabel('Proportion', fontsize=16, labelpad=15)\n",
        "#display bar chart\n",
        "plt.show()"
      ]
    },
    {
      "cell_type": "markdown",
      "metadata": {
        "id": "2qeOM_uOm10U"
      },
      "source": [
        "The graph show a comparison between the tournaments played showing friendly matches were fewer compared to the other matches played in the league."
      ]
    },
    {
      "cell_type": "code",
      "source": [
        "#plot color scaled correlation matrix\n",
        "corr=matches.corr()\n",
        "corr.style.background_gradient(cmap='coolwarm')"
      ],
      "metadata": {
        "colab": {
          "base_uri": "https://localhost:8080/",
          "height": 175
        },
        "id": "HAZNf8QEzMcd",
        "outputId": "d19fa078-7058-45d1-a694-147e03e123d4"
      },
      "execution_count": 69,
      "outputs": [
        {
          "output_type": "execute_result",
          "data": {
            "text/plain": [
              "<pandas.io.formats.style.Styler at 0x7f17b032df50>"
            ],
            "text/html": [
              "<style type=\"text/css\">\n",
              "#T_6658e_row0_col0, #T_6658e_row1_col1, #T_6658e_row2_col2, #T_6658e_row3_col3 {\n",
              "  background-color: #b40426;\n",
              "  color: #f1f1f1;\n",
              "}\n",
              "#T_6658e_row0_col1 {\n",
              "  background-color: #3e51c5;\n",
              "  color: #f1f1f1;\n",
              "}\n",
              "#T_6658e_row0_col2, #T_6658e_row1_col0, #T_6658e_row1_col3, #T_6658e_row3_col1 {\n",
              "  background-color: #3b4cc0;\n",
              "  color: #f1f1f1;\n",
              "}\n",
              "#T_6658e_row0_col3 {\n",
              "  background-color: #c7d7f0;\n",
              "  color: #000000;\n",
              "}\n",
              "#T_6658e_row1_col2 {\n",
              "  background-color: #a3c2fe;\n",
              "  color: #000000;\n",
              "}\n",
              "#T_6658e_row2_col0 {\n",
              "  background-color: #4257c9;\n",
              "  color: #f1f1f1;\n",
              "}\n",
              "#T_6658e_row2_col1 {\n",
              "  background-color: #adc9fd;\n",
              "  color: #000000;\n",
              "}\n",
              "#T_6658e_row2_col3 {\n",
              "  background-color: #ead5c9;\n",
              "  color: #000000;\n",
              "}\n",
              "#T_6658e_row3_col0 {\n",
              "  background-color: #c5d6f2;\n",
              "  color: #000000;\n",
              "}\n",
              "#T_6658e_row3_col2 {\n",
              "  background-color: #e5d8d1;\n",
              "  color: #000000;\n",
              "}\n",
              "</style>\n",
              "<table id=\"T_6658e_\" class=\"dataframe\">\n",
              "  <thead>\n",
              "    <tr>\n",
              "      <th class=\"blank level0\" >&nbsp;</th>\n",
              "      <th class=\"col_heading level0 col0\" >home_score</th>\n",
              "      <th class=\"col_heading level0 col1\" >away_score</th>\n",
              "      <th class=\"col_heading level0 col2\" >home_team_rank</th>\n",
              "      <th class=\"col_heading level0 col3\" >rank</th>\n",
              "    </tr>\n",
              "  </thead>\n",
              "  <tbody>\n",
              "    <tr>\n",
              "      <th id=\"T_6658e_level0_row0\" class=\"row_heading level0 row0\" >home_score</th>\n",
              "      <td id=\"T_6658e_row0_col0\" class=\"data row0 col0\" >1.000000</td>\n",
              "      <td id=\"T_6658e_row0_col1\" class=\"data row0 col1\" >-0.163511</td>\n",
              "      <td id=\"T_6658e_row0_col2\" class=\"data row0 col2\" >-0.134957</td>\n",
              "      <td id=\"T_6658e_row0_col3\" class=\"data row0 col3\" >0.318973</td>\n",
              "    </tr>\n",
              "    <tr>\n",
              "      <th id=\"T_6658e_level0_row1\" class=\"row_heading level0 row1\" >away_score</th>\n",
              "      <td id=\"T_6658e_row1_col0\" class=\"data row1 col0\" >-0.163511</td>\n",
              "      <td id=\"T_6658e_row1_col1\" class=\"data row1 col1\" >1.000000</td>\n",
              "      <td id=\"T_6658e_row1_col2\" class=\"data row1 col2\" >0.221346</td>\n",
              "      <td id=\"T_6658e_row1_col3\" class=\"data row1 col3\" >-0.180216</td>\n",
              "    </tr>\n",
              "    <tr>\n",
              "      <th id=\"T_6658e_level0_row2\" class=\"row_heading level0 row2\" >home_team_rank</th>\n",
              "      <td id=\"T_6658e_row2_col0\" class=\"data row2 col0\" >-0.134957</td>\n",
              "      <td id=\"T_6658e_row2_col1\" class=\"data row2 col1\" >0.221346</td>\n",
              "      <td id=\"T_6658e_row2_col2\" class=\"data row2 col2\" >1.000000</td>\n",
              "      <td id=\"T_6658e_row2_col3\" class=\"data row2 col3\" >0.469861</td>\n",
              "    </tr>\n",
              "    <tr>\n",
              "      <th id=\"T_6658e_level0_row3\" class=\"row_heading level0 row3\" >rank</th>\n",
              "      <td id=\"T_6658e_row3_col0\" class=\"data row3 col0\" >0.318973</td>\n",
              "      <td id=\"T_6658e_row3_col1\" class=\"data row3 col1\" >-0.180216</td>\n",
              "      <td id=\"T_6658e_row3_col2\" class=\"data row3 col2\" >0.469861</td>\n",
              "      <td id=\"T_6658e_row3_col3\" class=\"data row3 col3\" >1.000000</td>\n",
              "    </tr>\n",
              "  </tbody>\n",
              "</table>\n"
            ]
          },
          "metadata": {},
          "execution_count": 69
        }
      ]
    },
    {
      "cell_type": "markdown",
      "source": [
        "Basicaly, relation coeffiecients of 0 and few deviations from 0 in both the negative and positive spectrum are deemed weak.\n",
        "\n",
        "Our matrix shows weak relations of variables."
      ],
      "metadata": {
        "id": "ayHpJbkyzWhF"
      }
    },
    {
      "cell_type": "code",
      "execution_count": null,
      "metadata": {
        "colab": {
          "base_uri": "https://localhost:8080/"
        },
        "id": "7HIY4W0b_PK6",
        "outputId": "acf774ac-c421-418b-d9ee-df506257f6a7"
      },
      "outputs": [
        {
          "name": "stdout",
          "output_type": "stream",
          "text": [
            "The total number of teams to ever play as a home team is 193\n",
            "The total number of teams to ever play as an away team is 193\n"
          ]
        }
      ],
      "source": [
        "# find out the total number of distinct teams to play as a home team\n",
        "print('The total number of teams to ever play as a home team is ' +str(matches['home_team'].nunique()))\n",
        "\n",
        "# find out the total number of distinct teams to play as an away team\n",
        "print('The total number of teams to ever play as an away team is ' +str(matches['away_team'].nunique()))"
      ]
    },
    {
      "cell_type": "markdown",
      "metadata": {
        "id": "_OBrkMH771x-"
      },
      "source": [
        "### Polynomial regression"
      ]
    },
    {
      "cell_type": "markdown",
      "metadata": {
        "id": "m_GT7JhuJQOU"
      },
      "source": [
        "We will use polynomial regression to create a model that predicts the results of a home team and another model that predicts the results of an away team based on the home team's rank, away team's rank and the tournament's type.  \n",
        "\n",
        "These features are categorical in nature; therefore, it is unlikely that polynimial regression models will do well in accomplishing the objective of predicting the home teams' and away teams' scores, but we will use them as numerical data just to see how the model will fair   \n",
        "\n"
      ]
    },
    {
      "cell_type": "markdown",
      "metadata": {
        "id": "xxLqyfUX-o7v"
      },
      "source": [
        "#### Feature selection and engineering"
      ]
    },
    {
      "cell_type": "code",
      "execution_count": 70,
      "metadata": {
        "id": "-_BuztG4ff-P"
      },
      "outputs": [],
      "source": [
        "# make a copy of our dataset\n",
        "match_copy= matches.copy()"
      ]
    },
    {
      "cell_type": "code",
      "execution_count": 71,
      "metadata": {
        "id": "-C2OoDbXPkGc"
      },
      "outputs": [],
      "source": [
        "# feature selection\n",
        "# drop the columns that are irrelevant to our regression model\n",
        "match_copy.drop(['date','home_team', 'away_team'], axis=1, inplace=True)"
      ]
    },
    {
      "cell_type": "code",
      "execution_count": 72,
      "metadata": {
        "colab": {
          "base_uri": "https://localhost:8080/"
        },
        "id": "ixj56Ao6fYAH",
        "outputId": "6939feb3-9c7c-40fd-b1dc-315340a07903"
      },
      "outputs": [
        {
          "output_type": "stream",
          "name": "stdout",
          "text": [
            "Other       10470\n",
            "Friendly     6448\n",
            "Name: tournament, dtype: int64\n",
            "1    10470\n",
            "0     6448\n",
            "Name: tournament, dtype: int64\n"
          ]
        }
      ],
      "source": [
        "# feature engineering\n",
        "# import label encoder for label encoding\n",
        "from sklearn.preprocessing import LabelEncoder \n",
        "lb=LabelEncoder()\n",
        "\n",
        "# encode the values in 'tournament' column so that they can be in 0's and 1's \n",
        "match_copy['tournament']=lb.fit_transform(match_copy['tournament'].astype(str))\n",
        "\n",
        "# check how the values have been transformed by comparing with the uncoded values in the original dataset\n",
        "print(matches.tournament.value_counts())\n",
        "print(match_copy.tournament.value_counts())"
      ]
    },
    {
      "cell_type": "markdown",
      "metadata": {
        "id": "-7jmrHx4OqXZ"
      },
      "source": [
        "Other has been encoded as 1 while Friendly has been encoded as 0 "
      ]
    },
    {
      "cell_type": "code",
      "execution_count": 73,
      "metadata": {
        "colab": {
          "base_uri": "https://localhost:8080/",
          "height": 206
        },
        "id": "RRoJcNQpt32H",
        "outputId": "8faaffde-7e85-4857-ae1b-fc55e4470325"
      },
      "outputs": [
        {
          "output_type": "execute_result",
          "data": {
            "text/plain": [
              "   home_score  away_score  tournament  home_team_rank  country_x  rank  \\\n",
              "0           0           0           1              19   Colombia    67   \n",
              "1           0           0           1               5  Argentina    67   \n",
              "2           2           1           1              19   Colombia     5   \n",
              "3           0           1           1              70       Peru     5   \n",
              "4           1           3           1              67   Paraguay     5   \n",
              "\n",
              "   country_y  \n",
              "0   Paraguay  \n",
              "1   Paraguay  \n",
              "2  Argentina  \n",
              "3  Argentina  \n",
              "4  Argentina  "
            ],
            "text/html": [
              "\n",
              "  <div id=\"df-aa4ac6b9-97b0-4d3f-9196-50d1477243be\">\n",
              "    <div class=\"colab-df-container\">\n",
              "      <div>\n",
              "<style scoped>\n",
              "    .dataframe tbody tr th:only-of-type {\n",
              "        vertical-align: middle;\n",
              "    }\n",
              "\n",
              "    .dataframe tbody tr th {\n",
              "        vertical-align: top;\n",
              "    }\n",
              "\n",
              "    .dataframe thead th {\n",
              "        text-align: right;\n",
              "    }\n",
              "</style>\n",
              "<table border=\"1\" class=\"dataframe\">\n",
              "  <thead>\n",
              "    <tr style=\"text-align: right;\">\n",
              "      <th></th>\n",
              "      <th>home_score</th>\n",
              "      <th>away_score</th>\n",
              "      <th>tournament</th>\n",
              "      <th>home_team_rank</th>\n",
              "      <th>country_x</th>\n",
              "      <th>rank</th>\n",
              "      <th>country_y</th>\n",
              "    </tr>\n",
              "  </thead>\n",
              "  <tbody>\n",
              "    <tr>\n",
              "      <th>0</th>\n",
              "      <td>0</td>\n",
              "      <td>0</td>\n",
              "      <td>1</td>\n",
              "      <td>19</td>\n",
              "      <td>Colombia</td>\n",
              "      <td>67</td>\n",
              "      <td>Paraguay</td>\n",
              "    </tr>\n",
              "    <tr>\n",
              "      <th>1</th>\n",
              "      <td>0</td>\n",
              "      <td>0</td>\n",
              "      <td>1</td>\n",
              "      <td>5</td>\n",
              "      <td>Argentina</td>\n",
              "      <td>67</td>\n",
              "      <td>Paraguay</td>\n",
              "    </tr>\n",
              "    <tr>\n",
              "      <th>2</th>\n",
              "      <td>2</td>\n",
              "      <td>1</td>\n",
              "      <td>1</td>\n",
              "      <td>19</td>\n",
              "      <td>Colombia</td>\n",
              "      <td>5</td>\n",
              "      <td>Argentina</td>\n",
              "    </tr>\n",
              "    <tr>\n",
              "      <th>3</th>\n",
              "      <td>0</td>\n",
              "      <td>1</td>\n",
              "      <td>1</td>\n",
              "      <td>70</td>\n",
              "      <td>Peru</td>\n",
              "      <td>5</td>\n",
              "      <td>Argentina</td>\n",
              "    </tr>\n",
              "    <tr>\n",
              "      <th>4</th>\n",
              "      <td>1</td>\n",
              "      <td>3</td>\n",
              "      <td>1</td>\n",
              "      <td>67</td>\n",
              "      <td>Paraguay</td>\n",
              "      <td>5</td>\n",
              "      <td>Argentina</td>\n",
              "    </tr>\n",
              "  </tbody>\n",
              "</table>\n",
              "</div>\n",
              "      <button class=\"colab-df-convert\" onclick=\"convertToInteractive('df-aa4ac6b9-97b0-4d3f-9196-50d1477243be')\"\n",
              "              title=\"Convert this dataframe to an interactive table.\"\n",
              "              style=\"display:none;\">\n",
              "        \n",
              "  <svg xmlns=\"http://www.w3.org/2000/svg\" height=\"24px\"viewBox=\"0 0 24 24\"\n",
              "       width=\"24px\">\n",
              "    <path d=\"M0 0h24v24H0V0z\" fill=\"none\"/>\n",
              "    <path d=\"M18.56 5.44l.94 2.06.94-2.06 2.06-.94-2.06-.94-.94-2.06-.94 2.06-2.06.94zm-11 1L8.5 8.5l.94-2.06 2.06-.94-2.06-.94L8.5 2.5l-.94 2.06-2.06.94zm10 10l.94 2.06.94-2.06 2.06-.94-2.06-.94-.94-2.06-.94 2.06-2.06.94z\"/><path d=\"M17.41 7.96l-1.37-1.37c-.4-.4-.92-.59-1.43-.59-.52 0-1.04.2-1.43.59L10.3 9.45l-7.72 7.72c-.78.78-.78 2.05 0 2.83L4 21.41c.39.39.9.59 1.41.59.51 0 1.02-.2 1.41-.59l7.78-7.78 2.81-2.81c.8-.78.8-2.07 0-2.86zM5.41 20L4 18.59l7.72-7.72 1.47 1.35L5.41 20z\"/>\n",
              "  </svg>\n",
              "      </button>\n",
              "      \n",
              "  <style>\n",
              "    .colab-df-container {\n",
              "      display:flex;\n",
              "      flex-wrap:wrap;\n",
              "      gap: 12px;\n",
              "    }\n",
              "\n",
              "    .colab-df-convert {\n",
              "      background-color: #E8F0FE;\n",
              "      border: none;\n",
              "      border-radius: 50%;\n",
              "      cursor: pointer;\n",
              "      display: none;\n",
              "      fill: #1967D2;\n",
              "      height: 32px;\n",
              "      padding: 0 0 0 0;\n",
              "      width: 32px;\n",
              "    }\n",
              "\n",
              "    .colab-df-convert:hover {\n",
              "      background-color: #E2EBFA;\n",
              "      box-shadow: 0px 1px 2px rgba(60, 64, 67, 0.3), 0px 1px 3px 1px rgba(60, 64, 67, 0.15);\n",
              "      fill: #174EA6;\n",
              "    }\n",
              "\n",
              "    [theme=dark] .colab-df-convert {\n",
              "      background-color: #3B4455;\n",
              "      fill: #D2E3FC;\n",
              "    }\n",
              "\n",
              "    [theme=dark] .colab-df-convert:hover {\n",
              "      background-color: #434B5C;\n",
              "      box-shadow: 0px 1px 3px 1px rgba(0, 0, 0, 0.15);\n",
              "      filter: drop-shadow(0px 1px 2px rgba(0, 0, 0, 0.3));\n",
              "      fill: #FFFFFF;\n",
              "    }\n",
              "  </style>\n",
              "\n",
              "      <script>\n",
              "        const buttonEl =\n",
              "          document.querySelector('#df-aa4ac6b9-97b0-4d3f-9196-50d1477243be button.colab-df-convert');\n",
              "        buttonEl.style.display =\n",
              "          google.colab.kernel.accessAllowed ? 'block' : 'none';\n",
              "\n",
              "        async function convertToInteractive(key) {\n",
              "          const element = document.querySelector('#df-aa4ac6b9-97b0-4d3f-9196-50d1477243be');\n",
              "          const dataTable =\n",
              "            await google.colab.kernel.invokeFunction('convertToInteractive',\n",
              "                                                     [key], {});\n",
              "          if (!dataTable) return;\n",
              "\n",
              "          const docLinkHtml = 'Like what you see? Visit the ' +\n",
              "            '<a target=\"_blank\" href=https://colab.research.google.com/notebooks/data_table.ipynb>data table notebook</a>'\n",
              "            + ' to learn more about interactive tables.';\n",
              "          element.innerHTML = '';\n",
              "          dataTable['output_type'] = 'display_data';\n",
              "          await google.colab.output.renderOutput(dataTable, element);\n",
              "          const docLink = document.createElement('div');\n",
              "          docLink.innerHTML = docLinkHtml;\n",
              "          element.appendChild(docLink);\n",
              "        }\n",
              "      </script>\n",
              "    </div>\n",
              "  </div>\n",
              "  "
            ]
          },
          "metadata": {},
          "execution_count": 73
        }
      ],
      "source": [
        "# preview the first entries of the dataframe with our features\n",
        "match_copy.head()"
      ]
    },
    {
      "cell_type": "markdown",
      "metadata": {
        "id": "aEpbwAHeMWYI"
      },
      "source": [
        "#### Multicollinearity test"
      ]
    },
    {
      "cell_type": "code",
      "execution_count": 77,
      "metadata": {
        "colab": {
          "base_uri": "https://localhost:8080/",
          "height": 143
        },
        "id": "6HTARpjrHcet",
        "outputId": "92b337b3-6b2c-413e-c2ca-b828f78c2ddc"
      },
      "outputs": [
        {
          "output_type": "execute_result",
          "data": {
            "text/plain": [
              "                tournament  home_team_rank      rank\n",
              "tournament        1.000000        0.094349  0.094754\n",
              "home_team_rank    0.094349        1.000000  0.469861\n",
              "rank              0.094754        0.469861  1.000000"
            ],
            "text/html": [
              "\n",
              "  <div id=\"df-65068cd2-0b14-49b9-83da-e28ad1af7bca\">\n",
              "    <div class=\"colab-df-container\">\n",
              "      <div>\n",
              "<style scoped>\n",
              "    .dataframe tbody tr th:only-of-type {\n",
              "        vertical-align: middle;\n",
              "    }\n",
              "\n",
              "    .dataframe tbody tr th {\n",
              "        vertical-align: top;\n",
              "    }\n",
              "\n",
              "    .dataframe thead th {\n",
              "        text-align: right;\n",
              "    }\n",
              "</style>\n",
              "<table border=\"1\" class=\"dataframe\">\n",
              "  <thead>\n",
              "    <tr style=\"text-align: right;\">\n",
              "      <th></th>\n",
              "      <th>tournament</th>\n",
              "      <th>home_team_rank</th>\n",
              "      <th>rank</th>\n",
              "    </tr>\n",
              "  </thead>\n",
              "  <tbody>\n",
              "    <tr>\n",
              "      <th>tournament</th>\n",
              "      <td>1.000000</td>\n",
              "      <td>0.094349</td>\n",
              "      <td>0.094754</td>\n",
              "    </tr>\n",
              "    <tr>\n",
              "      <th>home_team_rank</th>\n",
              "      <td>0.094349</td>\n",
              "      <td>1.000000</td>\n",
              "      <td>0.469861</td>\n",
              "    </tr>\n",
              "    <tr>\n",
              "      <th>rank</th>\n",
              "      <td>0.094754</td>\n",
              "      <td>0.469861</td>\n",
              "      <td>1.000000</td>\n",
              "    </tr>\n",
              "  </tbody>\n",
              "</table>\n",
              "</div>\n",
              "      <button class=\"colab-df-convert\" onclick=\"convertToInteractive('df-65068cd2-0b14-49b9-83da-e28ad1af7bca')\"\n",
              "              title=\"Convert this dataframe to an interactive table.\"\n",
              "              style=\"display:none;\">\n",
              "        \n",
              "  <svg xmlns=\"http://www.w3.org/2000/svg\" height=\"24px\"viewBox=\"0 0 24 24\"\n",
              "       width=\"24px\">\n",
              "    <path d=\"M0 0h24v24H0V0z\" fill=\"none\"/>\n",
              "    <path d=\"M18.56 5.44l.94 2.06.94-2.06 2.06-.94-2.06-.94-.94-2.06-.94 2.06-2.06.94zm-11 1L8.5 8.5l.94-2.06 2.06-.94-2.06-.94L8.5 2.5l-.94 2.06-2.06.94zm10 10l.94 2.06.94-2.06 2.06-.94-2.06-.94-.94-2.06-.94 2.06-2.06.94z\"/><path d=\"M17.41 7.96l-1.37-1.37c-.4-.4-.92-.59-1.43-.59-.52 0-1.04.2-1.43.59L10.3 9.45l-7.72 7.72c-.78.78-.78 2.05 0 2.83L4 21.41c.39.39.9.59 1.41.59.51 0 1.02-.2 1.41-.59l7.78-7.78 2.81-2.81c.8-.78.8-2.07 0-2.86zM5.41 20L4 18.59l7.72-7.72 1.47 1.35L5.41 20z\"/>\n",
              "  </svg>\n",
              "      </button>\n",
              "      \n",
              "  <style>\n",
              "    .colab-df-container {\n",
              "      display:flex;\n",
              "      flex-wrap:wrap;\n",
              "      gap: 12px;\n",
              "    }\n",
              "\n",
              "    .colab-df-convert {\n",
              "      background-color: #E8F0FE;\n",
              "      border: none;\n",
              "      border-radius: 50%;\n",
              "      cursor: pointer;\n",
              "      display: none;\n",
              "      fill: #1967D2;\n",
              "      height: 32px;\n",
              "      padding: 0 0 0 0;\n",
              "      width: 32px;\n",
              "    }\n",
              "\n",
              "    .colab-df-convert:hover {\n",
              "      background-color: #E2EBFA;\n",
              "      box-shadow: 0px 1px 2px rgba(60, 64, 67, 0.3), 0px 1px 3px 1px rgba(60, 64, 67, 0.15);\n",
              "      fill: #174EA6;\n",
              "    }\n",
              "\n",
              "    [theme=dark] .colab-df-convert {\n",
              "      background-color: #3B4455;\n",
              "      fill: #D2E3FC;\n",
              "    }\n",
              "\n",
              "    [theme=dark] .colab-df-convert:hover {\n",
              "      background-color: #434B5C;\n",
              "      box-shadow: 0px 1px 3px 1px rgba(0, 0, 0, 0.15);\n",
              "      filter: drop-shadow(0px 1px 2px rgba(0, 0, 0, 0.3));\n",
              "      fill: #FFFFFF;\n",
              "    }\n",
              "  </style>\n",
              "\n",
              "      <script>\n",
              "        const buttonEl =\n",
              "          document.querySelector('#df-65068cd2-0b14-49b9-83da-e28ad1af7bca button.colab-df-convert');\n",
              "        buttonEl.style.display =\n",
              "          google.colab.kernel.accessAllowed ? 'block' : 'none';\n",
              "\n",
              "        async function convertToInteractive(key) {\n",
              "          const element = document.querySelector('#df-65068cd2-0b14-49b9-83da-e28ad1af7bca');\n",
              "          const dataTable =\n",
              "            await google.colab.kernel.invokeFunction('convertToInteractive',\n",
              "                                                     [key], {});\n",
              "          if (!dataTable) return;\n",
              "\n",
              "          const docLinkHtml = 'Like what you see? Visit the ' +\n",
              "            '<a target=\"_blank\" href=https://colab.research.google.com/notebooks/data_table.ipynb>data table notebook</a>'\n",
              "            + ' to learn more about interactive tables.';\n",
              "          element.innerHTML = '';\n",
              "          dataTable['output_type'] = 'display_data';\n",
              "          await google.colab.output.renderOutput(dataTable, element);\n",
              "          const docLink = document.createElement('div');\n",
              "          docLink.innerHTML = docLinkHtml;\n",
              "          element.appendChild(docLink);\n",
              "        }\n",
              "      </script>\n",
              "    </div>\n",
              "  </div>\n",
              "  "
            ]
          },
          "metadata": {},
          "execution_count": 77
        }
      ],
      "source": [
        "# lets put all the independent variables in one subset\n",
        "independent_variables = match_copy[['tournament', 'home_team_rank', 'rank']]\n",
        "\n",
        "# find the correlations between the variables\n",
        "correlations = independent_variables.corr()\n",
        "correlations"
      ]
    },
    {
      "cell_type": "markdown",
      "metadata": {
        "id": "iGm6_qNOIYDV"
      },
      "source": [
        "According to the pearson correlation values, none of the variables is strongly correlated to another. We will use the correlations above to compute each variance inflation factors to check for multicollinearity.\n"
      ]
    },
    {
      "cell_type": "code",
      "execution_count": null,
      "metadata": {
        "colab": {
          "base_uri": "https://localhost:8080/",
          "height": 139
        },
        "id": "cHPJ1c6zI70_",
        "outputId": "b14b745b-3e8e-43f3-aaa1-5f531e51f655"
      },
      "outputs": [
        {
          "data": {
            "text/html": [
              "<div>\n",
              "<style scoped>\n",
              "    .dataframe tbody tr th:only-of-type {\n",
              "        vertical-align: middle;\n",
              "    }\n",
              "\n",
              "    .dataframe tbody tr th {\n",
              "        vertical-align: top;\n",
              "    }\n",
              "\n",
              "    .dataframe thead th {\n",
              "        text-align: right;\n",
              "    }\n",
              "</style>\n",
              "<table border=\"1\" class=\"dataframe\">\n",
              "  <thead>\n",
              "    <tr style=\"text-align: right;\">\n",
              "      <th></th>\n",
              "      <th>tournament</th>\n",
              "      <th>home_team_rank</th>\n",
              "      <th>away_team_rank</th>\n",
              "    </tr>\n",
              "  </thead>\n",
              "  <tbody>\n",
              "    <tr>\n",
              "      <th>tournament</th>\n",
              "      <td>1.012314</td>\n",
              "      <td>-0.064732</td>\n",
              "      <td>-0.065505</td>\n",
              "    </tr>\n",
              "    <tr>\n",
              "      <th>home_team_rank</th>\n",
              "      <td>-0.064732</td>\n",
              "      <td>1.287457</td>\n",
              "      <td>-0.598793</td>\n",
              "    </tr>\n",
              "    <tr>\n",
              "      <th>away_team_rank</th>\n",
              "      <td>-0.065505</td>\n",
              "      <td>-0.598793</td>\n",
              "      <td>1.287557</td>\n",
              "    </tr>\n",
              "  </tbody>\n",
              "</table>\n",
              "</div>"
            ],
            "text/plain": [
              "                tournament  home_team_rank  away_team_rank\n",
              "tournament        1.012314       -0.064732       -0.065505\n",
              "home_team_rank   -0.064732        1.287457       -0.598793\n",
              "away_team_rank   -0.065505       -0.598793        1.287557"
            ]
          },
          "execution_count": 129,
          "metadata": {
            "tags": []
          },
          "output_type": "execute_result"
        }
      ],
      "source": [
        "# create a dataframe that shows the VIF scores of the variiables\n",
        "pd.DataFrame(np.linalg.inv(correlations.values), index = correlations.index, columns=correlations.columns)"
      ]
    },
    {
      "cell_type": "markdown",
      "metadata": {
        "id": "tDk5j34-Kal_"
      },
      "source": [
        "The VIF scores show that all the variables are independent of each other."
      ]
    },
    {
      "cell_type": "markdown",
      "metadata": {
        "id": "FQOTL-0tLcU_"
      },
      "source": [
        "### Model 1  \n",
        "The first model will be for predicting the number of goals a home team scores based on the home team's rank, away team's rank and the tournament's type"
      ]
    },
    {
      "cell_type": "code",
      "execution_count": 80,
      "metadata": {
        "id": "etX5OphLNNpf"
      },
      "outputs": [],
      "source": [
        "# Preparing the Data\n",
        "\n",
        "# divide the data into \"attributes\" and \"labels\" by assigning the attributes to variable X and the label to variable y \n",
        "W = match_copy[['home_team_rank', 'rank', 'tournament']]\n",
        "z = match_copy[\"home_score\"]"
      ]
    },
    {
      "cell_type": "code",
      "execution_count": 81,
      "metadata": {
        "colab": {
          "base_uri": "https://localhost:8080/"
        },
        "id": "7LGW8WBdNvVR",
        "outputId": "76205e72-a8e9-4dfb-e318-c2f2d5d33d6e"
      },
      "outputs": [
        {
          "output_type": "execute_result",
          "data": {
            "text/plain": [
              "Pipeline(steps=[('polynomial', PolynomialFeatures()),\n",
              "                ('modal', LinearRegression())])"
            ]
          },
          "metadata": {},
          "execution_count": 81
        }
      ],
      "source": [
        "# import polynomial and linear regression features\n",
        "from sklearn.preprocessing import PolynomialFeatures\n",
        "from sklearn.linear_model import LinearRegression\n",
        "\n",
        "# import pipline for creating a pipeline\n",
        "from sklearn.pipeline import Pipeline\n",
        "\n",
        "# instantiate the polynomial and linear regression models\n",
        "Input=[('polynomial',PolynomialFeatures(degree=2)),('modal',LinearRegression())]\n",
        "\n",
        "# create a pipline and fit it to our data\n",
        "pipe = Pipeline(Input)\n",
        "pipe.fit(W,z)"
      ]
    },
    {
      "cell_type": "code",
      "execution_count": 82,
      "metadata": {
        "colab": {
          "base_uri": "https://localhost:8080/",
          "height": 424
        },
        "id": "Qm6QlxfWV1eE",
        "outputId": "89724e24-c7af-48cc-ec9d-c43d479e89d3"
      },
      "outputs": [
        {
          "output_type": "execute_result",
          "data": {
            "text/plain": [
              "       Actual  Predicted\n",
              "0           0   2.012797\n",
              "1           0   2.214534\n",
              "2           2   1.278425\n",
              "3           0   0.799616\n",
              "4           1   0.824855\n",
              "...       ...        ...\n",
              "16913       1   1.308982\n",
              "16914       4   1.137244\n",
              "16915       0   0.890305\n",
              "16916       1   1.582816\n",
              "16917       2   1.104026\n",
              "\n",
              "[16918 rows x 2 columns]"
            ],
            "text/html": [
              "\n",
              "  <div id=\"df-02a18867-1014-41f3-9c04-4972e2a4dbb8\">\n",
              "    <div class=\"colab-df-container\">\n",
              "      <div>\n",
              "<style scoped>\n",
              "    .dataframe tbody tr th:only-of-type {\n",
              "        vertical-align: middle;\n",
              "    }\n",
              "\n",
              "    .dataframe tbody tr th {\n",
              "        vertical-align: top;\n",
              "    }\n",
              "\n",
              "    .dataframe thead th {\n",
              "        text-align: right;\n",
              "    }\n",
              "</style>\n",
              "<table border=\"1\" class=\"dataframe\">\n",
              "  <thead>\n",
              "    <tr style=\"text-align: right;\">\n",
              "      <th></th>\n",
              "      <th>Actual</th>\n",
              "      <th>Predicted</th>\n",
              "    </tr>\n",
              "  </thead>\n",
              "  <tbody>\n",
              "    <tr>\n",
              "      <th>0</th>\n",
              "      <td>0</td>\n",
              "      <td>2.012797</td>\n",
              "    </tr>\n",
              "    <tr>\n",
              "      <th>1</th>\n",
              "      <td>0</td>\n",
              "      <td>2.214534</td>\n",
              "    </tr>\n",
              "    <tr>\n",
              "      <th>2</th>\n",
              "      <td>2</td>\n",
              "      <td>1.278425</td>\n",
              "    </tr>\n",
              "    <tr>\n",
              "      <th>3</th>\n",
              "      <td>0</td>\n",
              "      <td>0.799616</td>\n",
              "    </tr>\n",
              "    <tr>\n",
              "      <th>4</th>\n",
              "      <td>1</td>\n",
              "      <td>0.824855</td>\n",
              "    </tr>\n",
              "    <tr>\n",
              "      <th>...</th>\n",
              "      <td>...</td>\n",
              "      <td>...</td>\n",
              "    </tr>\n",
              "    <tr>\n",
              "      <th>16913</th>\n",
              "      <td>1</td>\n",
              "      <td>1.308982</td>\n",
              "    </tr>\n",
              "    <tr>\n",
              "      <th>16914</th>\n",
              "      <td>4</td>\n",
              "      <td>1.137244</td>\n",
              "    </tr>\n",
              "    <tr>\n",
              "      <th>16915</th>\n",
              "      <td>0</td>\n",
              "      <td>0.890305</td>\n",
              "    </tr>\n",
              "    <tr>\n",
              "      <th>16916</th>\n",
              "      <td>1</td>\n",
              "      <td>1.582816</td>\n",
              "    </tr>\n",
              "    <tr>\n",
              "      <th>16917</th>\n",
              "      <td>2</td>\n",
              "      <td>1.104026</td>\n",
              "    </tr>\n",
              "  </tbody>\n",
              "</table>\n",
              "<p>16918 rows × 2 columns</p>\n",
              "</div>\n",
              "      <button class=\"colab-df-convert\" onclick=\"convertToInteractive('df-02a18867-1014-41f3-9c04-4972e2a4dbb8')\"\n",
              "              title=\"Convert this dataframe to an interactive table.\"\n",
              "              style=\"display:none;\">\n",
              "        \n",
              "  <svg xmlns=\"http://www.w3.org/2000/svg\" height=\"24px\"viewBox=\"0 0 24 24\"\n",
              "       width=\"24px\">\n",
              "    <path d=\"M0 0h24v24H0V0z\" fill=\"none\"/>\n",
              "    <path d=\"M18.56 5.44l.94 2.06.94-2.06 2.06-.94-2.06-.94-.94-2.06-.94 2.06-2.06.94zm-11 1L8.5 8.5l.94-2.06 2.06-.94-2.06-.94L8.5 2.5l-.94 2.06-2.06.94zm10 10l.94 2.06.94-2.06 2.06-.94-2.06-.94-.94-2.06-.94 2.06-2.06.94z\"/><path d=\"M17.41 7.96l-1.37-1.37c-.4-.4-.92-.59-1.43-.59-.52 0-1.04.2-1.43.59L10.3 9.45l-7.72 7.72c-.78.78-.78 2.05 0 2.83L4 21.41c.39.39.9.59 1.41.59.51 0 1.02-.2 1.41-.59l7.78-7.78 2.81-2.81c.8-.78.8-2.07 0-2.86zM5.41 20L4 18.59l7.72-7.72 1.47 1.35L5.41 20z\"/>\n",
              "  </svg>\n",
              "      </button>\n",
              "      \n",
              "  <style>\n",
              "    .colab-df-container {\n",
              "      display:flex;\n",
              "      flex-wrap:wrap;\n",
              "      gap: 12px;\n",
              "    }\n",
              "\n",
              "    .colab-df-convert {\n",
              "      background-color: #E8F0FE;\n",
              "      border: none;\n",
              "      border-radius: 50%;\n",
              "      cursor: pointer;\n",
              "      display: none;\n",
              "      fill: #1967D2;\n",
              "      height: 32px;\n",
              "      padding: 0 0 0 0;\n",
              "      width: 32px;\n",
              "    }\n",
              "\n",
              "    .colab-df-convert:hover {\n",
              "      background-color: #E2EBFA;\n",
              "      box-shadow: 0px 1px 2px rgba(60, 64, 67, 0.3), 0px 1px 3px 1px rgba(60, 64, 67, 0.15);\n",
              "      fill: #174EA6;\n",
              "    }\n",
              "\n",
              "    [theme=dark] .colab-df-convert {\n",
              "      background-color: #3B4455;\n",
              "      fill: #D2E3FC;\n",
              "    }\n",
              "\n",
              "    [theme=dark] .colab-df-convert:hover {\n",
              "      background-color: #434B5C;\n",
              "      box-shadow: 0px 1px 3px 1px rgba(0, 0, 0, 0.15);\n",
              "      filter: drop-shadow(0px 1px 2px rgba(0, 0, 0, 0.3));\n",
              "      fill: #FFFFFF;\n",
              "    }\n",
              "  </style>\n",
              "\n",
              "      <script>\n",
              "        const buttonEl =\n",
              "          document.querySelector('#df-02a18867-1014-41f3-9c04-4972e2a4dbb8 button.colab-df-convert');\n",
              "        buttonEl.style.display =\n",
              "          google.colab.kernel.accessAllowed ? 'block' : 'none';\n",
              "\n",
              "        async function convertToInteractive(key) {\n",
              "          const element = document.querySelector('#df-02a18867-1014-41f3-9c04-4972e2a4dbb8');\n",
              "          const dataTable =\n",
              "            await google.colab.kernel.invokeFunction('convertToInteractive',\n",
              "                                                     [key], {});\n",
              "          if (!dataTable) return;\n",
              "\n",
              "          const docLinkHtml = 'Like what you see? Visit the ' +\n",
              "            '<a target=\"_blank\" href=https://colab.research.google.com/notebooks/data_table.ipynb>data table notebook</a>'\n",
              "            + ' to learn more about interactive tables.';\n",
              "          element.innerHTML = '';\n",
              "          dataTable['output_type'] = 'display_data';\n",
              "          await google.colab.output.renderOutput(dataTable, element);\n",
              "          const docLink = document.createElement('div');\n",
              "          docLink.innerHTML = docLinkHtml;\n",
              "          element.appendChild(docLink);\n",
              "        }\n",
              "      </script>\n",
              "    </div>\n",
              "  </div>\n",
              "  "
            ]
          },
          "metadata": {},
          "execution_count": 82
        }
      ],
      "source": [
        "# create an array of predicted values based on our attributes\n",
        "z_pred=pipe.predict(W)\n",
        "\n",
        "# create a dataframe that compares the actual values to the predicted values\n",
        "df1 = pd.DataFrame({'Actual': z, 'Predicted': z_pred})\n",
        "# display top 10 entries in the comparison dataframe\n",
        "df1"
      ]
    },
    {
      "cell_type": "code",
      "execution_count": 83,
      "metadata": {
        "colab": {
          "base_uri": "https://localhost:8080/"
        },
        "id": "cDKB6J7FYjN6",
        "outputId": "dd30d21a-57a6-49b0-f778-3d0431748a57"
      },
      "outputs": [
        {
          "output_type": "stream",
          "name": "stdout",
          "text": [
            "Mean Absolute Error: 1.0378782266949116\n",
            "Mean Squared Error: 2.010820380721667\n",
            "Root Mean Squared Error: 1.4180339843324161\n"
          ]
        }
      ],
      "source": [
        "# evaluate the algorithm using square root of the mean of the squared errors\n",
        "\n",
        "# import metrics\n",
        "from sklearn import metrics\n",
        "\n",
        "# compute and print the mean of the absolute value of the errors, mean of the squared errors, andsquare root of the mean of the squared errors\n",
        "print('Mean Absolute Error:', metrics.mean_absolute_error(z, z_pred))\n",
        "print('Mean Squared Error:', metrics.mean_squared_error(z, z_pred))\n",
        "print('Root Mean Squared Error:', np.sqrt(metrics.mean_squared_error(z, z_pred)))"
      ]
    },
    {
      "cell_type": "markdown",
      "metadata": {
        "id": "bB5J1stUa0Ww"
      },
      "source": [
        "The RMSE of a good model should be less than 10% of the mean of the target values.\n",
        "\n",
        "The mean of home scores is approximately 1.60, meaning that our model with a RMSE of approximately 1.42 (88.75% of the mean of home scores) is not good at predicting the number of goals scored by a home team based on the home team's rank, away team's rank and tournament's type  "
      ]
    },
    {
      "cell_type": "markdown",
      "metadata": {
        "id": "gVMpJoPAljjE"
      },
      "source": [
        "#### Adjust Degrees to 6\n"
      ]
    },
    {
      "cell_type": "code",
      "execution_count": 84,
      "metadata": {
        "colab": {
          "base_uri": "https://localhost:8080/"
        },
        "id": "2yrY2NILm4AM",
        "outputId": "590ba51d-5c1a-4140-f89e-56b82668c0db"
      },
      "outputs": [
        {
          "output_type": "execute_result",
          "data": {
            "text/plain": [
              "Pipeline(steps=[('polynomial', PolynomialFeatures(degree=6)),\n",
              "                ('modal', LinearRegression())])"
            ]
          },
          "metadata": {},
          "execution_count": 84
        }
      ],
      "source": [
        "# instantiate the polynomial and linear regression models with polynomial degrees set as 6\n",
        "Input=[('polynomial',PolynomialFeatures(degree=6)),('modal',LinearRegression())]\n",
        "\n",
        "# create a pipline and fit it to our data\n",
        "pipe = Pipeline(Input)\n",
        "pipe.fit(W,z)"
      ]
    },
    {
      "cell_type": "code",
      "execution_count": 85,
      "metadata": {
        "colab": {
          "base_uri": "https://localhost:8080/",
          "height": 424
        },
        "id": "nRxkWd33m4AQ",
        "outputId": "9ffadd27-0557-47c0-9bf6-48b7961ad8bd"
      },
      "outputs": [
        {
          "output_type": "execute_result",
          "data": {
            "text/plain": [
              "       Actual  Predicted\n",
              "0           0   2.014154\n",
              "1           0   2.523979\n",
              "2           2   1.010600\n",
              "3           0   0.679455\n",
              "4           1   0.699522\n",
              "...       ...        ...\n",
              "16913       1   1.121747\n",
              "16914       4   1.187459\n",
              "16915       0   0.789888\n",
              "16916       1   1.802564\n",
              "16917       2   1.098053\n",
              "\n",
              "[16918 rows x 2 columns]"
            ],
            "text/html": [
              "\n",
              "  <div id=\"df-e907f5fc-a5c2-42c5-8849-c82d565f8024\">\n",
              "    <div class=\"colab-df-container\">\n",
              "      <div>\n",
              "<style scoped>\n",
              "    .dataframe tbody tr th:only-of-type {\n",
              "        vertical-align: middle;\n",
              "    }\n",
              "\n",
              "    .dataframe tbody tr th {\n",
              "        vertical-align: top;\n",
              "    }\n",
              "\n",
              "    .dataframe thead th {\n",
              "        text-align: right;\n",
              "    }\n",
              "</style>\n",
              "<table border=\"1\" class=\"dataframe\">\n",
              "  <thead>\n",
              "    <tr style=\"text-align: right;\">\n",
              "      <th></th>\n",
              "      <th>Actual</th>\n",
              "      <th>Predicted</th>\n",
              "    </tr>\n",
              "  </thead>\n",
              "  <tbody>\n",
              "    <tr>\n",
              "      <th>0</th>\n",
              "      <td>0</td>\n",
              "      <td>2.014154</td>\n",
              "    </tr>\n",
              "    <tr>\n",
              "      <th>1</th>\n",
              "      <td>0</td>\n",
              "      <td>2.523979</td>\n",
              "    </tr>\n",
              "    <tr>\n",
              "      <th>2</th>\n",
              "      <td>2</td>\n",
              "      <td>1.010600</td>\n",
              "    </tr>\n",
              "    <tr>\n",
              "      <th>3</th>\n",
              "      <td>0</td>\n",
              "      <td>0.679455</td>\n",
              "    </tr>\n",
              "    <tr>\n",
              "      <th>4</th>\n",
              "      <td>1</td>\n",
              "      <td>0.699522</td>\n",
              "    </tr>\n",
              "    <tr>\n",
              "      <th>...</th>\n",
              "      <td>...</td>\n",
              "      <td>...</td>\n",
              "    </tr>\n",
              "    <tr>\n",
              "      <th>16913</th>\n",
              "      <td>1</td>\n",
              "      <td>1.121747</td>\n",
              "    </tr>\n",
              "    <tr>\n",
              "      <th>16914</th>\n",
              "      <td>4</td>\n",
              "      <td>1.187459</td>\n",
              "    </tr>\n",
              "    <tr>\n",
              "      <th>16915</th>\n",
              "      <td>0</td>\n",
              "      <td>0.789888</td>\n",
              "    </tr>\n",
              "    <tr>\n",
              "      <th>16916</th>\n",
              "      <td>1</td>\n",
              "      <td>1.802564</td>\n",
              "    </tr>\n",
              "    <tr>\n",
              "      <th>16917</th>\n",
              "      <td>2</td>\n",
              "      <td>1.098053</td>\n",
              "    </tr>\n",
              "  </tbody>\n",
              "</table>\n",
              "<p>16918 rows × 2 columns</p>\n",
              "</div>\n",
              "      <button class=\"colab-df-convert\" onclick=\"convertToInteractive('df-e907f5fc-a5c2-42c5-8849-c82d565f8024')\"\n",
              "              title=\"Convert this dataframe to an interactive table.\"\n",
              "              style=\"display:none;\">\n",
              "        \n",
              "  <svg xmlns=\"http://www.w3.org/2000/svg\" height=\"24px\"viewBox=\"0 0 24 24\"\n",
              "       width=\"24px\">\n",
              "    <path d=\"M0 0h24v24H0V0z\" fill=\"none\"/>\n",
              "    <path d=\"M18.56 5.44l.94 2.06.94-2.06 2.06-.94-2.06-.94-.94-2.06-.94 2.06-2.06.94zm-11 1L8.5 8.5l.94-2.06 2.06-.94-2.06-.94L8.5 2.5l-.94 2.06-2.06.94zm10 10l.94 2.06.94-2.06 2.06-.94-2.06-.94-.94-2.06-.94 2.06-2.06.94z\"/><path d=\"M17.41 7.96l-1.37-1.37c-.4-.4-.92-.59-1.43-.59-.52 0-1.04.2-1.43.59L10.3 9.45l-7.72 7.72c-.78.78-.78 2.05 0 2.83L4 21.41c.39.39.9.59 1.41.59.51 0 1.02-.2 1.41-.59l7.78-7.78 2.81-2.81c.8-.78.8-2.07 0-2.86zM5.41 20L4 18.59l7.72-7.72 1.47 1.35L5.41 20z\"/>\n",
              "  </svg>\n",
              "      </button>\n",
              "      \n",
              "  <style>\n",
              "    .colab-df-container {\n",
              "      display:flex;\n",
              "      flex-wrap:wrap;\n",
              "      gap: 12px;\n",
              "    }\n",
              "\n",
              "    .colab-df-convert {\n",
              "      background-color: #E8F0FE;\n",
              "      border: none;\n",
              "      border-radius: 50%;\n",
              "      cursor: pointer;\n",
              "      display: none;\n",
              "      fill: #1967D2;\n",
              "      height: 32px;\n",
              "      padding: 0 0 0 0;\n",
              "      width: 32px;\n",
              "    }\n",
              "\n",
              "    .colab-df-convert:hover {\n",
              "      background-color: #E2EBFA;\n",
              "      box-shadow: 0px 1px 2px rgba(60, 64, 67, 0.3), 0px 1px 3px 1px rgba(60, 64, 67, 0.15);\n",
              "      fill: #174EA6;\n",
              "    }\n",
              "\n",
              "    [theme=dark] .colab-df-convert {\n",
              "      background-color: #3B4455;\n",
              "      fill: #D2E3FC;\n",
              "    }\n",
              "\n",
              "    [theme=dark] .colab-df-convert:hover {\n",
              "      background-color: #434B5C;\n",
              "      box-shadow: 0px 1px 3px 1px rgba(0, 0, 0, 0.15);\n",
              "      filter: drop-shadow(0px 1px 2px rgba(0, 0, 0, 0.3));\n",
              "      fill: #FFFFFF;\n",
              "    }\n",
              "  </style>\n",
              "\n",
              "      <script>\n",
              "        const buttonEl =\n",
              "          document.querySelector('#df-e907f5fc-a5c2-42c5-8849-c82d565f8024 button.colab-df-convert');\n",
              "        buttonEl.style.display =\n",
              "          google.colab.kernel.accessAllowed ? 'block' : 'none';\n",
              "\n",
              "        async function convertToInteractive(key) {\n",
              "          const element = document.querySelector('#df-e907f5fc-a5c2-42c5-8849-c82d565f8024');\n",
              "          const dataTable =\n",
              "            await google.colab.kernel.invokeFunction('convertToInteractive',\n",
              "                                                     [key], {});\n",
              "          if (!dataTable) return;\n",
              "\n",
              "          const docLinkHtml = 'Like what you see? Visit the ' +\n",
              "            '<a target=\"_blank\" href=https://colab.research.google.com/notebooks/data_table.ipynb>data table notebook</a>'\n",
              "            + ' to learn more about interactive tables.';\n",
              "          element.innerHTML = '';\n",
              "          dataTable['output_type'] = 'display_data';\n",
              "          await google.colab.output.renderOutput(dataTable, element);\n",
              "          const docLink = document.createElement('div');\n",
              "          docLink.innerHTML = docLinkHtml;\n",
              "          element.appendChild(docLink);\n",
              "        }\n",
              "      </script>\n",
              "    </div>\n",
              "  </div>\n",
              "  "
            ]
          },
          "metadata": {},
          "execution_count": 85
        }
      ],
      "source": [
        "# create an array of predicted values based on our attributes\n",
        "z_pred=pipe.predict(W)\n",
        "\n",
        "# create a dataframe that compares the actual values to the predicted values\n",
        "df1 = pd.DataFrame({'Actual': z, 'Predicted': z_pred})\n",
        "# display top 10 entries in the comparison dataframe\n",
        "df1"
      ]
    },
    {
      "cell_type": "code",
      "execution_count": 86,
      "metadata": {
        "colab": {
          "base_uri": "https://localhost:8080/"
        },
        "id": "4Lx67sXjm4AQ",
        "outputId": "177d04f0-3def-4c12-f81d-3490c45488cc"
      },
      "outputs": [
        {
          "output_type": "stream",
          "name": "stdout",
          "text": [
            "Mean Absolute Error: 1.0283680408061568\n",
            "Mean Squared Error: 1.9663737815649285\n",
            "Root Mean Squared Error: 1.402274502929055\n"
          ]
        }
      ],
      "source": [
        "# evaluate the algorithm using square root of the mean of the squared errors\n",
        "\n",
        "# import metrics\n",
        "from sklearn import metrics\n",
        "\n",
        "# compute and print the mean of the absolute value of the errors, mean of the squared errors, andsquare root of the mean of the squared errors\n",
        "print('Mean Absolute Error:', metrics.mean_absolute_error(z, z_pred))\n",
        "print('Mean Squared Error:', metrics.mean_squared_error(z, z_pred))\n",
        "print('Root Mean Squared Error:', np.sqrt(metrics.mean_squared_error(z, z_pred)))"
      ]
    },
    {
      "cell_type": "markdown",
      "metadata": {
        "id": "aEEXx2EXnNu8"
      },
      "source": [
        "After adjusting our degrees,\n",
        "\n",
        "The the RMSE reduced by 0.02 point but it is still too high to consider the model as good."
      ]
    },
    {
      "cell_type": "markdown",
      "metadata": {
        "id": "5e7SLvPJtCHy"
      },
      "source": [
        "#### Residual plots\n"
      ]
    },
    {
      "cell_type": "code",
      "execution_count": 87,
      "metadata": {
        "colab": {
          "base_uri": "https://localhost:8080/"
        },
        "id": "3oWwN4-7tBOu",
        "outputId": "48a331f1-6db0-4fad-98c3-93f4c86191f5"
      },
      "outputs": [
        {
          "output_type": "execute_result",
          "data": {
            "text/plain": [
              "1.103382126704384e-12"
            ]
          },
          "metadata": {},
          "execution_count": 87
        }
      ],
      "source": [
        "#Step 1\n",
        "# create the residual by subtracting the test value from the predicted value\n",
        "residuals = np.subtract(z_pred, z)\n",
        "\n",
        "#Step 2\n",
        "# statistical description\n",
        "residual = pd.DataFrame(residuals).describe()\n",
        "\n",
        "#Step 3\n",
        "# compute the mean of the residuals \n",
        "residuals.mean()"
      ]
    },
    {
      "cell_type": "code",
      "execution_count": 88,
      "metadata": {
        "colab": {
          "base_uri": "https://localhost:8080/",
          "height": 289
        },
        "id": "oPfHGEk5t1yB",
        "outputId": "1b7d56bb-630e-49ee-ecdf-abe8335d2f9a"
      },
      "outputs": [
        {
          "output_type": "display_data",
          "data": {
            "text/plain": [
              "<Figure size 432x288 with 1 Axes>"
            ],
            "image/png": "[encoded data removed]"
          },
          "metadata": {
            "needs_background": "light"
          }
        }
      ],
      "source": [
        "#Step 4\n",
        "#  We create residual scatter plot of actual vs predicted values\n",
        "plt.scatter(z_pred, residuals, color = 'black')\n",
        "plt.ylabel('Residuals', fontsize = 19)\n",
        "plt.xlabel('Home_ score Predicted', fontsize = 19)\n",
        "plt.axhline(y = residuals.mean(), color = 'r', linewidth = 1)\n",
        "plt.show()"
      ]
    },
    {
      "cell_type": "markdown",
      "metadata": {
        "id": "XLhGQVlMuSGj"
      },
      "source": [
        "Even though there are many residuals around the mean most of rhe residuals are not are round the mean"
      ]
    },
    {
      "cell_type": "markdown",
      "metadata": {
        "id": "7ImbnTpLtbjU"
      },
      "source": [
        "#### Heteroskedasticity testing"
      ]
    },
    {
      "cell_type": "markdown",
      "metadata": {
        "id": "wdBKsqtCtln4"
      },
      "source": [
        "We will perform heteroskedasticity testing using bartlett's test. The test tests the null hypothesis that the variance is equal for all our datapoints,and the new hypothesis that the variance is different for at least one pair of datapoints."
      ]
    },
    {
      "cell_type": "code",
      "execution_count": 89,
      "metadata": {
        "colab": {
          "base_uri": "https://localhost:8080/"
        },
        "id": "PhE3dmM3tbBy",
        "outputId": "8ee00b08-621a-455b-dd57-2f4d00c1d568"
      },
      "outputs": [
        {
          "output_type": "stream",
          "name": "stdout",
          "text": [
            "The variances are homogeneous!\n"
          ]
        }
      ],
      "source": [
        "import scipy as sp\n",
        "# compute the test result and p-value of the test\n",
        "test_result, p_value = sp.stats.bartlett(z_pred, residuals)\n",
        "\n",
        "# compute the critical value of the chi squared distribution\n",
        "degree_of_freedom = len(z_pred)-1\n",
        "probability = 1 - p_value\n",
        "critical_value = sp.stats.chi2.ppf(probability, degree_of_freedom)\n",
        "\n",
        "# If the test_result is greater than the critical value, reject the null hypothesis. \n",
        "# This means there are patterns to the variance of the data\n",
        "\n",
        "# Otherwise, identify no patterns, and  accept the null hypothesis \n",
        "# The variance is homogeneous across our data\n",
        "\n",
        "if(test_result > critical_value):\n",
        "    print(\"the variances are unequal, and the model should be reassessed\")\n",
        "else:\n",
        "    print(\"The variances are homogeneous!\")\n",
        "    import scipy as sp\n",
        "\n"
      ]
    },
    {
      "cell_type": "markdown",
      "metadata": {
        "id": "95jxe8RIL913"
      },
      "source": [
        "### Model 2\n",
        "The second model will be for predicting the number of goals an away team scores based on the home team's rank, away team's rank and the tournament's type"
      ]
    },
    {
      "cell_type": "code",
      "execution_count": 90,
      "metadata": {
        "id": "bZwEO9wbbHUf"
      },
      "outputs": [],
      "source": [
        "# Preparing the Data\n",
        "\n",
        "# divide the data into \"attributes\" and \"labels\" by assigning the attributes to variable X and the label to variable y \n",
        "S = match_copy[['home_team_rank', 'rank', 'tournament']]\n",
        "t = match_copy[\"away_score\"]"
      ]
    },
    {
      "cell_type": "code",
      "execution_count": 91,
      "metadata": {
        "colab": {
          "base_uri": "https://localhost:8080/"
        },
        "id": "U_pKvcGBbHUm",
        "outputId": "6ea25e4e-2347-44e5-b385-3aeb097f37dd"
      },
      "outputs": [
        {
          "output_type": "execute_result",
          "data": {
            "text/plain": [
              "Pipeline(steps=[('polynomial', PolynomialFeatures()),\n",
              "                ('modal', LinearRegression())])"
            ]
          },
          "metadata": {},
          "execution_count": 91
        }
      ],
      "source": [
        "# instantiate the polynomial and linear regression models\n",
        "Input=[('polynomial',PolynomialFeatures(degree=2)),('modal',LinearRegression())]\n",
        "\n",
        "# create a pipline and fit it to our data\n",
        "pipe = Pipeline(Input)\n",
        "pipe.fit(S,t)"
      ]
    },
    {
      "cell_type": "code",
      "execution_count": 92,
      "metadata": {
        "colab": {
          "base_uri": "https://localhost:8080/",
          "height": 424
        },
        "id": "XBYJTZZbbHUm",
        "outputId": "cab3e37a-087b-4f11-b69e-9a8513e98dfa"
      },
      "outputs": [
        {
          "output_type": "execute_result",
          "data": {
            "text/plain": [
              "       Actual  Predicted\n",
              "0           0   0.611150\n",
              "1           0   0.559196\n",
              "2           1   1.226242\n",
              "3           1   1.725037\n",
              "4           3   1.688279\n",
              "...       ...        ...\n",
              "16913       2   1.157925\n",
              "16914       2   1.188699\n",
              "16915       1   1.576381\n",
              "16916       1   0.952612\n",
              "16917       0   1.261343\n",
              "\n",
              "[16918 rows x 2 columns]"
            ],
            "text/html": [
              "\n",
              "  <div id=\"df-aedabb94-616d-4351-9c7a-51585090cd50\">\n",
              "    <div class=\"colab-df-container\">\n",
              "      <div>\n",
              "<style scoped>\n",
              "    .dataframe tbody tr th:only-of-type {\n",
              "        vertical-align: middle;\n",
              "    }\n",
              "\n",
              "    .dataframe tbody tr th {\n",
              "        vertical-align: top;\n",
              "    }\n",
              "\n",
              "    .dataframe thead th {\n",
              "        text-align: right;\n",
              "    }\n",
              "</style>\n",
              "<table border=\"1\" class=\"dataframe\">\n",
              "  <thead>\n",
              "    <tr style=\"text-align: right;\">\n",
              "      <th></th>\n",
              "      <th>Actual</th>\n",
              "      <th>Predicted</th>\n",
              "    </tr>\n",
              "  </thead>\n",
              "  <tbody>\n",
              "    <tr>\n",
              "      <th>0</th>\n",
              "      <td>0</td>\n",
              "      <td>0.611150</td>\n",
              "    </tr>\n",
              "    <tr>\n",
              "      <th>1</th>\n",
              "      <td>0</td>\n",
              "      <td>0.559196</td>\n",
              "    </tr>\n",
              "    <tr>\n",
              "      <th>2</th>\n",
              "      <td>1</td>\n",
              "      <td>1.226242</td>\n",
              "    </tr>\n",
              "    <tr>\n",
              "      <th>3</th>\n",
              "      <td>1</td>\n",
              "      <td>1.725037</td>\n",
              "    </tr>\n",
              "    <tr>\n",
              "      <th>4</th>\n",
              "      <td>3</td>\n",
              "      <td>1.688279</td>\n",
              "    </tr>\n",
              "    <tr>\n",
              "      <th>...</th>\n",
              "      <td>...</td>\n",
              "      <td>...</td>\n",
              "    </tr>\n",
              "    <tr>\n",
              "      <th>16913</th>\n",
              "      <td>2</td>\n",
              "      <td>1.157925</td>\n",
              "    </tr>\n",
              "    <tr>\n",
              "      <th>16914</th>\n",
              "      <td>2</td>\n",
              "      <td>1.188699</td>\n",
              "    </tr>\n",
              "    <tr>\n",
              "      <th>16915</th>\n",
              "      <td>1</td>\n",
              "      <td>1.576381</td>\n",
              "    </tr>\n",
              "    <tr>\n",
              "      <th>16916</th>\n",
              "      <td>1</td>\n",
              "      <td>0.952612</td>\n",
              "    </tr>\n",
              "    <tr>\n",
              "      <th>16917</th>\n",
              "      <td>0</td>\n",
              "      <td>1.261343</td>\n",
              "    </tr>\n",
              "  </tbody>\n",
              "</table>\n",
              "<p>16918 rows × 2 columns</p>\n",
              "</div>\n",
              "      <button class=\"colab-df-convert\" onclick=\"convertToInteractive('df-aedabb94-616d-4351-9c7a-51585090cd50')\"\n",
              "              title=\"Convert this dataframe to an interactive table.\"\n",
              "              style=\"display:none;\">\n",
              "        \n",
              "  <svg xmlns=\"http://www.w3.org/2000/svg\" height=\"24px\"viewBox=\"0 0 24 24\"\n",
              "       width=\"24px\">\n",
              "    <path d=\"M0 0h24v24H0V0z\" fill=\"none\"/>\n",
              "    <path d=\"M18.56 5.44l.94 2.06.94-2.06 2.06-.94-2.06-.94-.94-2.06-.94 2.06-2.06.94zm-11 1L8.5 8.5l.94-2.06 2.06-.94-2.06-.94L8.5 2.5l-.94 2.06-2.06.94zm10 10l.94 2.06.94-2.06 2.06-.94-2.06-.94-.94-2.06-.94 2.06-2.06.94z\"/><path d=\"M17.41 7.96l-1.37-1.37c-.4-.4-.92-.59-1.43-.59-.52 0-1.04.2-1.43.59L10.3 9.45l-7.72 7.72c-.78.78-.78 2.05 0 2.83L4 21.41c.39.39.9.59 1.41.59.51 0 1.02-.2 1.41-.59l7.78-7.78 2.81-2.81c.8-.78.8-2.07 0-2.86zM5.41 20L4 18.59l7.72-7.72 1.47 1.35L5.41 20z\"/>\n",
              "  </svg>\n",
              "      </button>\n",
              "      \n",
              "  <style>\n",
              "    .colab-df-container {\n",
              "      display:flex;\n",
              "      flex-wrap:wrap;\n",
              "      gap: 12px;\n",
              "    }\n",
              "\n",
              "    .colab-df-convert {\n",
              "      background-color: #E8F0FE;\n",
              "      border: none;\n",
              "      border-radius: 50%;\n",
              "      cursor: pointer;\n",
              "      display: none;\n",
              "      fill: #1967D2;\n",
              "      height: 32px;\n",
              "      padding: 0 0 0 0;\n",
              "      width: 32px;\n",
              "    }\n",
              "\n",
              "    .colab-df-convert:hover {\n",
              "      background-color: #E2EBFA;\n",
              "      box-shadow: 0px 1px 2px rgba(60, 64, 67, 0.3), 0px 1px 3px 1px rgba(60, 64, 67, 0.15);\n",
              "      fill: #174EA6;\n",
              "    }\n",
              "\n",
              "    [theme=dark] .colab-df-convert {\n",
              "      background-color: #3B4455;\n",
              "      fill: #D2E3FC;\n",
              "    }\n",
              "\n",
              "    [theme=dark] .colab-df-convert:hover {\n",
              "      background-color: #434B5C;\n",
              "      box-shadow: 0px 1px 3px 1px rgba(0, 0, 0, 0.15);\n",
              "      filter: drop-shadow(0px 1px 2px rgba(0, 0, 0, 0.3));\n",
              "      fill: #FFFFFF;\n",
              "    }\n",
              "  </style>\n",
              "\n",
              "      <script>\n",
              "        const buttonEl =\n",
              "          document.querySelector('#df-aedabb94-616d-4351-9c7a-51585090cd50 button.colab-df-convert');\n",
              "        buttonEl.style.display =\n",
              "          google.colab.kernel.accessAllowed ? 'block' : 'none';\n",
              "\n",
              "        async function convertToInteractive(key) {\n",
              "          const element = document.querySelector('#df-aedabb94-616d-4351-9c7a-51585090cd50');\n",
              "          const dataTable =\n",
              "            await google.colab.kernel.invokeFunction('convertToInteractive',\n",
              "                                                     [key], {});\n",
              "          if (!dataTable) return;\n",
              "\n",
              "          const docLinkHtml = 'Like what you see? Visit the ' +\n",
              "            '<a target=\"_blank\" href=https://colab.research.google.com/notebooks/data_table.ipynb>data table notebook</a>'\n",
              "            + ' to learn more about interactive tables.';\n",
              "          element.innerHTML = '';\n",
              "          dataTable['output_type'] = 'display_data';\n",
              "          await google.colab.output.renderOutput(dataTable, element);\n",
              "          const docLink = document.createElement('div');\n",
              "          docLink.innerHTML = docLinkHtml;\n",
              "          element.appendChild(docLink);\n",
              "        }\n",
              "      </script>\n",
              "    </div>\n",
              "  </div>\n",
              "  "
            ]
          },
          "metadata": {},
          "execution_count": 92
        }
      ],
      "source": [
        "# create an array of predicted values based on our attributes\n",
        "t_pred=pipe.predict(S)\n",
        "\n",
        "# create a dataframe that compares the actual values to the predicted values\n",
        "df1 = pd.DataFrame({'Actual': t, 'Predicted': t_pred})\n",
        "# display top 10 entries in the comparison dataframe\n",
        "df1"
      ]
    },
    {
      "cell_type": "code",
      "execution_count": 93,
      "metadata": {
        "colab": {
          "base_uri": "https://localhost:8080/"
        },
        "id": "_q4HJMtNbHUm",
        "outputId": "16f49393-8f56-4a05-d983-1295214a8758"
      },
      "outputs": [
        {
          "output_type": "stream",
          "name": "stdout",
          "text": [
            "Mean Absolute Error: 0.8466009470167728\n",
            "Mean Squared Error: 1.2825305121729453\n",
            "Root Mean Squared Error: 1.1324886366639382\n"
          ]
        }
      ],
      "source": [
        "# evaluate the algorithm using square root of the mean of the squared errors\n",
        "\n",
        "# import metrics\n",
        "from sklearn import metrics\n",
        "\n",
        "# compute and print the mean of the absolute value of the errors, mean of the squared errors, andsquare root of the mean of the squared errors\n",
        "print('Mean Absolute Error:', metrics.mean_absolute_error(t, t_pred))\n",
        "print('Mean Squared Error:', metrics.mean_squared_error(t, t_pred))\n",
        "print('Root Mean Squared Error:', np.sqrt(metrics.mean_squared_error(t, t_pred)))"
      ]
    },
    {
      "cell_type": "markdown",
      "metadata": {
        "id": "c58UH8VjbxKZ"
      },
      "source": [
        "The RMSE of a good model should be less than 10% of the mean of the target values.\n",
        "\n",
        "The mean of away scores is approximately 1.07, meaning that our model with a RMSE of approximately 1.13 (105.61% of the mean of home scores) is not good at predicting the number of goals scored by an away team based on the home team's rank, away team's rank and tournament's type "
      ]
    },
    {
      "cell_type": "markdown",
      "metadata": {
        "id": "d81drKniwYV8"
      },
      "source": [
        "\n",
        "\n",
        "```\n",
        "# This is formatted as code\n",
        "```\n",
        "\n",
        "#### Adjusting Degrees"
      ]
    },
    {
      "cell_type": "code",
      "execution_count": 94,
      "metadata": {
        "colab": {
          "base_uri": "https://localhost:8080/"
        },
        "id": "5745hDlxnp2T",
        "outputId": "4b059743-2285-4429-89ba-602c69dca57f"
      },
      "outputs": [
        {
          "output_type": "execute_result",
          "data": {
            "text/plain": [
              "Pipeline(steps=[('polynomial', PolynomialFeatures(degree=6)),\n",
              "                ('modal', LinearRegression())])"
            ]
          },
          "metadata": {},
          "execution_count": 94
        }
      ],
      "source": [
        "# instantiate the polynomial and linear regression models with polynomial degrees set as 6\n",
        "Input=[('polynomial',PolynomialFeatures(degree=6)),('modal',LinearRegression())]\n",
        "\n",
        "# create a pipline and fit it to our data\n",
        "pipe = Pipeline(Input)\n",
        "pipe.fit(S,t)"
      ]
    },
    {
      "cell_type": "code",
      "execution_count": 95,
      "metadata": {
        "colab": {
          "base_uri": "https://localhost:8080/",
          "height": 424
        },
        "id": "m2lD1do7np2d",
        "outputId": "0dcbacb3-d6bd-445a-cb0b-ab846aea409e"
      },
      "outputs": [
        {
          "output_type": "execute_result",
          "data": {
            "text/plain": [
              "       Actual  Predicted\n",
              "0           0   0.618898\n",
              "1           0   0.562146\n",
              "2           1   1.347769\n",
              "3           1   1.937581\n",
              "4           3   1.921535\n",
              "...       ...        ...\n",
              "16913       2   1.157893\n",
              "16914       2   1.180635\n",
              "16915       1   1.757194\n",
              "16916       1   0.793061\n",
              "16917       0   1.286144\n",
              "\n",
              "[16918 rows x 2 columns]"
            ],
            "text/html": [
              "\n",
              "  <div id=\"df-765a0418-7fc6-44d8-8fe5-cd30c18bf6aa\">\n",
              "    <div class=\"colab-df-container\">\n",
              "      <div>\n",
              "<style scoped>\n",
              "    .dataframe tbody tr th:only-of-type {\n",
              "        vertical-align: middle;\n",
              "    }\n",
              "\n",
              "    .dataframe tbody tr th {\n",
              "        vertical-align: top;\n",
              "    }\n",
              "\n",
              "    .dataframe thead th {\n",
              "        text-align: right;\n",
              "    }\n",
              "</style>\n",
              "<table border=\"1\" class=\"dataframe\">\n",
              "  <thead>\n",
              "    <tr style=\"text-align: right;\">\n",
              "      <th></th>\n",
              "      <th>Actual</th>\n",
              "      <th>Predicted</th>\n",
              "    </tr>\n",
              "  </thead>\n",
              "  <tbody>\n",
              "    <tr>\n",
              "      <th>0</th>\n",
              "      <td>0</td>\n",
              "      <td>0.618898</td>\n",
              "    </tr>\n",
              "    <tr>\n",
              "      <th>1</th>\n",
              "      <td>0</td>\n",
              "      <td>0.562146</td>\n",
              "    </tr>\n",
              "    <tr>\n",
              "      <th>2</th>\n",
              "      <td>1</td>\n",
              "      <td>1.347769</td>\n",
              "    </tr>\n",
              "    <tr>\n",
              "      <th>3</th>\n",
              "      <td>1</td>\n",
              "      <td>1.937581</td>\n",
              "    </tr>\n",
              "    <tr>\n",
              "      <th>4</th>\n",
              "      <td>3</td>\n",
              "      <td>1.921535</td>\n",
              "    </tr>\n",
              "    <tr>\n",
              "      <th>...</th>\n",
              "      <td>...</td>\n",
              "      <td>...</td>\n",
              "    </tr>\n",
              "    <tr>\n",
              "      <th>16913</th>\n",
              "      <td>2</td>\n",
              "      <td>1.157893</td>\n",
              "    </tr>\n",
              "    <tr>\n",
              "      <th>16914</th>\n",
              "      <td>2</td>\n",
              "      <td>1.180635</td>\n",
              "    </tr>\n",
              "    <tr>\n",
              "      <th>16915</th>\n",
              "      <td>1</td>\n",
              "      <td>1.757194</td>\n",
              "    </tr>\n",
              "    <tr>\n",
              "      <th>16916</th>\n",
              "      <td>1</td>\n",
              "      <td>0.793061</td>\n",
              "    </tr>\n",
              "    <tr>\n",
              "      <th>16917</th>\n",
              "      <td>0</td>\n",
              "      <td>1.286144</td>\n",
              "    </tr>\n",
              "  </tbody>\n",
              "</table>\n",
              "<p>16918 rows × 2 columns</p>\n",
              "</div>\n",
              "      <button class=\"colab-df-convert\" onclick=\"convertToInteractive('df-765a0418-7fc6-44d8-8fe5-cd30c18bf6aa')\"\n",
              "              title=\"Convert this dataframe to an interactive table.\"\n",
              "              style=\"display:none;\">\n",
              "        \n",
              "  <svg xmlns=\"http://www.w3.org/2000/svg\" height=\"24px\"viewBox=\"0 0 24 24\"\n",
              "       width=\"24px\">\n",
              "    <path d=\"M0 0h24v24H0V0z\" fill=\"none\"/>\n",
              "    <path d=\"M18.56 5.44l.94 2.06.94-2.06 2.06-.94-2.06-.94-.94-2.06-.94 2.06-2.06.94zm-11 1L8.5 8.5l.94-2.06 2.06-.94-2.06-.94L8.5 2.5l-.94 2.06-2.06.94zm10 10l.94 2.06.94-2.06 2.06-.94-2.06-.94-.94-2.06-.94 2.06-2.06.94z\"/><path d=\"M17.41 7.96l-1.37-1.37c-.4-.4-.92-.59-1.43-.59-.52 0-1.04.2-1.43.59L10.3 9.45l-7.72 7.72c-.78.78-.78 2.05 0 2.83L4 21.41c.39.39.9.59 1.41.59.51 0 1.02-.2 1.41-.59l7.78-7.78 2.81-2.81c.8-.78.8-2.07 0-2.86zM5.41 20L4 18.59l7.72-7.72 1.47 1.35L5.41 20z\"/>\n",
              "  </svg>\n",
              "      </button>\n",
              "      \n",
              "  <style>\n",
              "    .colab-df-container {\n",
              "      display:flex;\n",
              "      flex-wrap:wrap;\n",
              "      gap: 12px;\n",
              "    }\n",
              "\n",
              "    .colab-df-convert {\n",
              "      background-color: #E8F0FE;\n",
              "      border: none;\n",
              "      border-radius: 50%;\n",
              "      cursor: pointer;\n",
              "      display: none;\n",
              "      fill: #1967D2;\n",
              "      height: 32px;\n",
              "      padding: 0 0 0 0;\n",
              "      width: 32px;\n",
              "    }\n",
              "\n",
              "    .colab-df-convert:hover {\n",
              "      background-color: #E2EBFA;\n",
              "      box-shadow: 0px 1px 2px rgba(60, 64, 67, 0.3), 0px 1px 3px 1px rgba(60, 64, 67, 0.15);\n",
              "      fill: #174EA6;\n",
              "    }\n",
              "\n",
              "    [theme=dark] .colab-df-convert {\n",
              "      background-color: #3B4455;\n",
              "      fill: #D2E3FC;\n",
              "    }\n",
              "\n",
              "    [theme=dark] .colab-df-convert:hover {\n",
              "      background-color: #434B5C;\n",
              "      box-shadow: 0px 1px 3px 1px rgba(0, 0, 0, 0.15);\n",
              "      filter: drop-shadow(0px 1px 2px rgba(0, 0, 0, 0.3));\n",
              "      fill: #FFFFFF;\n",
              "    }\n",
              "  </style>\n",
              "\n",
              "      <script>\n",
              "        const buttonEl =\n",
              "          document.querySelector('#df-765a0418-7fc6-44d8-8fe5-cd30c18bf6aa button.colab-df-convert');\n",
              "        buttonEl.style.display =\n",
              "          google.colab.kernel.accessAllowed ? 'block' : 'none';\n",
              "\n",
              "        async function convertToInteractive(key) {\n",
              "          const element = document.querySelector('#df-765a0418-7fc6-44d8-8fe5-cd30c18bf6aa');\n",
              "          const dataTable =\n",
              "            await google.colab.kernel.invokeFunction('convertToInteractive',\n",
              "                                                     [key], {});\n",
              "          if (!dataTable) return;\n",
              "\n",
              "          const docLinkHtml = 'Like what you see? Visit the ' +\n",
              "            '<a target=\"_blank\" href=https://colab.research.google.com/notebooks/data_table.ipynb>data table notebook</a>'\n",
              "            + ' to learn more about interactive tables.';\n",
              "          element.innerHTML = '';\n",
              "          dataTable['output_type'] = 'display_data';\n",
              "          await google.colab.output.renderOutput(dataTable, element);\n",
              "          const docLink = document.createElement('div');\n",
              "          docLink.innerHTML = docLinkHtml;\n",
              "          element.appendChild(docLink);\n",
              "        }\n",
              "      </script>\n",
              "    </div>\n",
              "  </div>\n",
              "  "
            ]
          },
          "metadata": {},
          "execution_count": 95
        }
      ],
      "source": [
        "# create an array of predicted values based on our attributes\n",
        "t_pred=pipe.predict(S)\n",
        "\n",
        "# create a dataframe that compares the actual values to the predicted values\n",
        "df1 = pd.DataFrame({'Actual': t, 'Predicted': t_pred})\n",
        "# display top 10 entries in the comparison dataframe\n",
        "df1"
      ]
    },
    {
      "cell_type": "code",
      "execution_count": 96,
      "metadata": {
        "colab": {
          "base_uri": "https://localhost:8080/"
        },
        "id": "m3mldclbnp2d",
        "outputId": "8cc94bcb-bd09-4162-8baf-28d302406883"
      },
      "outputs": [
        {
          "output_type": "stream",
          "name": "stdout",
          "text": [
            "Mean Absolute Error: 0.8376308548472134\n",
            "Mean Squared Error: 1.2470719798997016\n",
            "Root Mean Squared Error: 1.1167237706343058\n"
          ]
        }
      ],
      "source": [
        "# evaluate the algorithm using square root of the mean of the squared errors\n",
        "\n",
        "# import metrics\n",
        "from sklearn import metrics\n",
        "\n",
        "# compute and print the mean of the absolute value of the errors, mean of the squared errors, andsquare root of the mean of the squared errors\n",
        "print('Mean Absolute Error:', metrics.mean_absolute_error(t, t_pred))\n",
        "print('Mean Squared Error:', metrics.mean_squared_error(t, t_pred))\n",
        "print('Root Mean Squared Error:', np.sqrt(metrics.mean_squared_error(t, t_pred)))"
      ]
    },
    {
      "cell_type": "markdown",
      "metadata": {
        "id": "lcwDwM-ToWCi"
      },
      "source": [
        "After adjusting our degrees,\n",
        "\n",
        "The RMSE has reduced by approximately 0.02 points but it is still very high for us to consider the model as good"
      ]
    },
    {
      "cell_type": "markdown",
      "metadata": {
        "id": "1SL73Yb4xP1U"
      },
      "source": [
        "#### Residual plots\n"
      ]
    },
    {
      "cell_type": "code",
      "execution_count": 97,
      "metadata": {
        "colab": {
          "base_uri": "https://localhost:8080/"
        },
        "id": "S2OT6fYYxP1e",
        "outputId": "c028cfba-7f81-4d7c-f471-b1c75158e11a"
      },
      "outputs": [
        {
          "output_type": "execute_result",
          "data": {
            "text/plain": [
              "8.72712050922556e-13"
            ]
          },
          "metadata": {},
          "execution_count": 97
        }
      ],
      "source": [
        "#Step 1\n",
        "# create the residual by subtracting the test value from the predicted value\n",
        "residuals = np.subtract(t_pred, t)\n",
        "\n",
        "#Step 2\n",
        "# statistical description\n",
        "residual = pd.DataFrame(residuals).describe()\n",
        "\n",
        "#Step 3\n",
        "# compute the mean of the residuals \n",
        "residuals.mean()"
      ]
    },
    {
      "cell_type": "code",
      "execution_count": 98,
      "metadata": {
        "colab": {
          "base_uri": "https://localhost:8080/",
          "height": 289
        },
        "id": "fOxKRVO9xP1f",
        "outputId": "6212817c-6a9c-4b71-b6e6-58ba67d37dc6"
      },
      "outputs": [
        {
          "output_type": "display_data",
          "data": {
            "text/plain": [
              "<Figure size 432x288 with 1 Axes>"
            ],
            "image/png": "[encoded data removed]"
          },
          "metadata": {
            "needs_background": "light"
          }
        }
      ],
      "source": [
        "#Step 4\n",
        "#  We create residual scatter plot of actual vs predicted values\n",
        "plt.scatter(t_pred, residuals, color = 'black')\n",
        "plt.ylabel('Residuals', fontsize = 19)\n",
        "plt.xlabel('Home_ score Predicted', fontsize = 19)\n",
        "plt.axhline(y = residuals.mean(), color = 'r', linewidth = 1)\n",
        "plt.show()"
      ]
    },
    {
      "cell_type": "markdown",
      "metadata": {
        "id": "z_UsOwfixP1f"
      },
      "source": [
        "Even though there are many residuals around the mean most of rhe residuals are not around the mean."
      ]
    },
    {
      "cell_type": "markdown",
      "metadata": {
        "id": "aOPTWbrexP1g"
      },
      "source": [
        "#### Heteroskedasticity testing"
      ]
    },
    {
      "cell_type": "markdown",
      "metadata": {
        "id": "efWv9NkqxP1g"
      },
      "source": [
        "We will perform heteroskedasticity testing using bartlett's test. The test tests the null hypothesis that the variance is equal for all our datapoints,and the new hypothesis that the variance is different for at least one pair of datapoints."
      ]
    },
    {
      "cell_type": "code",
      "execution_count": 99,
      "metadata": {
        "colab": {
          "base_uri": "https://localhost:8080/"
        },
        "id": "S8ChuMESxP1g",
        "outputId": "6e46b939-6d4b-4f53-ca0e-a1374f0dc203"
      },
      "outputs": [
        {
          "output_type": "stream",
          "name": "stdout",
          "text": [
            "The variances are homogeneous!\n"
          ]
        }
      ],
      "source": [
        "import scipy as sp\n",
        "# compute the test result and p-value of the test\n",
        "test_result, p_value = sp.stats.bartlett(t_pred, residuals)\n",
        "\n",
        "# compute the critical value of the chi squared distribution\n",
        "degree_of_freedom = len(t_pred)-1\n",
        "probability = 1 - p_value\n",
        "critical_value = sp.stats.chi2.ppf(probability, degree_of_freedom)\n",
        "\n",
        "# If the test_result is greater than the critical value, reject the null hypothesis. \n",
        "# This means there are patterns to the variance of the data\n",
        "\n",
        "# Otherwise, identify no patterns, and  accept the null hypothesis \n",
        "# The variance is homogeneous across our data\n",
        "\n",
        "if(test_result > critical_value):\n",
        "    print(\"the variances are unequal, and the model should be reassessed\")\n",
        "else:\n",
        "    print(\"The variances are homogeneous!\")\n",
        "    import scipy as sp\n",
        "\n"
      ]
    },
    {
      "cell_type": "markdown",
      "metadata": {
        "id": "vyxhF_gVb3N0"
      },
      "source": [
        "### **Conclusions**\n",
        "The nature of the kind of data that we have is not appropriate for building polynomial regression models. The RMSE of 1.42 in our first model and of 1.13 in our second model show that our models are very poor at predicting the scores of the home teams and the away teams. The RMSE values reduced slightly after increasing the polynomial degrees in each model but they were still very high for us to consider the models as good "
      ]
    },
    {
      "cell_type": "markdown",
      "metadata": {
        "id": "7uXVhVL7Uf3z"
      },
      "source": [
        "### Logistic regression"
      ]
    },
    {
      "cell_type": "markdown",
      "metadata": {
        "id": "7HbOaQpWo1xK"
      },
      "source": [
        "We will use logistic regression to create a model that predicts the result status of the home team after a match based on the home team's rank, away team's rank and tournament's type.  \n",
        "  \n",
        "We will use the dataset that has already been modified in the polynomial regression section above. "
      ]
    },
    {
      "cell_type": "markdown",
      "metadata": {
        "id": "wZYzFFHeSg0V"
      },
      "source": [
        "#### Feature engineering and selection"
      ]
    },
    {
      "cell_type": "code",
      "execution_count": 100,
      "metadata": {
        "id": "cqL7yPtXveTI"
      },
      "outputs": [],
      "source": [
        "# make a copy of our dataset\n",
        "matches_copy= matches.copy()"
      ]
    },
    {
      "cell_type": "code",
      "execution_count": 101,
      "metadata": {
        "colab": {
          "base_uri": "https://localhost:8080/"
        },
        "id": "9sNobI5GveTS",
        "outputId": "503d3fcc-72e5-470c-f55e-1e0aeba32934"
      },
      "outputs": [
        {
          "output_type": "stream",
          "name": "stdout",
          "text": [
            "Other       10470\n",
            "Friendly     6448\n",
            "Name: tournament, dtype: int64\n",
            "1    10470\n",
            "0     6448\n",
            "Name: tournament, dtype: int64\n"
          ]
        }
      ],
      "source": [
        "# feature engineering\n",
        "# import label encoder for label encoding\n",
        "from sklearn.preprocessing import LabelEncoder \n",
        "lb=LabelEncoder()\n",
        "\n",
        "# encode the values in 'tournament' column so that they can be in 0's and 1's \n",
        "matches_copy['tournament']=lb.fit_transform(matches_copy['tournament'].astype(str))\n",
        "\n",
        "# check how the values have been transformed by comparing with the uncoded values in the original dataset\n",
        "print(matches.tournament.value_counts())\n",
        "print(matches_copy.tournament.value_counts())"
      ]
    },
    {
      "cell_type": "markdown",
      "metadata": {
        "id": "RZLy54jtveTS"
      },
      "source": [
        "Other has been encoded as 1 while Friendly has been encoded as 0 "
      ]
    },
    {
      "cell_type": "code",
      "execution_count": 102,
      "metadata": {
        "id": "kSDIwMZOruP4"
      },
      "outputs": [],
      "source": [
        "# add column that shows if a game is a Win, Lose or Draw from the home team’s perspective\n",
        "\n",
        "# create a function that defines the status of the match\n",
        "def status (x):\n",
        "   if x['home_score'] > x['away_score']:\n",
        "      return 'Win'\n",
        "   if x['home_score'] < x['away_score']:\n",
        "      return 'Lose'\n",
        "   return 'Draw'\n",
        "\n",
        "# add a new column and apply the function\n",
        "matches_copy['match_status'] = matches_copy.apply (lambda x: status(x), axis=1)"
      ]
    },
    {
      "cell_type": "code",
      "execution_count": 103,
      "metadata": {
        "colab": {
          "base_uri": "https://localhost:8080/",
          "height": 499
        },
        "id": "YK0IXcyhqnIw",
        "outputId": "068071e4-638d-472e-8f25-496a2c1ee84d"
      },
      "outputs": [
        {
          "output_type": "stream",
          "name": "stdout",
          "text": [
            "Win     0.483509\n",
            "Lose    0.276569\n",
            "Draw    0.239922\n",
            "Name: match_status, dtype: float64\n"
          ]
        },
        {
          "output_type": "display_data",
          "data": {
            "text/plain": [
              "<Figure size 720x432 with 1 Axes>"
            ],
            "image/png": "[encoded data removed]"
          },
          "metadata": {
            "needs_background": "light"
          }
        }
      ],
      "source": [
        "# plot a bar graph to show the proportions of the types of tournaments \n",
        "\n",
        "# display the proportions of the types of tournaments in a frequency table\n",
        "print(matches_copy.match_status.value_counts(normalize=True))\n",
        "\n",
        "# specify the size of the figure  \n",
        "fig, ax = plt.subplots(figsize=(10,6))\n",
        "\n",
        "# plot the bar graph\n",
        "(matches_copy['match_status'].value_counts(normalize=True)).plot.bar()\n",
        "\n",
        "# labelling the bar chart \n",
        "plt.title('Proportion Distribution of the Match Status of the Home Teams ', fontsize=20, y=1.015)\n",
        "# labelling the x axis \n",
        "plt.xlabel('Match Status', fontsize=16, labelpad=15)\n",
        "# rotate the labels on the x axis\n",
        "plt.xticks(rotation = 360)\n",
        "# labelling the y axis\n",
        "plt.ylabel('Proportion', fontsize=16, labelpad=15)\n",
        "#display bar chart\n",
        "plt.show()"
      ]
    },
    {
      "cell_type": "code",
      "execution_count": 104,
      "metadata": {
        "id": "HJK3O_r2veTS"
      },
      "outputs": [],
      "source": [
        "# feature selection\n",
        "# drop the columns that are irrelevant to our regression model\n",
        "matches_copy.drop(matches_copy.columns.difference(['home_team_rank', 'away_team_rank', 'tournament','match_status']), 1, inplace=True)\n"
      ]
    },
    {
      "cell_type": "code",
      "execution_count": 105,
      "metadata": {
        "id": "MM71hLtNMAHZ"
      },
      "outputs": [],
      "source": [
        "# since the columns contain categorical data (ordinal and nominal) we convert the data type of each column to'category'\n",
        "matches_copy['tournament'] = matches_copy['tournament'].astype('category')\n",
        "matches_copy['home_team_rank'] = matches_copy['home_team_rank'].astype('category')\n",
        "matches_copy['away_team_rank'] = matches_copy['away_team_rank'].astype('category')"
      ]
    },
    {
      "cell_type": "code",
      "execution_count": 106,
      "metadata": {
        "colab": {
          "base_uri": "https://localhost:8080/",
          "height": 206
        },
        "id": "xrL95P_6bi6M",
        "outputId": "37936d21-ea7c-428b-cc15-1e07d4dc8171"
      },
      "outputs": [
        {
          "output_type": "execute_result",
          "data": {
            "text/plain": [
              "  tournament home_team_rank away_team_rank match_status\n",
              "0          1             19             67         Draw\n",
              "1          1              5             67         Draw\n",
              "2          1             19              5          Win\n",
              "3          1             70              5         Lose\n",
              "4          1             67              5         Lose"
            ],
            "text/html": [
              "\n",
              "  <div id=\"df-fde03bbf-15fa-49ef-9f6d-bd964a21cf9e\">\n",
              "    <div class=\"colab-df-container\">\n",
              "      <div>\n",
              "<style scoped>\n",
              "    .dataframe tbody tr th:only-of-type {\n",
              "        vertical-align: middle;\n",
              "    }\n",
              "\n",
              "    .dataframe tbody tr th {\n",
              "        vertical-align: top;\n",
              "    }\n",
              "\n",
              "    .dataframe thead th {\n",
              "        text-align: right;\n",
              "    }\n",
              "</style>\n",
              "<table border=\"1\" class=\"dataframe\">\n",
              "  <thead>\n",
              "    <tr style=\"text-align: right;\">\n",
              "      <th></th>\n",
              "      <th>tournament</th>\n",
              "      <th>home_team_rank</th>\n",
              "      <th>away_team_rank</th>\n",
              "      <th>match_status</th>\n",
              "    </tr>\n",
              "  </thead>\n",
              "  <tbody>\n",
              "    <tr>\n",
              "      <th>0</th>\n",
              "      <td>1</td>\n",
              "      <td>19</td>\n",
              "      <td>67</td>\n",
              "      <td>Draw</td>\n",
              "    </tr>\n",
              "    <tr>\n",
              "      <th>1</th>\n",
              "      <td>1</td>\n",
              "      <td>5</td>\n",
              "      <td>67</td>\n",
              "      <td>Draw</td>\n",
              "    </tr>\n",
              "    <tr>\n",
              "      <th>2</th>\n",
              "      <td>1</td>\n",
              "      <td>19</td>\n",
              "      <td>5</td>\n",
              "      <td>Win</td>\n",
              "    </tr>\n",
              "    <tr>\n",
              "      <th>3</th>\n",
              "      <td>1</td>\n",
              "      <td>70</td>\n",
              "      <td>5</td>\n",
              "      <td>Lose</td>\n",
              "    </tr>\n",
              "    <tr>\n",
              "      <th>4</th>\n",
              "      <td>1</td>\n",
              "      <td>67</td>\n",
              "      <td>5</td>\n",
              "      <td>Lose</td>\n",
              "    </tr>\n",
              "  </tbody>\n",
              "</table>\n",
              "</div>\n",
              "      <button class=\"colab-df-convert\" onclick=\"convertToInteractive('df-fde03bbf-15fa-49ef-9f6d-bd964a21cf9e')\"\n",
              "              title=\"Convert this dataframe to an interactive table.\"\n",
              "              style=\"display:none;\">\n",
              "        \n",
              "  <svg xmlns=\"http://www.w3.org/2000/svg\" height=\"24px\"viewBox=\"0 0 24 24\"\n",
              "       width=\"24px\">\n",
              "    <path d=\"M0 0h24v24H0V0z\" fill=\"none\"/>\n",
              "    <path d=\"M18.56 5.44l.94 2.06.94-2.06 2.06-.94-2.06-.94-.94-2.06-.94 2.06-2.06.94zm-11 1L8.5 8.5l.94-2.06 2.06-.94-2.06-.94L8.5 2.5l-.94 2.06-2.06.94zm10 10l.94 2.06.94-2.06 2.06-.94-2.06-.94-.94-2.06-.94 2.06-2.06.94z\"/><path d=\"M17.41 7.96l-1.37-1.37c-.4-.4-.92-.59-1.43-.59-.52 0-1.04.2-1.43.59L10.3 9.45l-7.72 7.72c-.78.78-.78 2.05 0 2.83L4 21.41c.39.39.9.59 1.41.59.51 0 1.02-.2 1.41-.59l7.78-7.78 2.81-2.81c.8-.78.8-2.07 0-2.86zM5.41 20L4 18.59l7.72-7.72 1.47 1.35L5.41 20z\"/>\n",
              "  </svg>\n",
              "      </button>\n",
              "      \n",
              "  <style>\n",
              "    .colab-df-container {\n",
              "      display:flex;\n",
              "      flex-wrap:wrap;\n",
              "      gap: 12px;\n",
              "    }\n",
              "\n",
              "    .colab-df-convert {\n",
              "      background-color: #E8F0FE;\n",
              "      border: none;\n",
              "      border-radius: 50%;\n",
              "      cursor: pointer;\n",
              "      display: none;\n",
              "      fill: #1967D2;\n",
              "      height: 32px;\n",
              "      padding: 0 0 0 0;\n",
              "      width: 32px;\n",
              "    }\n",
              "\n",
              "    .colab-df-convert:hover {\n",
              "      background-color: #E2EBFA;\n",
              "      box-shadow: 0px 1px 2px rgba(60, 64, 67, 0.3), 0px 1px 3px 1px rgba(60, 64, 67, 0.15);\n",
              "      fill: #174EA6;\n",
              "    }\n",
              "\n",
              "    [theme=dark] .colab-df-convert {\n",
              "      background-color: #3B4455;\n",
              "      fill: #D2E3FC;\n",
              "    }\n",
              "\n",
              "    [theme=dark] .colab-df-convert:hover {\n",
              "      background-color: #434B5C;\n",
              "      box-shadow: 0px 1px 3px 1px rgba(0, 0, 0, 0.15);\n",
              "      filter: drop-shadow(0px 1px 2px rgba(0, 0, 0, 0.3));\n",
              "      fill: #FFFFFF;\n",
              "    }\n",
              "  </style>\n",
              "\n",
              "      <script>\n",
              "        const buttonEl =\n",
              "          document.querySelector('#df-fde03bbf-15fa-49ef-9f6d-bd964a21cf9e button.colab-df-convert');\n",
              "        buttonEl.style.display =\n",
              "          google.colab.kernel.accessAllowed ? 'block' : 'none';\n",
              "\n",
              "        async function convertToInteractive(key) {\n",
              "          const element = document.querySelector('#df-fde03bbf-15fa-49ef-9f6d-bd964a21cf9e');\n",
              "          const dataTable =\n",
              "            await google.colab.kernel.invokeFunction('convertToInteractive',\n",
              "                                                     [key], {});\n",
              "          if (!dataTable) return;\n",
              "\n",
              "          const docLinkHtml = 'Like what you see? Visit the ' +\n",
              "            '<a target=\"_blank\" href=https://colab.research.google.com/notebooks/data_table.ipynb>data table notebook</a>'\n",
              "            + ' to learn more about interactive tables.';\n",
              "          element.innerHTML = '';\n",
              "          dataTable['output_type'] = 'display_data';\n",
              "          await google.colab.output.renderOutput(dataTable, element);\n",
              "          const docLink = document.createElement('div');\n",
              "          docLink.innerHTML = docLinkHtml;\n",
              "          element.appendChild(docLink);\n",
              "        }\n",
              "      </script>\n",
              "    </div>\n",
              "  </div>\n",
              "  "
            ]
          },
          "metadata": {},
          "execution_count": 106
        }
      ],
      "source": [
        "# preview the top 5 entries of the modified dataset\n",
        "matches_copy.head()"
      ]
    },
    {
      "cell_type": "code",
      "execution_count": 107,
      "metadata": {
        "colab": {
          "base_uri": "https://localhost:8080/"
        },
        "id": "0GIIN2zhMzfe",
        "outputId": "99da5566-2e20-430e-b17b-fd3ed9fd38a5"
      },
      "outputs": [
        {
          "output_type": "execute_result",
          "data": {
            "text/plain": [
              "(16918, 4)"
            ]
          },
          "metadata": {},
          "execution_count": 107
        }
      ],
      "source": [
        "# confirm that the dataset size is sufficient for our model by checking the number of records in the dataset\n",
        "matches_copy.shape"
      ]
    },
    {
      "cell_type": "markdown",
      "metadata": {
        "id": "pMoNbrUkPSNC"
      },
      "source": [
        "There are 4 predictive features in our dataset and since the rules are that there should be at least 50 records per feature, we will need to have about 200 records in this dataset for it to be sufficient for modelling, But our dataset has 16918 records, therefore sufficient for modelling."
      ]
    },
    {
      "cell_type": "markdown",
      "metadata": {
        "id": "RIHVhjgcTLMx"
      },
      "source": [
        "#### Modelling"
      ]
    },
    {
      "cell_type": "code",
      "execution_count": 108,
      "metadata": {
        "id": "aULPJXKXcHWt"
      },
      "outputs": [],
      "source": [
        "# Preparing the Data\n",
        "\n",
        "# divide the data into \"attributes\" and \"labels\" by assigning the attributes to variable X and the label to variable y \n",
        "X = matches_copy[['home_team_rank', 'away_team_rank', 'tournament']]\n",
        "y = matches_copy[\"match_status\"]\n",
        "\n",
        "# Splitting our Data into Training and Test sets\n",
        "\n",
        "# import train_test_split for the splitting of the data\n",
        "from sklearn.model_selection import train_test_split\n",
        "\n",
        "# split this data into training and test sets\n",
        "X_train, X_test, y_train, y_test = train_test_split(X, y, test_size=0.2, stratify =matches_copy['tournament'], random_state=30)\n",
        "# the script above splits 80% of the data to training set and 20% of the data to test set while maintaining the same proportions of tournament values"
      ]
    },
    {
      "cell_type": "code",
      "execution_count": 109,
      "metadata": {
        "colab": {
          "base_uri": "https://localhost:8080/"
        },
        "id": "oWAggaJvisYi",
        "outputId": "75bea466-6870-43ce-a454-3313fbc892d9"
      },
      "outputs": [
        {
          "output_type": "execute_result",
          "data": {
            "text/plain": [
              "LogisticRegression()"
            ]
          },
          "metadata": {},
          "execution_count": 109
        }
      ],
      "source": [
        "# Training the Algorithm\n",
        "\n",
        "# import the desired model, in this this case we are importing logistic regression model\n",
        "from sklearn.linear_model import LogisticRegression\n",
        "\n",
        "# instantiate the model\n",
        "model = LogisticRegression()\n",
        "\n",
        "# train the algorithm by fitting the model to our training data \n",
        "model.fit(X_train, y_train)"
      ]
    },
    {
      "cell_type": "code",
      "execution_count": 110,
      "metadata": {
        "colab": {
          "base_uri": "https://localhost:8080/",
          "height": 363
        },
        "id": "P-kSCehuKPwr",
        "outputId": "87a96987-7461-4ea2-a3a4-106364ba57c8"
      },
      "outputs": [
        {
          "output_type": "execute_result",
          "data": {
            "text/plain": [
              "     Prediction Actual\n",
              "285        Lose   Lose\n",
              "3872       Lose   Lose\n",
              "8704       Lose   Lose\n",
              "5329        Win   Draw\n",
              "5984        Win    Win\n",
              "2146       Lose   Lose\n",
              "1153       Lose   Draw\n",
              "6695        Win   Draw\n",
              "2746        Win   Lose\n",
              "938        Lose   Lose"
            ],
            "text/html": [
              "\n",
              "  <div id=\"df-17cbfea2-144f-48ea-a9e7-22650ff6c0a6\">\n",
              "    <div class=\"colab-df-container\">\n",
              "      <div>\n",
              "<style scoped>\n",
              "    .dataframe tbody tr th:only-of-type {\n",
              "        vertical-align: middle;\n",
              "    }\n",
              "\n",
              "    .dataframe tbody tr th {\n",
              "        vertical-align: top;\n",
              "    }\n",
              "\n",
              "    .dataframe thead th {\n",
              "        text-align: right;\n",
              "    }\n",
              "</style>\n",
              "<table border=\"1\" class=\"dataframe\">\n",
              "  <thead>\n",
              "    <tr style=\"text-align: right;\">\n",
              "      <th></th>\n",
              "      <th>Prediction</th>\n",
              "      <th>Actual</th>\n",
              "    </tr>\n",
              "  </thead>\n",
              "  <tbody>\n",
              "    <tr>\n",
              "      <th>285</th>\n",
              "      <td>Lose</td>\n",
              "      <td>Lose</td>\n",
              "    </tr>\n",
              "    <tr>\n",
              "      <th>3872</th>\n",
              "      <td>Lose</td>\n",
              "      <td>Lose</td>\n",
              "    </tr>\n",
              "    <tr>\n",
              "      <th>8704</th>\n",
              "      <td>Lose</td>\n",
              "      <td>Lose</td>\n",
              "    </tr>\n",
              "    <tr>\n",
              "      <th>5329</th>\n",
              "      <td>Win</td>\n",
              "      <td>Draw</td>\n",
              "    </tr>\n",
              "    <tr>\n",
              "      <th>5984</th>\n",
              "      <td>Win</td>\n",
              "      <td>Win</td>\n",
              "    </tr>\n",
              "    <tr>\n",
              "      <th>2146</th>\n",
              "      <td>Lose</td>\n",
              "      <td>Lose</td>\n",
              "    </tr>\n",
              "    <tr>\n",
              "      <th>1153</th>\n",
              "      <td>Lose</td>\n",
              "      <td>Draw</td>\n",
              "    </tr>\n",
              "    <tr>\n",
              "      <th>6695</th>\n",
              "      <td>Win</td>\n",
              "      <td>Draw</td>\n",
              "    </tr>\n",
              "    <tr>\n",
              "      <th>2746</th>\n",
              "      <td>Win</td>\n",
              "      <td>Lose</td>\n",
              "    </tr>\n",
              "    <tr>\n",
              "      <th>938</th>\n",
              "      <td>Lose</td>\n",
              "      <td>Lose</td>\n",
              "    </tr>\n",
              "  </tbody>\n",
              "</table>\n",
              "</div>\n",
              "      <button class=\"colab-df-convert\" onclick=\"convertToInteractive('df-17cbfea2-144f-48ea-a9e7-22650ff6c0a6')\"\n",
              "              title=\"Convert this dataframe to an interactive table.\"\n",
              "              style=\"display:none;\">\n",
              "        \n",
              "  <svg xmlns=\"http://www.w3.org/2000/svg\" height=\"24px\"viewBox=\"0 0 24 24\"\n",
              "       width=\"24px\">\n",
              "    <path d=\"M0 0h24v24H0V0z\" fill=\"none\"/>\n",
              "    <path d=\"M18.56 5.44l.94 2.06.94-2.06 2.06-.94-2.06-.94-.94-2.06-.94 2.06-2.06.94zm-11 1L8.5 8.5l.94-2.06 2.06-.94-2.06-.94L8.5 2.5l-.94 2.06-2.06.94zm10 10l.94 2.06.94-2.06 2.06-.94-2.06-.94-.94-2.06-.94 2.06-2.06.94z\"/><path d=\"M17.41 7.96l-1.37-1.37c-.4-.4-.92-.59-1.43-.59-.52 0-1.04.2-1.43.59L10.3 9.45l-7.72 7.72c-.78.78-.78 2.05 0 2.83L4 21.41c.39.39.9.59 1.41.59.51 0 1.02-.2 1.41-.59l7.78-7.78 2.81-2.81c.8-.78.8-2.07 0-2.86zM5.41 20L4 18.59l7.72-7.72 1.47 1.35L5.41 20z\"/>\n",
              "  </svg>\n",
              "      </button>\n",
              "      \n",
              "  <style>\n",
              "    .colab-df-container {\n",
              "      display:flex;\n",
              "      flex-wrap:wrap;\n",
              "      gap: 12px;\n",
              "    }\n",
              "\n",
              "    .colab-df-convert {\n",
              "      background-color: #E8F0FE;\n",
              "      border: none;\n",
              "      border-radius: 50%;\n",
              "      cursor: pointer;\n",
              "      display: none;\n",
              "      fill: #1967D2;\n",
              "      height: 32px;\n",
              "      padding: 0 0 0 0;\n",
              "      width: 32px;\n",
              "    }\n",
              "\n",
              "    .colab-df-convert:hover {\n",
              "      background-color: #E2EBFA;\n",
              "      box-shadow: 0px 1px 2px rgba(60, 64, 67, 0.3), 0px 1px 3px 1px rgba(60, 64, 67, 0.15);\n",
              "      fill: #174EA6;\n",
              "    }\n",
              "\n",
              "    [theme=dark] .colab-df-convert {\n",
              "      background-color: #3B4455;\n",
              "      fill: #D2E3FC;\n",
              "    }\n",
              "\n",
              "    [theme=dark] .colab-df-convert:hover {\n",
              "      background-color: #434B5C;\n",
              "      box-shadow: 0px 1px 3px 1px rgba(0, 0, 0, 0.15);\n",
              "      filter: drop-shadow(0px 1px 2px rgba(0, 0, 0, 0.3));\n",
              "      fill: #FFFFFF;\n",
              "    }\n",
              "  </style>\n",
              "\n",
              "      <script>\n",
              "        const buttonEl =\n",
              "          document.querySelector('#df-17cbfea2-144f-48ea-a9e7-22650ff6c0a6 button.colab-df-convert');\n",
              "        buttonEl.style.display =\n",
              "          google.colab.kernel.accessAllowed ? 'block' : 'none';\n",
              "\n",
              "        async function convertToInteractive(key) {\n",
              "          const element = document.querySelector('#df-17cbfea2-144f-48ea-a9e7-22650ff6c0a6');\n",
              "          const dataTable =\n",
              "            await google.colab.kernel.invokeFunction('convertToInteractive',\n",
              "                                                     [key], {});\n",
              "          if (!dataTable) return;\n",
              "\n",
              "          const docLinkHtml = 'Like what you see? Visit the ' +\n",
              "            '<a target=\"_blank\" href=https://colab.research.google.com/notebooks/data_table.ipynb>data table notebook</a>'\n",
              "            + ' to learn more about interactive tables.';\n",
              "          element.innerHTML = '';\n",
              "          dataTable['output_type'] = 'display_data';\n",
              "          await google.colab.output.renderOutput(dataTable, element);\n",
              "          const docLink = document.createElement('div');\n",
              "          docLink.innerHTML = docLinkHtml;\n",
              "          element.appendChild(docLink);\n",
              "        }\n",
              "      </script>\n",
              "    </div>\n",
              "  </div>\n",
              "  "
            ]
          },
          "metadata": {},
          "execution_count": 110
        }
      ],
      "source": [
        "# Making Predictions\n",
        "\n",
        "# obtain the trained model's predictions of the 'match_status' based on X_test \n",
        "y_pred = model.predict(X_test) # the y_pred is a numpy array that contains all the predicted values\n",
        "\n",
        "# create a dataframe that compares the actual output values for X_test with the predicted values\n",
        "df = pd.DataFrame({'Prediction': y_pred, 'Actual': y_test})\n",
        "\n",
        "# display top 10 records in the comparison dataframe\n",
        "df.head(10)"
      ]
    },
    {
      "cell_type": "code",
      "execution_count": 111,
      "metadata": {
        "colab": {
          "base_uri": "https://localhost:8080/"
        },
        "id": "1g3QkIY2H-uh",
        "outputId": "f476ecb7-b658-483f-e00f-085a10790c93"
      },
      "outputs": [
        {
          "output_type": "stream",
          "name": "stdout",
          "text": [
            "Accuracy:  0.5880614657210402\n",
            "\n",
            "Confusion Matrix\n",
            "[[   3  247  529]\n",
            " [   3  524  393]\n",
            " [   1  221 1463]]\n"
          ]
        }
      ],
      "source": [
        "# Evaluating the Algorithm\n",
        "\n",
        "# import accuracy_score to be used in testing the accuracy of the algorithm\n",
        "from sklearn.metrics import accuracy_score\n",
        "\n",
        "# use accuracy_score function to compute the accuracy of the algorithm by finding the proportion of correct predictions\n",
        "accuracy = accuracy_score(y_test, y_pred)\n",
        "# print the accuracy value\n",
        "print('Accuracy: ', accuracy)\n",
        "\n",
        "print(\"\")\n",
        "# An algorithm's performance can also be evaluated using a confusion matrix\n",
        "\n",
        "# import confusion_matrix to be used in creating a confusion matrix of the predictions\n",
        "from sklearn.metrics import confusion_matrix\n",
        "\n",
        "# apply confusion matrix to y_test and y_pred to obtain number of correct and wrong predictions per category\n",
        "confusion_matrix = confusion_matrix(y_test, y_pred)\n",
        "# print the matrix\n",
        "print('Confusion Matrix') \n",
        "print(confusion_matrix)"
      ]
    },
    {
      "cell_type": "markdown",
      "metadata": {
        "id": "CuO7K2xnG8Dw"
      },
      "source": [
        "The accuracy test shows that our algorithm is approximately 58.81% accurate in predicting the match status of the home team. The results from the confusion matrix tell us that 1990 (3+524+1463) is the total number of correct predictions and 1394 (247+529+393+221+1+3) is the total number of wrong predictions. (It should be noted that the model did not predict Draws)"
      ]
    },
    {
      "cell_type": "code",
      "execution_count": 112,
      "metadata": {
        "colab": {
          "base_uri": "https://localhost:8080/"
        },
        "id": "bQk4LGEc11We",
        "outputId": "7462ea4c-621d-42ad-ff44-6730069e0135"
      },
      "outputs": [
        {
          "output_type": "stream",
          "name": "stdout",
          "text": [
            "              precision    recall  f1-score   support\n",
            "\n",
            "        Draw       0.43      0.00      0.01       779\n",
            "        Lose       0.53      0.57      0.55       920\n",
            "         Win       0.61      0.87      0.72      1685\n",
            "\n",
            "    accuracy                           0.59      3384\n",
            "   macro avg       0.52      0.48      0.42      3384\n",
            "weighted avg       0.55      0.59      0.51      3384\n",
            "\n"
          ]
        }
      ],
      "source": [
        "# show the classification report of the model\n",
        "\n",
        "# import classification_report from sklearn.metrics\n",
        "from sklearn.metrics import classification_report\n",
        "\n",
        "# apply the imported classification_report to y_test and y_pred to get the classification report of our model\n",
        "print(classification_report(y_test, y_pred))"
      ]
    },
    {
      "cell_type": "markdown",
      "metadata": {
        "id": "o7AKb9FO2Hp0"
      },
      "source": [
        "The classification report shows that the model predicts wins better than losses and draws, and that it is poor at predicting draws. "
      ]
    },
    {
      "cell_type": "markdown",
      "metadata": {
        "id": "cye46JmEd1qQ"
      },
      "source": [
        "#### Hyperparameter tuning"
      ]
    },
    {
      "cell_type": "markdown",
      "metadata": {
        "id": "m1NosnGqd82g"
      },
      "source": [
        "To improve the performance of the model we will perform hyperparameter tuning using grid search"
      ]
    },
    {
      "cell_type": "code",
      "execution_count": 113,
      "metadata": {
        "id": "to9HNkYpTl6Q"
      },
      "outputs": [],
      "source": [
        "# create and instantiate logistic regression \n",
        "logistic = LogisticRegression(solver='newton-cg')\n",
        "\n",
        "# create penalty regularization space\n",
        "penalty = ['l1', 'l2', 'none', 'saga']\n",
        "\n",
        "# create C regularization  space\n",
        "C = [.001,.01, .1, 1,10,100,1000]\n",
        "\n",
        "# create a dictionary of all the parameters and their corresponding set of values that we want to test for best performance\n",
        "hyperparameters = dict(C=C, penalty=penalty)"
      ]
    },
    {
      "cell_type": "code",
      "execution_count": 114,
      "metadata": {
        "id": "6yjW29NJTyvk"
      },
      "outputs": [],
      "source": [
        "# import grid search for the tuning\n",
        "from sklearn.model_selection import GridSearchCV\n",
        "\n",
        "# create an instance of the GridSearchCV class then pass values for the estimator parameter. \n",
        "# the values include the algorithm that we want to execute, the parameter dictionary we have created, the cv parameter which corresponds to number of folds, and finally \n",
        "# the n_jobs parameter which refers to the number of CPU's that we want to use for execution. n_jobs=-1 parameter means using all the available computing power.\n",
        "clf = GridSearchCV(logistic, hyperparameters, cv=5, verbose=0, n_jobs=-1)"
      ]
    },
    {
      "cell_type": "code",
      "execution_count": 115,
      "metadata": {
        "id": "x8mM5t73T1jp",
        "colab": {
          "base_uri": "https://localhost:8080/"
        },
        "outputId": "12a4824c-04da-4ee2-f885-d35622be6aa4"
      },
      "outputs": [
        {
          "output_type": "stream",
          "name": "stderr",
          "text": [
            "/usr/local/lib/python3.7/dist-packages/sklearn/model_selection/_validation.py:372: FitFailedWarning: \n",
            "70 fits failed out of a total of 140.\n",
            "The score on these train-test partitions for these parameters will be set to nan.\n",
            "If these failures are not expected, you can try to debug them by setting error_score='raise'.\n",
            "\n",
            "Below are more details about the failures:\n",
            "--------------------------------------------------------------------------------\n",
            "35 fits failed with the following error:\n",
            "Traceback (most recent call last):\n",
            "  File \"/usr/local/lib/python3.7/dist-packages/sklearn/model_selection/_validation.py\", line 680, in _fit_and_score\n",
            "    estimator.fit(X_train, y_train, **fit_params)\n",
            "  File \"/usr/local/lib/python3.7/dist-packages/sklearn/linear_model/_logistic.py\", line 1461, in fit\n",
            "    solver = _check_solver(self.solver, self.penalty, self.dual)\n",
            "  File \"/usr/local/lib/python3.7/dist-packages/sklearn/linear_model/_logistic.py\", line 449, in _check_solver\n",
            "    % (solver, penalty)\n",
            "ValueError: Solver newton-cg supports only 'l2' or 'none' penalties, got l1 penalty.\n",
            "\n",
            "--------------------------------------------------------------------------------\n",
            "35 fits failed with the following error:\n",
            "Traceback (most recent call last):\n",
            "  File \"/usr/local/lib/python3.7/dist-packages/sklearn/model_selection/_validation.py\", line 680, in _fit_and_score\n",
            "    estimator.fit(X_train, y_train, **fit_params)\n",
            "  File \"/usr/local/lib/python3.7/dist-packages/sklearn/linear_model/_logistic.py\", line 1461, in fit\n",
            "    solver = _check_solver(self.solver, self.penalty, self.dual)\n",
            "  File \"/usr/local/lib/python3.7/dist-packages/sklearn/linear_model/_logistic.py\", line 443, in _check_solver\n",
            "    % (all_penalties, penalty)\n",
            "ValueError: Logistic Regression supports only penalties in ['l1', 'l2', 'elasticnet', 'none'], got saga.\n",
            "\n",
            "  warnings.warn(some_fits_failed_message, FitFailedWarning)\n",
            "/usr/local/lib/python3.7/dist-packages/sklearn/model_selection/_search.py:972: UserWarning: One or more of the test scores are non-finite: [       nan 0.57322299 0.57418371        nan        nan 0.57366648\n",
            " 0.57418371        nan        nan 0.57425759 0.57418371        nan\n",
            "        nan 0.57418371 0.57418371        nan        nan 0.57418371\n",
            " 0.57418371        nan        nan 0.57418371 0.57418371        nan\n",
            "        nan 0.57418371 0.57418371        nan]\n",
            "  category=UserWarning,\n"
          ]
        }
      ],
      "source": [
        "# fit the created grid search to the training data\n",
        "best_model = clf.fit(X_train, y_train)"
      ]
    },
    {
      "cell_type": "code",
      "execution_count": 116,
      "metadata": {
        "colab": {
          "base_uri": "https://localhost:8080/"
        },
        "id": "XmsJNimlT4DI",
        "outputId": "da33c27d-13f0-45fc-bb24-d951b11c2daa"
      },
      "outputs": [
        {
          "output_type": "stream",
          "name": "stdout",
          "text": [
            "Best Penalty: l2\n",
            "Best C: 0.1\n"
          ]
        }
      ],
      "source": [
        "# view the best values of the hyperparameters\n",
        "print('Best Penalty:', best_model.best_estimator_.get_params()['penalty'])\n",
        "print('Best C:', best_model.best_estimator_.get_params()['C'])"
      ]
    },
    {
      "cell_type": "code",
      "execution_count": 117,
      "metadata": {
        "colab": {
          "base_uri": "https://localhost:8080/",
          "height": 363
        },
        "id": "jNsVUD3CEzhb",
        "outputId": "5b2ec549-74c8-46c5-8d57-1187b9455ba6"
      },
      "outputs": [
        {
          "output_type": "execute_result",
          "data": {
            "text/plain": [
              "     Prediction Actual\n",
              "285        Lose   Lose\n",
              "3872       Lose   Lose\n",
              "8704       Lose   Lose\n",
              "5329        Win   Draw\n",
              "5984        Win    Win\n",
              "2146       Lose   Lose\n",
              "1153       Lose   Draw\n",
              "6695        Win   Draw\n",
              "2746        Win   Lose\n",
              "938        Lose   Lose"
            ],
            "text/html": [
              "\n",
              "  <div id=\"df-282c2915-cad9-4c2b-a5b6-f2cb417a22ae\">\n",
              "    <div class=\"colab-df-container\">\n",
              "      <div>\n",
              "<style scoped>\n",
              "    .dataframe tbody tr th:only-of-type {\n",
              "        vertical-align: middle;\n",
              "    }\n",
              "\n",
              "    .dataframe tbody tr th {\n",
              "        vertical-align: top;\n",
              "    }\n",
              "\n",
              "    .dataframe thead th {\n",
              "        text-align: right;\n",
              "    }\n",
              "</style>\n",
              "<table border=\"1\" class=\"dataframe\">\n",
              "  <thead>\n",
              "    <tr style=\"text-align: right;\">\n",
              "      <th></th>\n",
              "      <th>Prediction</th>\n",
              "      <th>Actual</th>\n",
              "    </tr>\n",
              "  </thead>\n",
              "  <tbody>\n",
              "    <tr>\n",
              "      <th>285</th>\n",
              "      <td>Lose</td>\n",
              "      <td>Lose</td>\n",
              "    </tr>\n",
              "    <tr>\n",
              "      <th>3872</th>\n",
              "      <td>Lose</td>\n",
              "      <td>Lose</td>\n",
              "    </tr>\n",
              "    <tr>\n",
              "      <th>8704</th>\n",
              "      <td>Lose</td>\n",
              "      <td>Lose</td>\n",
              "    </tr>\n",
              "    <tr>\n",
              "      <th>5329</th>\n",
              "      <td>Win</td>\n",
              "      <td>Draw</td>\n",
              "    </tr>\n",
              "    <tr>\n",
              "      <th>5984</th>\n",
              "      <td>Win</td>\n",
              "      <td>Win</td>\n",
              "    </tr>\n",
              "    <tr>\n",
              "      <th>2146</th>\n",
              "      <td>Lose</td>\n",
              "      <td>Lose</td>\n",
              "    </tr>\n",
              "    <tr>\n",
              "      <th>1153</th>\n",
              "      <td>Lose</td>\n",
              "      <td>Draw</td>\n",
              "    </tr>\n",
              "    <tr>\n",
              "      <th>6695</th>\n",
              "      <td>Win</td>\n",
              "      <td>Draw</td>\n",
              "    </tr>\n",
              "    <tr>\n",
              "      <th>2746</th>\n",
              "      <td>Win</td>\n",
              "      <td>Lose</td>\n",
              "    </tr>\n",
              "    <tr>\n",
              "      <th>938</th>\n",
              "      <td>Lose</td>\n",
              "      <td>Lose</td>\n",
              "    </tr>\n",
              "  </tbody>\n",
              "</table>\n",
              "</div>\n",
              "      <button class=\"colab-df-convert\" onclick=\"convertToInteractive('df-282c2915-cad9-4c2b-a5b6-f2cb417a22ae')\"\n",
              "              title=\"Convert this dataframe to an interactive table.\"\n",
              "              style=\"display:none;\">\n",
              "        \n",
              "  <svg xmlns=\"http://www.w3.org/2000/svg\" height=\"24px\"viewBox=\"0 0 24 24\"\n",
              "       width=\"24px\">\n",
              "    <path d=\"M0 0h24v24H0V0z\" fill=\"none\"/>\n",
              "    <path d=\"M18.56 5.44l.94 2.06.94-2.06 2.06-.94-2.06-.94-.94-2.06-.94 2.06-2.06.94zm-11 1L8.5 8.5l.94-2.06 2.06-.94-2.06-.94L8.5 2.5l-.94 2.06-2.06.94zm10 10l.94 2.06.94-2.06 2.06-.94-2.06-.94-.94-2.06-.94 2.06-2.06.94z\"/><path d=\"M17.41 7.96l-1.37-1.37c-.4-.4-.92-.59-1.43-.59-.52 0-1.04.2-1.43.59L10.3 9.45l-7.72 7.72c-.78.78-.78 2.05 0 2.83L4 21.41c.39.39.9.59 1.41.59.51 0 1.02-.2 1.41-.59l7.78-7.78 2.81-2.81c.8-.78.8-2.07 0-2.86zM5.41 20L4 18.59l7.72-7.72 1.47 1.35L5.41 20z\"/>\n",
              "  </svg>\n",
              "      </button>\n",
              "      \n",
              "  <style>\n",
              "    .colab-df-container {\n",
              "      display:flex;\n",
              "      flex-wrap:wrap;\n",
              "      gap: 12px;\n",
              "    }\n",
              "\n",
              "    .colab-df-convert {\n",
              "      background-color: #E8F0FE;\n",
              "      border: none;\n",
              "      border-radius: 50%;\n",
              "      cursor: pointer;\n",
              "      display: none;\n",
              "      fill: #1967D2;\n",
              "      height: 32px;\n",
              "      padding: 0 0 0 0;\n",
              "      width: 32px;\n",
              "    }\n",
              "\n",
              "    .colab-df-convert:hover {\n",
              "      background-color: #E2EBFA;\n",
              "      box-shadow: 0px 1px 2px rgba(60, 64, 67, 0.3), 0px 1px 3px 1px rgba(60, 64, 67, 0.15);\n",
              "      fill: #174EA6;\n",
              "    }\n",
              "\n",
              "    [theme=dark] .colab-df-convert {\n",
              "      background-color: #3B4455;\n",
              "      fill: #D2E3FC;\n",
              "    }\n",
              "\n",
              "    [theme=dark] .colab-df-convert:hover {\n",
              "      background-color: #434B5C;\n",
              "      box-shadow: 0px 1px 3px 1px rgba(0, 0, 0, 0.15);\n",
              "      filter: drop-shadow(0px 1px 2px rgba(0, 0, 0, 0.3));\n",
              "      fill: #FFFFFF;\n",
              "    }\n",
              "  </style>\n",
              "\n",
              "      <script>\n",
              "        const buttonEl =\n",
              "          document.querySelector('#df-282c2915-cad9-4c2b-a5b6-f2cb417a22ae button.colab-df-convert');\n",
              "        buttonEl.style.display =\n",
              "          google.colab.kernel.accessAllowed ? 'block' : 'none';\n",
              "\n",
              "        async function convertToInteractive(key) {\n",
              "          const element = document.querySelector('#df-282c2915-cad9-4c2b-a5b6-f2cb417a22ae');\n",
              "          const dataTable =\n",
              "            await google.colab.kernel.invokeFunction('convertToInteractive',\n",
              "                                                     [key], {});\n",
              "          if (!dataTable) return;\n",
              "\n",
              "          const docLinkHtml = 'Like what you see? Visit the ' +\n",
              "            '<a target=\"_blank\" href=https://colab.research.google.com/notebooks/data_table.ipynb>data table notebook</a>'\n",
              "            + ' to learn more about interactive tables.';\n",
              "          element.innerHTML = '';\n",
              "          dataTable['output_type'] = 'display_data';\n",
              "          await google.colab.output.renderOutput(dataTable, element);\n",
              "          const docLink = document.createElement('div');\n",
              "          docLink.innerHTML = docLinkHtml;\n",
              "          element.appendChild(docLink);\n",
              "        }\n",
              "      </script>\n",
              "    </div>\n",
              "  </div>\n",
              "  "
            ]
          },
          "metadata": {},
          "execution_count": 117
        }
      ],
      "source": [
        "# obtain the tuned model's predictions of the 'match_status' based on X_test \n",
        "y_prediction=best_model.predict(X_test)\n",
        "\n",
        "# create a dataframe that compares the actual output values for X_test with the predicted values\n",
        "df2 = pd.DataFrame({'Prediction': y_prediction, 'Actual': y_test})# the y_pred is a numpy array that contains all the predicted values\n",
        "\n",
        "# display top 10 records in the comparison dataframe\n",
        "df.head(10)"
      ]
    },
    {
      "cell_type": "code",
      "execution_count": 118,
      "metadata": {
        "colab": {
          "base_uri": "https://localhost:8080/"
        },
        "id": "JcxQBW6cU5iS",
        "outputId": "8fa809e7-d1a7-40c4-e4bd-2fc9e12e002e"
      },
      "outputs": [
        {
          "output_type": "stream",
          "name": "stdout",
          "text": [
            "Accuracy:  0.5880614657210402\n",
            "\n",
            "Confusion Matrix\n",
            "[[   5  245  529]\n",
            " [   5  523  392]\n",
            " [   2  221 1462]]\n"
          ]
        }
      ],
      "source": [
        "# use accuracy_score function to compute the accuracy of the tuned algorithm by finding the proportion of correct predictions\n",
        "accuracy1 = accuracy_score(y_test, y_prediction)\n",
        "# print the accuracy value\n",
        "print('Accuracy: ', accuracy1)\n",
        "\n",
        "print(\"\")\n",
        "\n",
        "# import confusion_matrix to be used in creating a confusion matrix of the predictions\n",
        "from sklearn.metrics import confusion_matrix\n",
        "\n",
        "# apply confusion matrix to y_test and y_prediction to obtain number of correct and wrong predictions per category\n",
        "confusion_matrix1 = confusion_matrix(y_test, y_prediction)\n",
        "# print the matrix\n",
        "print('Confusion Matrix') \n",
        "print(confusion_matrix1)"
      ]
    },
    {
      "cell_type": "markdown",
      "metadata": {
        "id": "_V4-TokrX7yG"
      },
      "source": [
        "After hyperparameter tuning the model's accuracy has remained the same at 58.81%. The confusion matrix shows  that the distribution has changed even though the accuracy of the model hasn't. The model is still poor at predicting 'draws'."
      ]
    },
    {
      "cell_type": "code",
      "execution_count": 119,
      "metadata": {
        "colab": {
          "base_uri": "https://localhost:8080/"
        },
        "id": "nitJD2cf4HR1",
        "outputId": "79e397a2-1143-49d2-d409-2e295d77384b"
      },
      "outputs": [
        {
          "output_type": "stream",
          "name": "stdout",
          "text": [
            "              precision    recall  f1-score   support\n",
            "\n",
            "        Draw       0.42      0.01      0.01       779\n",
            "        Lose       0.53      0.57      0.55       920\n",
            "         Win       0.61      0.87      0.72      1685\n",
            "\n",
            "    accuracy                           0.59      3384\n",
            "   macro avg       0.52      0.48      0.43      3384\n",
            "weighted avg       0.55      0.59      0.51      3384\n",
            "\n"
          ]
        }
      ],
      "source": [
        "# show the classification report of the model\n",
        "\n",
        "# import classification_report from sklearn.metrics\n",
        "from sklearn.metrics import classification_report\n",
        "\n",
        "# apply the imported classification_report to y_test and y_prediction to get the classification report of our tuned model\n",
        "print(classification_report(y_test, y_prediction))"
      ]
    },
    {
      "cell_type": "markdown",
      "metadata": {
        "id": "mGN1oy2f4SkJ"
      },
      "source": [
        "The classification report shows that the model is better at predicting wins than it is at predicting losses and draws. The precision in detecting draws has reduced by 1%"
      ]
    },
    {
      "cell_type": "markdown",
      "metadata": {
        "id": "Q4jrF16OEskL"
      },
      "source": [
        "#### **Conclusion**  \n",
        "The nature of our features (ordinal and nominal data) was appropriate  in logistic regression modelling.\n",
        "\n",
        "However the models' accuracy of approximately 58.81% came below our deisired 80% stated in our success metrics.\n",
        " \n",
        "The model's low predictions of 'draws' is partially low. This could be due to class imbalance that can be balanced in subsequent models. "
      ]
    }
  ],
  "metadata": {
    "colab": {
      "collapsed_sections": [],
      "name": "Moringa_Data_Science_Core_W6_Independent_Project_2022_06_Moureen_Mungai_Python_Notebook.ipynb",
      "provenance": [],
      "include_colab_link": true
    },
    "kernelspec": {
      "display_name": "Python 3",
      "name": "python3"
    },
    "language_info": {
      "name": "python"
    }
  },
  "nbformat": 4,
  "nbformat_minor": 0
}